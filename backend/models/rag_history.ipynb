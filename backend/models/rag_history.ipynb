{
 "cells": [
  {
   "cell_type": "markdown",
   "metadata": {},
   "source": [
    "# 이전 대화를 기억하는 Chain 생성방법\n",
    "\n",
    "이 내용을 이해하기 위한 사전 지식\n",
    "- `RunnableWithMessageHistory`: [https://wikidocs.net/235581](https://wikidocs.net/235581)"
   ]
  },
  {
   "cell_type": "code",
   "execution_count": 1,
   "metadata": {},
   "outputs": [
    {
     "data": {
      "text/plain": [
       "True"
      ]
     },
     "execution_count": 1,
     "metadata": {},
     "output_type": "execute_result"
    }
   ],
   "source": [
    "# API KEY를 환경변수로 관리하기 위한 설정 파일\n",
    "from dotenv import load_dotenv\n",
    "\n",
    "# API KEY 정보로드\n",
    "load_dotenv()"
   ]
  },
  {
   "cell_type": "code",
   "execution_count": 2,
   "metadata": {},
   "outputs": [
    {
     "name": "stdout",
     "output_type": "stream",
     "text": [
      "LangSmith 추적을 시작합니다.\n",
      "[프로젝트명]\n",
      "CH12-RAG\n"
     ]
    }
   ],
   "source": [
    "# LangSmith 추적을 설정합니다. https://smith.langchain.com\n",
    "# !pip install langchain-teddynote\n",
    "from langchain_teddynote import logging\n",
    "\n",
    "# 프로젝트 이름을 입력합니다.\n",
    "logging.langsmith(\"CH12-RAG\")"
   ]
  },
  {
   "cell_type": "markdown",
   "metadata": {},
   "source": [
    "## 1. 일반 Chain 에 대화기록 추가"
   ]
  },
  {
   "cell_type": "code",
   "execution_count": 7,
   "metadata": {},
   "outputs": [],
   "source": [
    "import os"
   ]
  },
  {
   "cell_type": "code",
   "execution_count": 8,
   "metadata": {},
   "outputs": [],
   "source": [
    "from langchain_upstage import ChatUpstage, UpstageEmbeddings"
   ]
  },
  {
   "cell_type": "code",
   "execution_count": 9,
   "metadata": {},
   "outputs": [],
   "source": [
    "from langchain_core.prompts import ChatPromptTemplate, MessagesPlaceholder\n",
    "from langchain_community.chat_message_histories import ChatMessageHistory\n",
    "from langchain_core.chat_history import BaseChatMessageHistory\n",
    "from langchain_core.runnables.history import RunnableWithMessageHistory\n",
    "from langchain_openai import ChatOpenAI\n",
    "from langchain_core.output_parsers import StrOutputParser\n",
    "\n",
    "\n",
    "# 프롬프트 정의\n",
    "prompt = ChatPromptTemplate.from_messages(\n",
    "    [\n",
    "        (\n",
    "            \"system\",\n",
    "            \"당신은 병원 AI 지원 시스템입니다. 보호자 또는 환자가 의료 상태에 대해 질문할 때, 환자의 최신 의료 기록을 바탕으로 적절한 답변을 제공해주세요.\",\n",
    "        ),\n",
    "        # 대화기록용 key 인 chat_history 는 가급적 변경 없이 사용하세요!\n",
    "        MessagesPlaceholder(variable_name=\"chat_history\"),\n",
    "        (\"human\", \"#Question:\\n{question}\"),  # 사용자 입력을 변수로 사용\n",
    "    ]\n",
    ")\n",
    "\n",
    "# llm 생성\n",
    "llm = ChatUpstage(temperature=0, api_key=os.getenv(\"UPSTAGE_API_KEY\"))\n",
    "\n",
    "# 일반 Chain 생성\n",
    "chain = prompt | llm | StrOutputParser()"
   ]
  },
  {
   "cell_type": "markdown",
   "metadata": {},
   "source": [
    "대화를 기록하는 체인 생성(`chain_with_history`)"
   ]
  },
  {
   "cell_type": "code",
   "execution_count": 16,
   "metadata": {},
   "outputs": [],
   "source": [
    "# 세션 기록을 저장할 딕셔너리\n",
    "store = {}\n",
    "\n",
    "\n",
    "# 세션 ID를 기반으로 세션 기록을 가져오는 함수\n",
    "def get_session_history(session_ids):\n",
    "    print(f\"[대화 세션ID]: {session_ids}\")\n",
    "    if session_ids not in store:  # 세션 ID가 store에 없는 경우\n",
    "        # 새로운 ChatMessageHistory 객체를 생성하여 store에 저장\n",
    "        store[session_ids] = ChatMessageHistory()\n",
    "    return store[session_ids]  # 해당 세션 ID에 대한 세션 기록 반환\n",
    "\n",
    "\n",
    "chain_with_history = RunnableWithMessageHistory(\n",
    "    chain,\n",
    "    get_session_history,  # 세션 기록을 가져오는 함수\n",
    "    input_messages_key=\"question\",  # 사용자의 질문이 템플릿 변수에 들어갈 key\n",
    "    history_messages_key=\"chat_history\",  # 기록 메시지의 키\n",
    ")"
   ]
  },
  {
   "cell_type": "markdown",
   "metadata": {},
   "source": [
    "첫 번째 질문 실행"
   ]
  },
  {
   "cell_type": "code",
   "execution_count": 17,
   "metadata": {},
   "outputs": [
    {
     "name": "stdout",
     "output_type": "stream",
     "text": [
      "[대화 세션ID]: 남A\n"
     ]
    },
    {
     "data": {
      "text/plain": [
       "'안녕하세요, 김성연님. 저는 AI 지원 시스템입니다. 어떤 의료 관련 질문이 있으신가요?'"
      ]
     },
     "execution_count": 17,
     "metadata": {},
     "output_type": "execute_result"
    }
   ],
   "source": [
    "chain_with_history.invoke(\n",
    "    # 질문 입력\n",
    "    {\"question\": \"제 이름은 김성연입니다\"},\n",
    "    # 세션 ID 기준으로 대화를 기록합니다.\n",
    "    config={\"configurable\": {\"session_id\": \"남A\"}},\n",
    ")"
   ]
  },
  {
   "cell_type": "markdown",
   "metadata": {},
   "source": [
    "이어서 질문 실행"
   ]
  },
  {
   "cell_type": "code",
   "execution_count": 24,
   "metadata": {},
   "outputs": [
    {
     "name": "stdout",
     "output_type": "stream",
     "text": [
      "[대화 세션ID]: 남A\n"
     ]
    },
    {
     "data": {
      "text/plain": [
       "'죄송합니다, 김성연님. 제가 이해하지 못한 것 같습니다. 다른 질문이 있으시면 도와드릴 수 있을까요?'"
      ]
     },
     "execution_count": 24,
     "metadata": {},
     "output_type": "execute_result"
    }
   ],
   "source": [
    "chain_with_history.invoke(\n",
    "    # 질문 입력\n",
    "    {\"question\": \"내 이름을 알려줘\"},\n",
    "    # 세션 ID 기준으로 대화를 기록합니다.\n",
    "    config={\"configurable\": {\"session_id\": patient_id}},\n",
    ")"
   ]
  },
  {
   "cell_type": "markdown",
   "metadata": {},
   "source": [
    "## 2. RAG + RunnableWithMessageHistory"
   ]
  },
  {
   "cell_type": "markdown",
   "metadata": {},
   "source": [
    "먼저 일반 RAG Chain 을 생성합니다. 단, 6단계의 prompt 에 `{chat_history}` 를 꼭 추가합니다."
   ]
  },
  {
   "cell_type": "code",
   "execution_count": 62,
   "metadata": {},
   "outputs": [],
   "source": [
    "patient_id = \"여A\""
   ]
  },
  {
   "cell_type": "code",
   "execution_count": 63,
   "metadata": {},
   "outputs": [],
   "source": [
    "from langchain_text_splitters import RecursiveCharacterTextSplitter\n",
    "from langchain_community.document_loaders import PDFPlumberLoader\n",
    "from langchain_community.vectorstores import FAISS\n",
    "from langchain_core.output_parsers import StrOutputParser\n",
    "from langchain_core.prompts import PromptTemplate\n",
    "from langchain_openai import ChatOpenAI, OpenAIEmbeddings\n",
    "from langchain_community.chat_message_histories import ChatMessageHistory\n",
    "from langchain_core.runnables.history import RunnableWithMessageHistory\n",
    "from langchain_openai import ChatOpenAI\n",
    "from langchain_core.output_parsers import StrOutputParser\n",
    "from operator import itemgetter\n",
    "from langchain.vectorstores import Chroma\n",
    "\n",
    "\n",
    "patient_id = \"여A\"\n",
    "\n",
    "# Embeddings setup\n",
    "embeddings = UpstageEmbeddings(\n",
    "  api_key=os.getenv(\"UPSTAGE_API_KEY\"),\n",
    "  model=\"solar-embedding-1-large\"\n",
    ")\n",
    "\n",
    "vectordb = Chroma(\n",
    "    persist_directory=f'.cache/db/{patient_id}',\n",
    "    embedding_function=embeddings\n",
    ")\n",
    "\n",
    "\n",
    "retriever = vectordb.as_retriever()\n",
    "\n",
    "# 단계 6: 프롬프트 생성(Create Prompt)\n",
    "\n",
    "template =\"\"\"You are a compassionate, articulate physician.\n",
    "Your goal is to explain medical information in a way that is easy for your patients to understand, avoiding complex medical jargon as much as possible.\n",
    "Given a medical document, it's your job to explain the key information that the patient or their family asks about in a patient-friendly format. \n",
    "When specific details are provided, such as diagnosis codes or medical history, simplify these terms and explain them in a way that is easy to understand.\n",
    "\n",
    "If you don't know the answer, just say that you don't know.\n",
    "\n",
    "Don't say what is in the history.\n",
    "\n",
    "Answer in Korean.\n",
    "\n",
    "#Previous Chat History:\n",
    "{chat_history}\n",
    "\n",
    "#Question: \n",
    "{question} \n",
    "\n",
    "#Document:\n",
    "{context}\n",
    "\n",
    "\n",
    "#Answer:\"\"\"\n",
    "\n",
    "\n",
    "prompt = PromptTemplate.from_template(template)\n",
    "\n",
    "# 단계 7: 언어모델(LLM) 생성\n",
    "# 모델(LLM) 을 생성합니다.\n",
    "llm = ChatUpstage(api_key=os.getenv(\"UPSTAGE_API_KEY\"))\n",
    "\n",
    "# 단계 8: 체인(Chain) 생성\n",
    "chain = (\n",
    "    {\n",
    "        \"context\": itemgetter(\"question\") | retriever,\n",
    "        \"question\": itemgetter(\"question\"),\n",
    "        \"chat_history\": itemgetter(\"chat_history\"),\n",
    "    }\n",
    "    | prompt\n",
    "    | llm\n",
    "    | StrOutputParser()\n",
    ")"
   ]
  },
  {
   "cell_type": "markdown",
   "metadata": {},
   "source": [
    "대화를 저장할 함수 정의"
   ]
  },
  {
   "cell_type": "code",
   "execution_count": 69,
   "metadata": {},
   "outputs": [],
   "source": [
    "# 세션 기록을 저장할 딕셔너리\n",
    "store = {}\n",
    "\n",
    "\n",
    "# 세션 ID를 기반으로 세션 기록을 가져오는 함수\n",
    "def get_session_history(session_ids):\n",
    "    print(f\"[대화 세션ID]: {session_ids}\")\n",
    "    if session_ids not in store:  # 세션 ID가 store에 없는 경우\n",
    "        # 새로운 ChatMessageHistory 객체를 생성하여 store에 저장\n",
    "        store[session_ids] = ChatMessageHistory()\n",
    "    return store[session_ids]  # 해당 세션 ID에 대한 세션 기록 반환\n",
    "\n",
    "\n",
    "# 대화를 기록하는 RAG 체인 생성\n",
    "rag_with_history = RunnableWithMessageHistory(\n",
    "    chain,\n",
    "    get_session_history,  # 세션 기록을 가져오는 함수\n",
    "    input_messages_key=\"question\",  # 사용자의 질문이 템플릿 변수에 들어갈 key\n",
    "    history_messages_key=\"chat_history\",  # 기록 메시지의 키\n",
    ")"
   ]
  },
  {
   "cell_type": "code",
   "execution_count": 70,
   "metadata": {},
   "outputs": [
    {
     "data": {
      "text/plain": [
       "{}"
      ]
     },
     "execution_count": 70,
     "metadata": {},
     "output_type": "execute_result"
    }
   ],
   "source": [
    "store"
   ]
  },
  {
   "cell_type": "markdown",
   "metadata": {},
   "source": [
    "첫 번째 질문 실행"
   ]
  },
  {
   "cell_type": "code",
   "execution_count": 71,
   "metadata": {},
   "outputs": [
    {
     "name": "stdout",
     "output_type": "stream",
     "text": [
      "[대화 세션ID]: rag123\n"
     ]
    },
    {
     "data": {
      "text/plain": [
       "'어머니의 상태는 현재 의료진의 관찰과 치료를 받고 계십니다. 어머니는 91세의 여성으로, 516호에 입원 중이십니다. 어머니는 대소변 조절이 어려우셔서 기저귀를 착용하고 계시며, 본원 에어매트를 사용하고 계십니다. 어머니는 정서적인 어려움을 겪고 계시며, \"이렇게 살아서 뭐하나, 죽고 싶다\"라는 표현을 하셨습니다. 또한, 어머니는 공격적인 언어를 사용하며, 옆에 있는 환자와의 대화를 혼동하는 경우가 있습니다. 의료진은 어머니의 상태를 지속적으로 관찰하고, 필요한 조치를 취하고 있습니다.'"
      ]
     },
     "execution_count": 71,
     "metadata": {},
     "output_type": "execute_result"
    }
   ],
   "source": [
    "rag_with_history.invoke(\n",
    "    # 질문 입력\n",
    "    {\"question\": \"어머니 상태는 어떠신가요?\"},\n",
    "    # 세션 ID 기준으로 대화를 기록합니다.\n",
    "    config={\"configurable\": {\"session_id\": \"rag123\"}},\n",
    ")"
   ]
  },
  {
   "cell_type": "markdown",
   "metadata": {},
   "source": [
    "이어진 질문 실행"
   ]
  },
  {
   "cell_type": "code",
   "execution_count": 72,
   "metadata": {},
   "outputs": [
    {
     "name": "stdout",
     "output_type": "stream",
     "text": [
      "[대화 세션ID]: rag123\n"
     ]
    },
    {
     "data": {
      "text/plain": [
       "'어머니의 건강 상태에 대해 더 자세히 알고 싶으신 내용이 있나요?'"
      ]
     },
     "execution_count": 72,
     "metadata": {},
     "output_type": "execute_result"
    }
   ],
   "source": [
    "rag_with_history.invoke(\n",
    "    # 질문 입력\n",
    "    {\"question\": \"말한거 말고 다른 문제는 없으신가요?\"},\n",
    "    # 세션 ID 기준으로 대화를 기록합니다.\n",
    "    config={\"configurable\": {\"session_id\": \"rag123\"}},\n",
    ")"
   ]
  },
  {
   "cell_type": "code",
   "execution_count": 73,
   "metadata": {},
   "outputs": [
    {
     "name": "stdout",
     "output_type": "stream",
     "text": [
      "[대화 세션ID]: rag123\n"
     ]
    },
    {
     "data": {
      "text/plain": [
       "'어머니께서는 약을 잘 드시고 계십니다. 어머니께서는 아침과 저녁에 레바미피드와 마그밀정을 복용하고 계시며, 아침과 저녁에 아니스펜8시간이알서방정, 아세틸캡슐, 인데놀정10mg, 하이페질정5mg, 텔미로탄정을 복용하고 계십니다. 어머니께서는 아침, 점심, 저녁에 마그밀정을 복용하고 계십니다. 어머니께서는 아침에 마그밀정500mg, 아니스펜8시간이알서방정, 아세틸캡슐, 인데놀정10mg, 하이페질정5mg, 텔미로탄정을 복용하고 계십니다. 어머니께서는 저녁에 마그밀정500mg, 아니스펜8시간이알서방정, 아세틸캡슐, 인데놀정10mg, 하이페질정5mg, 텔미로탄정을 복용하고 계십니다. 어머니께서는 아침, 점심, 저녁에 일반식을 드시고 계십니다.'"
      ]
     },
     "execution_count": 73,
     "metadata": {},
     "output_type": "execute_result"
    }
   ],
   "source": [
    "rag_with_history.invoke(\n",
    "    # 질문 입력\n",
    "    {\"question\": \"약은 잘 드시는지 궁금합니다.\"},\n",
    "    # 세션 ID 기준으로 대화를 기록합니다.\n",
    "    config={\"configurable\": {\"session_id\": \"rag123\"}},\n",
    ")"
   ]
  },
  {
   "cell_type": "code",
   "execution_count": 60,
   "metadata": {},
   "outputs": [
    {
     "data": {
      "text/plain": [
       "{'rag123': InMemoryChatMessageHistory(messages=[HumanMessage(content='아버지 상태는 어떠신가요?'), AIMessage(content='아버님의 상태는 현재 몸이 약하시고, 스스로 움직이기 어려워서 다른 사람들의 도움이 필요합니다. 옷 입기, 세수하기, 양치하기, 목욕하기, 식사하기, 체위 변경하기, 일어나 앉기, 이동하기, 화장실 사용 등에 도움이 필요합니다. 또한, 의자나 휠체어로 이동하고, G-weakness로 인해 도움이 필요한 상태입니다. 의료진들은 아버님의 상태를 관찰하고, 필요한 조치를 취하고 있습니다.'), HumanMessage(content='말한거 말고 다른 문제는 없으신가요?'), AIMessage(content='아버님의 상태는 현재 몸이 약하시고, 스스로 움직이기 어려워서 다른 사람들의 도움이 필요합니다. 옷 입기, 세수하기, 양치하기, 목욕하기, 식사하기, 체위 변경하기, 일어나 앉기, 이동하기, 화장실 사용 등에 도움이 필요합니다. 또한, 의자나 휠체어로 이동하고, G-weakness로 인해 도움이 필요한 상태입니다. 의료진들은 아버님의 상태를 관찰하고, 필요한 조치를 취하고 있습니다.'), HumanMessage(content='지금 대화를 요약해주세요'), AIMessage(content='아버지의 건강 상태에 대해 대화를 나누었던 것 같습니다. 아버지는 몸이 약해져 스스로 움직이기 어려운 상태이며, 옷 입기, 세수하기, 양치하기, 목욕하기, 식사하기, 체위 변경하기, 일어나 앉기, 이동하기, 화장실 사용 등에 도움이 필요합니다. 또한, 의자나 휠체어로 이동하며, G-weakness로 인해 도움이 필요한 상태입니다. 의료진들은 아버지의 상태를 관찰하고 적절한 조치를 취하고 있습니다.')])}"
      ]
     },
     "execution_count": 60,
     "metadata": {},
     "output_type": "execute_result"
    }
   ],
   "source": [
    "store\n"
   ]
  },
  {
   "cell_type": "code",
   "execution_count": 61,
   "metadata": {},
   "outputs": [
    {
     "name": "stdout",
     "output_type": "stream",
     "text": [
      "[대화 세션ID]: rag1234\n"
     ]
    },
    {
     "data": {
      "text/plain": [
       "'이 문서는 한 환자의 의료 기록을 요약한 것입니다. 이 환자는 77세 남성으로, 뇌내출혈과 수면장애 등의 진단을 받았으며, 폐렴과 고혈압 등의 합병증도 있습니다. 현재 항생제 치료를 받고 있으며, 경관식을 통해 영양을 공급받고 있습니다. 의료진은 환자의 상태를 지속적으로 모니터링하고 있으며, 환자의 상태를 개선하기 위해 노력하고 있습니다.'"
      ]
     },
     "execution_count": 61,
     "metadata": {},
     "output_type": "execute_result"
    }
   ],
   "source": [
    "rag_with_history.invoke(\n",
    "    # 질문 입력\n",
    "    {\"question\": \"요약해줘\"},\n",
    "    # 세션 ID 기준으로 대화를 기록합니다.\n",
    "    config={\"configurable\": {\"session_id\": \"rag1234\"}},\n",
    ")"
   ]
  },
  {
   "cell_type": "code",
   "execution_count": null,
   "metadata": {},
   "outputs": [],
   "source": []
  }
 ],
 "metadata": {
  "kernelspec": {
   "display_name": "langchain-kr-lwwSZlnu-py3.11",
   "language": "python",
   "name": "python3"
  },
  "language_info": {
   "codemirror_mode": {
    "name": "ipython",
    "version": 3
   },
   "file_extension": ".py",
   "mimetype": "text/x-python",
   "name": "python",
   "nbconvert_exporter": "python",
   "pygments_lexer": "ipython3",
   "version": "3.10.14"
  }
 },
 "nbformat": 4,
 "nbformat_minor": 2
}
