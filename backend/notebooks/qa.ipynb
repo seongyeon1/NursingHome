{
 "cells": [
  {
   "cell_type": "code",
   "execution_count": 1,
   "metadata": {},
   "outputs": [],
   "source": [
    "import pandas as pd"
   ]
  },
  {
   "cell_type": "code",
   "execution_count": 26,
   "metadata": {},
   "outputs": [],
   "source": [
    "qa = pd.read_csv('../data/qa.csv')"
   ]
  },
  {
   "cell_type": "code",
   "execution_count": 27,
   "metadata": {},
   "outputs": [
    {
     "data": {
      "text/html": [
       "<div>\n",
       "<style scoped>\n",
       "    .dataframe tbody tr th:only-of-type {\n",
       "        vertical-align: middle;\n",
       "    }\n",
       "\n",
       "    .dataframe tbody tr th {\n",
       "        vertical-align: top;\n",
       "    }\n",
       "\n",
       "    .dataframe thead th {\n",
       "        text-align: right;\n",
       "    }\n",
       "</style>\n",
       "<table border=\"1\" class=\"dataframe\">\n",
       "  <thead>\n",
       "    <tr style=\"text-align: right;\">\n",
       "      <th></th>\n",
       "      <th>question</th>\n",
       "      <th>answer</th>\n",
       "      <th>timestamp</th>\n",
       "      <th>Score(10점 만점)</th>\n",
       "      <th>Unnamed: 4</th>\n",
       "      <th>Unnamed: 5</th>\n",
       "      <th>Unnamed: 6</th>\n",
       "      <th>비고</th>\n",
       "    </tr>\n",
       "  </thead>\n",
       "  <tbody>\n",
       "    <tr>\n",
       "      <th>0</th>\n",
       "      <td>NaN</td>\n",
       "      <td>NaN</td>\n",
       "      <td>NaN</td>\n",
       "      <td>\b철환</td>\n",
       "      <td>지원</td>\n",
       "      <td>\b현철</td>\n",
       "      <td>후</td>\n",
       "      <td>NaN</td>\n",
       "    </tr>\n",
       "    <tr>\n",
       "      <th>1</th>\n",
       "      <td>증상이 어떤가요?</td>\n",
       "      <td>현재 증상에 대한 정보는 제공되지 않았습니다.</td>\n",
       "      <td>2024-07-26T05:32:36.402Z</td>\n",
       "      <td>5</td>\n",
       "      <td>점수</td>\n",
       "      <td>1</td>\n",
       "      <td>NaN</td>\n",
       "      <td>*점수기준*</td>\n",
       "    </tr>\n",
       "    <tr>\n",
       "      <th>2</th>\n",
       "      <td>수정답변(김철환)--&gt;</td>\n",
       "      <td>아버님의 입원당시 주증상은 편마비가 보였습니다. 현재의 증상은 내원 당시와 동일하면...</td>\n",
       "      <td>NaN</td>\n",
       "      <td>NaN</td>\n",
       "      <td>수정 코멘트</td>\n",
       "      <td>아버님께서 입원하실 때 주요 증상은 한 쪽 몸이 잘 움직이지 않는 편마비 증상이었습...</td>\n",
       "      <td>NaN</td>\n",
       "      <td>1-3점:잘못된 정보</td>\n",
       "    </tr>\n",
       "    <tr>\n",
       "      <th>3</th>\n",
       "      <td>별이 보일때 어떻게 치료하나요?</td>\n",
       "      <td>별이 보이는 증상은 일반적으로 눈이 부신 상황이나 어두운 곳에서 밝은 빛을 볼 때 ...</td>\n",
       "      <td>2024-07-26T05:32:52.513Z</td>\n",
       "      <td>5</td>\n",
       "      <td>NaN</td>\n",
       "      <td>2</td>\n",
       "      <td>NaN</td>\n",
       "      <td>4-6점:정확한 정보</td>\n",
       "    </tr>\n",
       "    <tr>\n",
       "      <th>4</th>\n",
       "      <td>수정답변(김철환)--&gt;</td>\n",
       "      <td>아버님의 상태는 안정적이며 별이 보이는 증상을 보이지는 않습니다.  의료진이 계속 ...</td>\n",
       "      <td>NaN</td>\n",
       "      <td>NaN</td>\n",
       "      <td>NaN</td>\n",
       "      <td>현재 아버님의 경우 별이 보이는 증상이 나타나지는 않고 있습니다. 눈에 별이 보이는...</td>\n",
       "      <td>NaN</td>\n",
       "      <td>7-10점: 정확한 정보와 이해하기 쉽고 친절하게 설명한 정보</td>\n",
       "    </tr>\n",
       "  </tbody>\n",
       "</table>\n",
       "</div>"
      ],
      "text/plain": [
       "            question                                             answer  \\\n",
       "0                NaN                                                NaN   \n",
       "1          증상이 어떤가요?                          현재 증상에 대한 정보는 제공되지 않았습니다.   \n",
       "2       수정답변(김철환)-->  아버님의 입원당시 주증상은 편마비가 보였습니다. 현재의 증상은 내원 당시와 동일하면...   \n",
       "3  별이 보일때 어떻게 치료하나요?  별이 보이는 증상은 일반적으로 눈이 부신 상황이나 어두운 곳에서 밝은 빛을 볼 때 ...   \n",
       "4       수정답변(김철환)-->  아버님의 상태는 안정적이며 별이 보이는 증상을 보이지는 않습니다.  의료진이 계속 ...   \n",
       "\n",
       "                  timestamp Score(10점 만점) Unnamed: 4  \\\n",
       "0                       NaN           \b철환         지원   \n",
       "1  2024-07-26T05:32:36.402Z             5         점수   \n",
       "2                       NaN           NaN     수정 코멘트   \n",
       "3  2024-07-26T05:32:52.513Z             5        NaN   \n",
       "4                       NaN           NaN        NaN   \n",
       "\n",
       "                                          Unnamed: 5 Unnamed: 6  \\\n",
       "0                                                \b현철          후   \n",
       "1                                                  1        NaN   \n",
       "2  아버님께서 입원하실 때 주요 증상은 한 쪽 몸이 잘 움직이지 않는 편마비 증상이었습...        NaN   \n",
       "3                                                  2        NaN   \n",
       "4  현재 아버님의 경우 별이 보이는 증상이 나타나지는 않고 있습니다. 눈에 별이 보이는...        NaN   \n",
       "\n",
       "                                   비고  \n",
       "0                                 NaN  \n",
       "1                             *점수기준*   \n",
       "2                         1-3점:잘못된 정보  \n",
       "3                         4-6점:정확한 정보  \n",
       "4  7-10점: 정확한 정보와 이해하기 쉽고 친절하게 설명한 정보  "
      ]
     },
     "execution_count": 27,
     "metadata": {},
     "output_type": "execute_result"
    }
   ],
   "source": [
    "qa.head()"
   ]
  },
  {
   "cell_type": "code",
   "execution_count": 28,
   "metadata": {},
   "outputs": [],
   "source": [
    "qa = qa.loc[:151]"
   ]
  },
  {
   "cell_type": "code",
   "execution_count": 29,
   "metadata": {},
   "outputs": [],
   "source": [
    "qa.loc[qa.question == '수정답변(김철환)-->','Score(10점 만점)'] = 10"
   ]
  },
  {
   "cell_type": "code",
   "execution_count": 30,
   "metadata": {},
   "outputs": [],
   "source": [
    "import numpy as np"
   ]
  },
  {
   "cell_type": "code",
   "execution_count": 31,
   "metadata": {},
   "outputs": [],
   "source": [
    "qa['question'] = qa.question.str.replace('수정답변(김철환)-->', '')"
   ]
  },
  {
   "cell_type": "code",
   "execution_count": 32,
   "metadata": {},
   "outputs": [],
   "source": [
    "qa = qa.replace('', np.nan)"
   ]
  },
  {
   "cell_type": "code",
   "execution_count": 33,
   "metadata": {},
   "outputs": [],
   "source": [
    "qa['question'] = qa.question.ffill()"
   ]
  },
  {
   "cell_type": "code",
   "execution_count": 35,
   "metadata": {},
   "outputs": [],
   "source": [
    "qa = qa[qa['Score(10점 만점)'] != '\\x08철환']"
   ]
  },
  {
   "cell_type": "code",
   "execution_count": 36,
   "metadata": {},
   "outputs": [],
   "source": [
    "# score10 = qa[qa['Score(10점 만점)'] == 10]"
   ]
  },
  {
   "cell_type": "code",
   "execution_count": 38,
   "metadata": {},
   "outputs": [],
   "source": [
    "# score9 = qa[qa['Score(10점 만점)'] == '9']"
   ]
  },
  {
   "cell_type": "code",
   "execution_count": 39,
   "metadata": {},
   "outputs": [],
   "source": [
    "# score8 = qa[qa['Score(10점 만점)'] == '8']"
   ]
  },
  {
   "cell_type": "code",
   "execution_count": 40,
   "metadata": {},
   "outputs": [],
   "source": [
    "# score7 = qa[qa['Score(10점 만점)'] == '7']"
   ]
  },
  {
   "cell_type": "code",
   "execution_count": 41,
   "metadata": {},
   "outputs": [],
   "source": [
    "# scores = pd.concat([score10, score9, score8, score7])"
   ]
  },
  {
   "cell_type": "code",
   "execution_count": 42,
   "metadata": {},
   "outputs": [],
   "source": [
    "# scores['Score(10점 만점)'] = scores['Score(10점 만점)'].astype('int')"
   ]
  },
  {
   "cell_type": "code",
   "execution_count": 43,
   "metadata": {},
   "outputs": [],
   "source": [
    "scores = qa[['question','answer','Score(10점 만점)']]"
   ]
  },
  {
   "cell_type": "code",
   "execution_count": 44,
   "metadata": {},
   "outputs": [
    {
     "data": {
      "text/html": [
       "<div>\n",
       "<style scoped>\n",
       "    .dataframe tbody tr th:only-of-type {\n",
       "        vertical-align: middle;\n",
       "    }\n",
       "\n",
       "    .dataframe tbody tr th {\n",
       "        vertical-align: top;\n",
       "    }\n",
       "\n",
       "    .dataframe thead th {\n",
       "        text-align: right;\n",
       "    }\n",
       "</style>\n",
       "<table border=\"1\" class=\"dataframe\">\n",
       "  <thead>\n",
       "    <tr style=\"text-align: right;\">\n",
       "      <th></th>\n",
       "      <th>question</th>\n",
       "      <th>answer</th>\n",
       "      <th>Score(10점 만점)</th>\n",
       "    </tr>\n",
       "  </thead>\n",
       "  <tbody>\n",
       "    <tr>\n",
       "      <th>0</th>\n",
       "      <td>증상이 어떤가요?</td>\n",
       "      <td>현재 증상에 대한 정보는 제공되지 않았습니다.</td>\n",
       "      <td>5</td>\n",
       "    </tr>\n",
       "    <tr>\n",
       "      <th>1</th>\n",
       "      <td>증상이 어떤가요?</td>\n",
       "      <td>아버님의 입원당시 주증상은 편마비가 보였습니다. 현재의 증상은 내원 당시와 동일하면...</td>\n",
       "      <td>10</td>\n",
       "    </tr>\n",
       "    <tr>\n",
       "      <th>2</th>\n",
       "      <td>별이 보일때 어떻게 치료하나요?</td>\n",
       "      <td>별이 보이는 증상은 일반적으로 눈이 부신 상황이나 어두운 곳에서 밝은 빛을 볼 때 ...</td>\n",
       "      <td>5</td>\n",
       "    </tr>\n",
       "    <tr>\n",
       "      <th>3</th>\n",
       "      <td>별이 보일때 어떻게 치료하나요?</td>\n",
       "      <td>아버님의 상태는 안정적이며 별이 보이는 증상을 보이지는 않습니다.  의료진이 계속 ...</td>\n",
       "      <td>10</td>\n",
       "    </tr>\n",
       "    <tr>\n",
       "      <th>4</th>\n",
       "      <td>오늘 식단을 알려주세요</td>\n",
       "      <td>죄송하지만, 저는 현재로서는 환자의 식단에 대한 정보를 알 수 없습니다. 환자의 식...</td>\n",
       "      <td>4</td>\n",
       "    </tr>\n",
       "    <tr>\n",
       "      <th>...</th>\n",
       "      <td>...</td>\n",
       "      <td>...</td>\n",
       "      <td>...</td>\n",
       "    </tr>\n",
       "    <tr>\n",
       "      <th>146</th>\n",
       "      <td>네, 그럼 다음주에 연락 드리겟습니다</td>\n",
       "      <td>네, 미리 연락 주시면 예약을 할 수 있습니다. 감사합니다.</td>\n",
       "      <td>10</td>\n",
       "    </tr>\n",
       "    <tr>\n",
       "      <th>147</th>\n",
       "      <td>간수치는 어떤가요</td>\n",
       "      <td>죄송하지만, 해당 기록에는 간수치에 대한 정보가 없습니다. 간수치는 일반적으로 혈액...</td>\n",
       "      <td>3</td>\n",
       "    </tr>\n",
       "    <tr>\n",
       "      <th>148</th>\n",
       "      <td>간수치는 어떤가요</td>\n",
       "      <td>1달전에 검사한 간기능의 정상(AST/ALT=13/10)범위에 있으며 아버님은 입원...</td>\n",
       "      <td>10</td>\n",
       "    </tr>\n",
       "    <tr>\n",
       "      <th>149</th>\n",
       "      <td>아버지께서 요양병원 들어가신 직후와 현재의 차이가 있나요?</td>\n",
       "      <td>네, 요양병원 들어가신 직후와 현재의 차이점은 다음과 같습니다. \\n\\n입원 직후:...</td>\n",
       "      <td>5</td>\n",
       "    </tr>\n",
       "    <tr>\n",
       "      <th>150</th>\n",
       "      <td>아버지께서 요양병원 들어가신 직후와 현재의 차이가 있나요?</td>\n",
       "      <td>NaN</td>\n",
       "      <td>10</td>\n",
       "    </tr>\n",
       "  </tbody>\n",
       "</table>\n",
       "<p>151 rows × 3 columns</p>\n",
       "</div>"
      ],
      "text/plain": [
       "                             question  \\\n",
       "0                           증상이 어떤가요?   \n",
       "1                           증상이 어떤가요?   \n",
       "2                   별이 보일때 어떻게 치료하나요?   \n",
       "3                   별이 보일때 어떻게 치료하나요?   \n",
       "4                        오늘 식단을 알려주세요   \n",
       "..                                ...   \n",
       "146              네, 그럼 다음주에 연락 드리겟습니다   \n",
       "147                         간수치는 어떤가요   \n",
       "148                         간수치는 어떤가요   \n",
       "149  아버지께서 요양병원 들어가신 직후와 현재의 차이가 있나요?   \n",
       "150  아버지께서 요양병원 들어가신 직후와 현재의 차이가 있나요?   \n",
       "\n",
       "                                                answer Score(10점 만점)  \n",
       "0                            현재 증상에 대한 정보는 제공되지 않았습니다.             5  \n",
       "1    아버님의 입원당시 주증상은 편마비가 보였습니다. 현재의 증상은 내원 당시와 동일하면...            10  \n",
       "2    별이 보이는 증상은 일반적으로 눈이 부신 상황이나 어두운 곳에서 밝은 빛을 볼 때 ...             5  \n",
       "3    아버님의 상태는 안정적이며 별이 보이는 증상을 보이지는 않습니다.  의료진이 계속 ...            10  \n",
       "4    죄송하지만, 저는 현재로서는 환자의 식단에 대한 정보를 알 수 없습니다. 환자의 식...             4  \n",
       "..                                                 ...           ...  \n",
       "146                  네, 미리 연락 주시면 예약을 할 수 있습니다. 감사합니다.            10  \n",
       "147  죄송하지만, 해당 기록에는 간수치에 대한 정보가 없습니다. 간수치는 일반적으로 혈액...             3  \n",
       "148  1달전에 검사한 간기능의 정상(AST/ALT=13/10)범위에 있으며 아버님은 입원...            10  \n",
       "149  네, 요양병원 들어가신 직후와 현재의 차이점은 다음과 같습니다. \\n\\n입원 직후:...             5  \n",
       "150                                                NaN            10  \n",
       "\n",
       "[151 rows x 3 columns]"
      ]
     },
     "execution_count": 44,
     "metadata": {},
     "output_type": "execute_result"
    }
   ],
   "source": [
    "scores.reset_index(drop=True)"
   ]
  },
  {
   "cell_type": "code",
   "execution_count": 47,
   "metadata": {},
   "outputs": [
    {
     "name": "stderr",
     "output_type": "stream",
     "text": [
      "/var/folders/1b/dx8_94fs0q740wx3lfknk6y40000gn/T/ipykernel_43036/204943582.py:1: SettingWithCopyWarning: \n",
      "A value is trying to be set on a copy of a slice from a DataFrame\n",
      "\n",
      "See the caveats in the documentation: https://pandas.pydata.org/pandas-docs/stable/user_guide/indexing.html#returning-a-view-versus-a-copy\n",
      "  scores.dropna(inplace=True)\n"
     ]
    }
   ],
   "source": [
    "scores.dropna(inplace=True)"
   ]
  },
  {
   "cell_type": "code",
   "execution_count": 52,
   "metadata": {},
   "outputs": [],
   "source": [
    "scores.iloc[:,2] = scores.iloc[:,2].astype('int')"
   ]
  },
  {
   "cell_type": "code",
   "execution_count": 54,
   "metadata": {},
   "outputs": [
    {
     "data": {
      "text/html": [
       "<div>\n",
       "<style scoped>\n",
       "    .dataframe tbody tr th:only-of-type {\n",
       "        vertical-align: middle;\n",
       "    }\n",
       "\n",
       "    .dataframe tbody tr th {\n",
       "        vertical-align: top;\n",
       "    }\n",
       "\n",
       "    .dataframe thead th {\n",
       "        text-align: right;\n",
       "    }\n",
       "</style>\n",
       "<table border=\"1\" class=\"dataframe\">\n",
       "  <thead>\n",
       "    <tr style=\"text-align: right;\">\n",
       "      <th></th>\n",
       "      <th>question</th>\n",
       "      <th>answer</th>\n",
       "      <th>Score(10점 만점)</th>\n",
       "    </tr>\n",
       "  </thead>\n",
       "  <tbody>\n",
       "    <tr>\n",
       "      <th>1</th>\n",
       "      <td>증상이 어떤가요?</td>\n",
       "      <td>현재 증상에 대한 정보는 제공되지 않았습니다.</td>\n",
       "      <td>5</td>\n",
       "    </tr>\n",
       "    <tr>\n",
       "      <th>2</th>\n",
       "      <td>증상이 어떤가요?</td>\n",
       "      <td>아버님의 입원당시 주증상은 편마비가 보였습니다. 현재의 증상은 내원 당시와 동일하면...</td>\n",
       "      <td>10</td>\n",
       "    </tr>\n",
       "    <tr>\n",
       "      <th>3</th>\n",
       "      <td>별이 보일때 어떻게 치료하나요?</td>\n",
       "      <td>별이 보이는 증상은 일반적으로 눈이 부신 상황이나 어두운 곳에서 밝은 빛을 볼 때 ...</td>\n",
       "      <td>5</td>\n",
       "    </tr>\n",
       "    <tr>\n",
       "      <th>4</th>\n",
       "      <td>별이 보일때 어떻게 치료하나요?</td>\n",
       "      <td>아버님의 상태는 안정적이며 별이 보이는 증상을 보이지는 않습니다.  의료진이 계속 ...</td>\n",
       "      <td>10</td>\n",
       "    </tr>\n",
       "    <tr>\n",
       "      <th>5</th>\n",
       "      <td>오늘 식단을 알려주세요</td>\n",
       "      <td>죄송하지만, 저는 현재로서는 환자의 식단에 대한 정보를 알 수 없습니다. 환자의 식...</td>\n",
       "      <td>4</td>\n",
       "    </tr>\n",
       "    <tr>\n",
       "      <th>...</th>\n",
       "      <td>...</td>\n",
       "      <td>...</td>\n",
       "      <td>...</td>\n",
       "    </tr>\n",
       "    <tr>\n",
       "      <th>146</th>\n",
       "      <td>네, 그럼 다음주에 연락 드리겟습니다</td>\n",
       "      <td>안녕히 가세요.</td>\n",
       "      <td>1</td>\n",
       "    </tr>\n",
       "    <tr>\n",
       "      <th>147</th>\n",
       "      <td>네, 그럼 다음주에 연락 드리겟습니다</td>\n",
       "      <td>네, 미리 연락 주시면 예약을 할 수 있습니다. 감사합니다.</td>\n",
       "      <td>10</td>\n",
       "    </tr>\n",
       "    <tr>\n",
       "      <th>148</th>\n",
       "      <td>간수치는 어떤가요</td>\n",
       "      <td>죄송하지만, 해당 기록에는 간수치에 대한 정보가 없습니다. 간수치는 일반적으로 혈액...</td>\n",
       "      <td>3</td>\n",
       "    </tr>\n",
       "    <tr>\n",
       "      <th>149</th>\n",
       "      <td>간수치는 어떤가요</td>\n",
       "      <td>1달전에 검사한 간기능의 정상(AST/ALT=13/10)범위에 있으며 아버님은 입원...</td>\n",
       "      <td>10</td>\n",
       "    </tr>\n",
       "    <tr>\n",
       "      <th>150</th>\n",
       "      <td>아버지께서 요양병원 들어가신 직후와 현재의 차이가 있나요?</td>\n",
       "      <td>네, 요양병원 들어가신 직후와 현재의 차이점은 다음과 같습니다. \\n\\n입원 직후:...</td>\n",
       "      <td>5</td>\n",
       "    </tr>\n",
       "  </tbody>\n",
       "</table>\n",
       "<p>146 rows × 3 columns</p>\n",
       "</div>"
      ],
      "text/plain": [
       "                             question  \\\n",
       "1                           증상이 어떤가요?   \n",
       "2                           증상이 어떤가요?   \n",
       "3                   별이 보일때 어떻게 치료하나요?   \n",
       "4                   별이 보일때 어떻게 치료하나요?   \n",
       "5                        오늘 식단을 알려주세요   \n",
       "..                                ...   \n",
       "146              네, 그럼 다음주에 연락 드리겟습니다   \n",
       "147              네, 그럼 다음주에 연락 드리겟습니다   \n",
       "148                         간수치는 어떤가요   \n",
       "149                         간수치는 어떤가요   \n",
       "150  아버지께서 요양병원 들어가신 직후와 현재의 차이가 있나요?   \n",
       "\n",
       "                                                answer Score(10점 만점)  \n",
       "1                            현재 증상에 대한 정보는 제공되지 않았습니다.             5  \n",
       "2    아버님의 입원당시 주증상은 편마비가 보였습니다. 현재의 증상은 내원 당시와 동일하면...            10  \n",
       "3    별이 보이는 증상은 일반적으로 눈이 부신 상황이나 어두운 곳에서 밝은 빛을 볼 때 ...             5  \n",
       "4    아버님의 상태는 안정적이며 별이 보이는 증상을 보이지는 않습니다.  의료진이 계속 ...            10  \n",
       "5    죄송하지만, 저는 현재로서는 환자의 식단에 대한 정보를 알 수 없습니다. 환자의 식...             4  \n",
       "..                                                 ...           ...  \n",
       "146                                           안녕히 가세요.             1  \n",
       "147                  네, 미리 연락 주시면 예약을 할 수 있습니다. 감사합니다.            10  \n",
       "148  죄송하지만, 해당 기록에는 간수치에 대한 정보가 없습니다. 간수치는 일반적으로 혈액...             3  \n",
       "149  1달전에 검사한 간기능의 정상(AST/ALT=13/10)범위에 있으며 아버님은 입원...            10  \n",
       "150  네, 요양병원 들어가신 직후와 현재의 차이점은 다음과 같습니다. \\n\\n입원 직후:...             5  \n",
       "\n",
       "[146 rows x 3 columns]"
      ]
     },
     "execution_count": 54,
     "metadata": {},
     "output_type": "execute_result"
    }
   ],
   "source": [
    "scores"
   ]
  },
  {
   "cell_type": "code",
   "execution_count": 55,
   "metadata": {},
   "outputs": [],
   "source": [
    "scores.to_csv('qa_all.csv',index=False)"
   ]
  },
  {
   "cell_type": "code",
   "execution_count": 65,
   "metadata": {},
   "outputs": [
    {
     "data": {
      "text/plain": [
       "True"
      ]
     },
     "execution_count": 65,
     "metadata": {},
     "output_type": "execute_result"
    }
   ],
   "source": [
    "from pydantic import BaseModel\n",
    "import os\n",
    "from langchain_upstage import ChatUpstage\n",
    "from langchain_core.output_parsers import StrOutputParser\n",
    "from langchain_core.prompts import PromptTemplate\n",
    "from dotenv import load_dotenv\n",
    "\n",
    "# Load API keys from the .env file\n",
    "load_dotenv()"
   ]
  },
  {
   "cell_type": "code",
   "execution_count": 66,
   "metadata": {},
   "outputs": [],
   "source": [
    "# Define the Prompt Template\n",
    "prompt = PromptTemplate.from_template(\n",
    "    \"\"\"주어진 사용자 질문을 `환자정보`, `메뉴`, 또는 `병원비` 중 하나로 분류하세요. 한 단어 이상으로 응답하지 마세요.\n",
    "\n",
    "<question>\n",
    "{question}\n",
    "</question>\n",
    "\n",
    "Classification:\"\"\"\n",
    ")\n",
    "\n",
    "# Initialize the LLM with the API key\n",
    "llm = ChatUpstage(api_key=os.getenv(\"UPSTAGE_API_KEY\"))\n",
    "\n",
    "# Create the initial chain\n",
    "chain = prompt | llm | StrOutputParser()"
   ]
  },
  {
   "cell_type": "code",
   "execution_count": 73,
   "metadata": {},
   "outputs": [],
   "source": [
    "cls = []"
   ]
  },
  {
   "cell_type": "code",
   "execution_count": 74,
   "metadata": {},
   "outputs": [],
   "source": [
    "for q in best_ans.question:\n",
    "    cls.append(chain.invoke(q))"
   ]
  },
  {
   "cell_type": "code",
   "execution_count": 76,
   "metadata": {},
   "outputs": [
    {
     "name": "stderr",
     "output_type": "stream",
     "text": [
      "/var/folders/1b/dx8_94fs0q740wx3lfknk6y40000gn/T/ipykernel_22262/727794315.py:1: SettingWithCopyWarning: \n",
      "A value is trying to be set on a copy of a slice from a DataFrame.\n",
      "Try using .loc[row_indexer,col_indexer] = value instead\n",
      "\n",
      "See the caveats in the documentation: https://pandas.pydata.org/pandas-docs/stable/user_guide/indexing.html#returning-a-view-versus-a-copy\n",
      "  best_ans['cls'] = cls\n"
     ]
    }
   ],
   "source": [
    "best_ans['cls'] = cls"
   ]
  },
  {
   "cell_type": "code",
   "execution_count": 82,
   "metadata": {},
   "outputs": [
    {
     "name": "stderr",
     "output_type": "stream",
     "text": [
      "/var/folders/1b/dx8_94fs0q740wx3lfknk6y40000gn/T/ipykernel_22262/1205456775.py:1: SettingWithCopyWarning: \n",
      "A value is trying to be set on a copy of a slice from a DataFrame.\n",
      "Try using .loc[row_indexer,col_indexer] = value instead\n",
      "\n",
      "See the caveats in the documentation: https://pandas.pydata.org/pandas-docs/stable/user_guide/indexing.html#returning-a-view-versus-a-copy\n",
      "  best_ans['cls'] = best_ans['cls'].str.strip('. ')\n"
     ]
    }
   ],
   "source": [
    "best_ans['cls'] = best_ans['cls'].str.strip('. ')"
   ]
  },
  {
   "cell_type": "code",
   "execution_count": 88,
   "metadata": {},
   "outputs": [
    {
     "data": {
      "text/plain": [
       "cls\n",
       "환자정보                   77\n",
       "메뉴                      5\n",
       "patient_information     3\n",
       "기타                      2\n",
       "환자정보입니다                 1\n",
       "None                    1\n",
       "Name: count, dtype: int64"
      ]
     },
     "execution_count": 88,
     "metadata": {},
     "output_type": "execute_result"
    }
   ],
   "source": [
    "best_ans['cls'].value_counts()"
   ]
  },
  {
   "cell_type": "code",
   "execution_count": 91,
   "metadata": {},
   "outputs": [],
   "source": [
    "best_ans.loc[best_ans['cls']=='patient_information','cls'] = '환자정보'"
   ]
  },
  {
   "cell_type": "code",
   "execution_count": 95,
   "metadata": {},
   "outputs": [
    {
     "name": "stderr",
     "output_type": "stream",
     "text": [
      "/var/folders/1b/dx8_94fs0q740wx3lfknk6y40000gn/T/ipykernel_22262/189511999.py:1: SettingWithCopyWarning: \n",
      "A value is trying to be set on a copy of a slice from a DataFrame.\n",
      "Try using .loc[row_indexer,col_indexer] = value instead\n",
      "\n",
      "See the caveats in the documentation: https://pandas.pydata.org/pandas-docs/stable/user_guide/indexing.html#returning-a-view-versus-a-copy\n",
      "  best_ans['cls'] = best_ans['cls'].str.replace('입니다','')\n"
     ]
    }
   ],
   "source": [
    "best_ans['cls'] = best_ans['cls'].str.replace('입니다','')"
   ]
  },
  {
   "cell_type": "code",
   "execution_count": 98,
   "metadata": {},
   "outputs": [],
   "source": [
    "best_ans.loc[best_ans['cls']=='None','cls'] = '기타'"
   ]
  },
  {
   "cell_type": "code",
   "execution_count": 100,
   "metadata": {},
   "outputs": [],
   "source": [
    "result = best_ans.copy()"
   ]
  },
  {
   "cell_type": "code",
   "execution_count": 102,
   "metadata": {},
   "outputs": [
    {
     "data": {
      "text/html": [
       "<div>\n",
       "<style scoped>\n",
       "    .dataframe tbody tr th:only-of-type {\n",
       "        vertical-align: middle;\n",
       "    }\n",
       "\n",
       "    .dataframe tbody tr th {\n",
       "        vertical-align: top;\n",
       "    }\n",
       "\n",
       "    .dataframe thead th {\n",
       "        text-align: right;\n",
       "    }\n",
       "</style>\n",
       "<table border=\"1\" class=\"dataframe\">\n",
       "  <thead>\n",
       "    <tr style=\"text-align: right;\">\n",
       "      <th></th>\n",
       "      <th>question</th>\n",
       "      <th>answer</th>\n",
       "      <th>Score(10점 만점)</th>\n",
       "      <th>cls</th>\n",
       "    </tr>\n",
       "  </thead>\n",
       "  <tbody>\n",
       "    <tr>\n",
       "      <th>2</th>\n",
       "      <td>증상이 어떤가요?</td>\n",
       "      <td>아버님의 입원당시 주증상은 편마비가 보였습니다. 현재의 증상은 내원 당시와 동일하면...</td>\n",
       "      <td>10</td>\n",
       "      <td>환자정보</td>\n",
       "    </tr>\n",
       "    <tr>\n",
       "      <th>4</th>\n",
       "      <td>별이 보일때 어떻게 치료하나요?</td>\n",
       "      <td>아버님의 상태는 안정적이며 별이 보이는 증상을 보이지는 않습니다.  의료진이 계속 ...</td>\n",
       "      <td>10</td>\n",
       "      <td>환자정보</td>\n",
       "    </tr>\n",
       "    <tr>\n",
       "      <th>6</th>\n",
       "      <td>오늘 식단을 알려주세요</td>\n",
       "      <td>아버님은 경관식으로 식사하고 계십니다. 경관식으로는 그린비아 장솔루션을 하루에 3회...</td>\n",
       "      <td>10</td>\n",
       "      <td>메뉴</td>\n",
       "    </tr>\n",
       "    <tr>\n",
       "      <th>8</th>\n",
       "      <td>nnnn\\n\\n\\n\\n\\n\\n\\n\\n\\n\\n\\n\\n\\n\\n\\n\\n\\n\\n\\nmm\\n\\n</td>\n",
       "      <td>오타가 있는 것 같습니다. 아버님의 상태에 대해 궁금하신 내용이 있으면 알려주세요.</td>\n",
       "      <td>10</td>\n",
       "      <td>환자정보</td>\n",
       "    </tr>\n",
       "    <tr>\n",
       "      <th>10</th>\n",
       "      <td>뇌경색으로 1주일째 중환자실에 있는데 회복 가능할까요?</td>\n",
       "      <td>오늘 활력징후(BP;106 BPL;62 P;103 RESP;21 T;36.6)는 안...</td>\n",
       "      <td>10</td>\n",
       "      <td>환자정보</td>\n",
       "    </tr>\n",
       "    <tr>\n",
       "      <th>...</th>\n",
       "      <td>...</td>\n",
       "      <td>...</td>\n",
       "      <td>...</td>\n",
       "      <td>...</td>\n",
       "    </tr>\n",
       "    <tr>\n",
       "      <th>68</th>\n",
       "      <td>1인실로 옮길수 있을가요</td>\n",
       "      <td>죄송합니다. 저는 의사가 아니기 때문에 의료적인 결정을 내릴 수 없습니다. 그러나 ...</td>\n",
       "      <td>7</td>\n",
       "      <td>환자정보</td>\n",
       "    </tr>\n",
       "    <tr>\n",
       "      <th>91</th>\n",
       "      <td>이번주에 한번 가보겠습니다</td>\n",
       "      <td>좋습니다, 이번 주에 방문하실 예정이시군요. 환자분 상태에 대해 궁금한 점이 있거나...</td>\n",
       "      <td>7</td>\n",
       "      <td>환자정보</td>\n",
       "    </tr>\n",
       "    <tr>\n",
       "      <th>96</th>\n",
       "      <td>어떤 조치가 이루어졌나요</td>\n",
       "      <td>입원 중 다음과 같은 조치가 이루어졌습니다:\\n\\n1. 보존적 치료: 약물치료, 재...</td>\n",
       "      <td>7</td>\n",
       "      <td>환자정보</td>\n",
       "    </tr>\n",
       "    <tr>\n",
       "      <th>98</th>\n",
       "      <td>치매예방에 좋은 취미활동은 어떤게 좋을까요?</td>\n",
       "      <td>치매 예방을 위한 취미 활동은 뇌를 자극하고 활동적으로 유지할 수 있는 것들이 좋습...</td>\n",
       "      <td>7</td>\n",
       "      <td>환자정보</td>\n",
       "    </tr>\n",
       "    <tr>\n",
       "      <th>122</th>\n",
       "      <td>현재컨디션</td>\n",
       "      <td>현재 컨디션은 안정적이며, 증상도 없고 치료에 잘 반응하고 있습니다.</td>\n",
       "      <td>7</td>\n",
       "      <td>환자정보</td>\n",
       "    </tr>\n",
       "  </tbody>\n",
       "</table>\n",
       "<p>89 rows × 4 columns</p>\n",
       "</div>"
      ],
      "text/plain": [
       "                                             question  \\\n",
       "2                                           증상이 어떤가요?   \n",
       "4                                   별이 보일때 어떻게 치료하나요?   \n",
       "6                                        오늘 식단을 알려주세요   \n",
       "8    nnnn\\n\\n\\n\\n\\n\\n\\n\\n\\n\\n\\n\\n\\n\\n\\n\\n\\n\\n\\nmm\\n\\n   \n",
       "10                     뇌경색으로 1주일째 중환자실에 있는데 회복 가능할까요?   \n",
       "..                                                ...   \n",
       "68                                      1인실로 옮길수 있을가요   \n",
       "91                                     이번주에 한번 가보겠습니다   \n",
       "96                                      어떤 조치가 이루어졌나요   \n",
       "98                           치매예방에 좋은 취미활동은 어떤게 좋을까요?   \n",
       "122                                             현재컨디션   \n",
       "\n",
       "                                                answer  Score(10점 만점)   cls  \n",
       "2    아버님의 입원당시 주증상은 편마비가 보였습니다. 현재의 증상은 내원 당시와 동일하면...             10  환자정보  \n",
       "4    아버님의 상태는 안정적이며 별이 보이는 증상을 보이지는 않습니다.  의료진이 계속 ...             10  환자정보  \n",
       "6    아버님은 경관식으로 식사하고 계십니다. 경관식으로는 그린비아 장솔루션을 하루에 3회...             10    메뉴  \n",
       "8       오타가 있는 것 같습니다. 아버님의 상태에 대해 궁금하신 내용이 있으면 알려주세요.             10  환자정보  \n",
       "10   오늘 활력징후(BP;106 BPL;62 P;103 RESP;21 T;36.6)는 안...             10  환자정보  \n",
       "..                                                 ...            ...   ...  \n",
       "68   죄송합니다. 저는 의사가 아니기 때문에 의료적인 결정을 내릴 수 없습니다. 그러나 ...              7  환자정보  \n",
       "91   좋습니다, 이번 주에 방문하실 예정이시군요. 환자분 상태에 대해 궁금한 점이 있거나...              7  환자정보  \n",
       "96   입원 중 다음과 같은 조치가 이루어졌습니다:\\n\\n1. 보존적 치료: 약물치료, 재...              7  환자정보  \n",
       "98   치매 예방을 위한 취미 활동은 뇌를 자극하고 활동적으로 유지할 수 있는 것들이 좋습...              7  환자정보  \n",
       "122             현재 컨디션은 안정적이며, 증상도 없고 치료에 잘 반응하고 있습니다.              7  환자정보  \n",
       "\n",
       "[89 rows x 4 columns]"
      ]
     },
     "execution_count": 102,
     "metadata": {},
     "output_type": "execute_result"
    }
   ],
   "source": [
    "result"
   ]
  },
  {
   "cell_type": "code",
   "execution_count": 104,
   "metadata": {},
   "outputs": [],
   "source": [
    "result.loc[result['cls']=='기타','cls'] = '환자정보'"
   ]
  },
  {
   "cell_type": "code",
   "execution_count": 108,
   "metadata": {},
   "outputs": [
    {
     "data": {
      "text/html": [
       "<div>\n",
       "<style scoped>\n",
       "    .dataframe tbody tr th:only-of-type {\n",
       "        vertical-align: middle;\n",
       "    }\n",
       "\n",
       "    .dataframe tbody tr th {\n",
       "        vertical-align: top;\n",
       "    }\n",
       "\n",
       "    .dataframe thead th {\n",
       "        text-align: right;\n",
       "    }\n",
       "</style>\n",
       "<table border=\"1\" class=\"dataframe\">\n",
       "  <thead>\n",
       "    <tr style=\"text-align: right;\">\n",
       "      <th></th>\n",
       "      <th>question</th>\n",
       "      <th>answer</th>\n",
       "      <th>Score(10점 만점)</th>\n",
       "      <th>cls</th>\n",
       "    </tr>\n",
       "  </thead>\n",
       "  <tbody>\n",
       "    <tr>\n",
       "      <th>6</th>\n",
       "      <td>오늘 식단을 알려주세요</td>\n",
       "      <td>아버님은 경관식으로 식사하고 계십니다. 경관식으로는 그린비아 장솔루션을 하루에 3회...</td>\n",
       "      <td>10</td>\n",
       "      <td>메뉴</td>\n",
       "    </tr>\n",
       "    <tr>\n",
       "      <th>30</th>\n",
       "      <td>오늘식사</td>\n",
       "      <td>오늘의 식사는 다음과 같습니다:\\n\\n오전:\\n\\n* 아침: 보리밥, 미역국, 닭가...</td>\n",
       "      <td>10</td>\n",
       "      <td>메뉴</td>\n",
       "    </tr>\n",
       "    <tr>\n",
       "      <th>53</th>\n",
       "      <td>당뇨식단</td>\n",
       "      <td>어머님은 합병증을 동반하지않은 당뇨을 가지고 계셔서 당뇨식(하루에 1500칼로리)으...</td>\n",
       "      <td>10</td>\n",
       "      <td>메뉴</td>\n",
       "    </tr>\n",
       "    <tr>\n",
       "      <th>89</th>\n",
       "      <td>그래도 결국 식사는 했나요</td>\n",
       "      <td>보호자께서 보내주신 식사는 어머님깨서 맛있게 잘 드셨습니다. 참고로 현재 성춘향님은...</td>\n",
       "      <td>10</td>\n",
       "      <td>메뉴</td>\n",
       "    </tr>\n",
       "    <tr>\n",
       "      <th>145</th>\n",
       "      <td>식사는 건강식으로 어떻게 냐오는지요?</td>\n",
       "      <td>건강식은 일반적으로 영양소가 균형 잡힌 식사로, 신선한 과일, 채소, 곡류, 단백질...</td>\n",
       "      <td>10</td>\n",
       "      <td>메뉴</td>\n",
       "    </tr>\n",
       "  </tbody>\n",
       "</table>\n",
       "</div>"
      ],
      "text/plain": [
       "                 question                                             answer  \\\n",
       "6            오늘 식단을 알려주세요  아버님은 경관식으로 식사하고 계십니다. 경관식으로는 그린비아 장솔루션을 하루에 3회...   \n",
       "30                   오늘식사  오늘의 식사는 다음과 같습니다:\\n\\n오전:\\n\\n* 아침: 보리밥, 미역국, 닭가...   \n",
       "53                   당뇨식단  어머님은 합병증을 동반하지않은 당뇨을 가지고 계셔서 당뇨식(하루에 1500칼로리)으...   \n",
       "89         그래도 결국 식사는 했나요  보호자께서 보내주신 식사는 어머님깨서 맛있게 잘 드셨습니다. 참고로 현재 성춘향님은...   \n",
       "145  식사는 건강식으로 어떻게 냐오는지요?  건강식은 일반적으로 영양소가 균형 잡힌 식사로, 신선한 과일, 채소, 곡류, 단백질...   \n",
       "\n",
       "     Score(10점 만점) cls  \n",
       "6               10  메뉴  \n",
       "30              10  메뉴  \n",
       "53              10  메뉴  \n",
       "89              10  메뉴  \n",
       "145             10  메뉴  "
      ]
     },
     "execution_count": 108,
     "metadata": {},
     "output_type": "execute_result"
    }
   ],
   "source": [
    "result.loc[result['cls']=='메뉴']"
   ]
  },
  {
   "cell_type": "code",
   "execution_count": 107,
   "metadata": {},
   "outputs": [
    {
     "data": {
      "text/plain": [
       "cls\n",
       "환자정보    84\n",
       "메뉴       5\n",
       "Name: count, dtype: int64"
      ]
     },
     "execution_count": 107,
     "metadata": {},
     "output_type": "execute_result"
    }
   ],
   "source": [
    "result['cls'].value_counts()"
   ]
  },
  {
   "cell_type": "code",
   "execution_count": null,
   "metadata": {},
   "outputs": [],
   "source": [
    "patient = result.loc[result['cls']!='메뉴']"
   ]
  },
  {
   "cell_type": "code",
   "execution_count": 115,
   "metadata": {},
   "outputs": [],
   "source": [
    "qa = patient[['question','answer']].to_dict(orient=\"records\")"
   ]
  },
  {
   "cell_type": "code",
   "execution_count": 116,
   "metadata": {},
   "outputs": [],
   "source": [
    "import json\n",
    "with open(\"../data/qa.json\", \"w\", encoding='utf-8') as f:\n",
    "    json.dump(qa, f, ensure_ascii=False)"
   ]
  },
  {
   "cell_type": "code",
   "execution_count": 4,
   "metadata": {},
   "outputs": [],
   "source": [
    "import json"
   ]
  },
  {
   "cell_type": "code",
   "execution_count": 5,
   "metadata": {},
   "outputs": [],
   "source": [
    "with open(\"../data/qa.json\", \"r\", encoding='utf-8') as f:\n",
    "    examples = json.load(f)"
   ]
  },
  {
   "cell_type": "code",
   "execution_count": 6,
   "metadata": {},
   "outputs": [
    {
     "data": {
      "text/plain": [
       "[{'question': '증상이 어떤가요?',\n",
       "  'answer': '아버님의 입원당시 주증상은 편마비가 보였습니다. 현재의 증상은 내원 당시와 동일하면 큰 변화는 없습니다. 현재의 상태를 호전시키기위해 수액치료, 약물치료, 인지치료, 재활치료를 하고 있습니다. 저희 의료진이 계속 모니터링 중이며 변화가 있으면 보호자분에게 연락드리겠습니다.  '},\n",
       " {'question': '별이 보일때 어떻게 치료하나요?',\n",
       "  'answer': '아버님의 상태는 안정적이며 별이 보이는 증상을 보이지는 않습니다.  의료진이 계속 케어하면서 모니터링하고 있으며 그런 증상이 있으면 적절한 조치와 치료를 진행할 계획입니다.'},\n",
       " {'question': 'nnnn\\n\\n\\n\\n\\n\\n\\n\\n\\n\\n\\n\\n\\n\\n\\n\\n\\n\\n\\nmm\\n\\n',\n",
       "  'answer': '오타가 있는 것 같습니다. 아버님의 상태에 대해 궁금하신 내용이 있으면 알려주세요.'},\n",
       " {'question': '뇌경색으로 1주일째 중환자실에 있는데 회복 가능할까요?',\n",
       "  'answer': '오늘 활력징후(BP;106 BPL;62 P;103 RESP;21 T;36.6)는 안정적인 정상범위에 있으며, 뇌경색으로 인한 편마비 증상은 약간은 호전된 상태이나 계속적인 약물치료와 재활치료가 필요한 상태입니다. 단기간에 회복에 대해서는 예측하기 어렵지만 장기적으로는 어느 정도 회복은 가능할 것으로 의료진이 판단하고 있습니다. 빠른 회복을 위해 의료진의 적극적인 치료와 모니터링을 진행하고 있으며 상태에 변화가 있으면 신속한 치료와 동시에 보호자분에게 연락을 드리겠습니다. 저희 의료진에게 믿고 맡겨주셔서 감사합니다. 다른 궁금한 상항이 있으시면 알려주세요.'},\n",
       " {'question': '뇌전증으로 합병증이 있나요',\n",
       "  'answer': '어머님은 뇌내출혈 후의 합병증으로 인한 뇌전증으로 진단받으셨습니다. 즉, 뇌내출혈 후의 뇌손상으로 인한 증상입니다. 뇌전증이 진행되면 뇌손상이 더욱 악화될 가능성이 높기에 뇌전증을 완화시키는 약물치료를 하고 있으며 인지치료와 재활치료를 병행하여 회복을 더욱 도와주고 있습니다. 의료진이 지속적인 치료와 관심으로 케어하고 있기에 뇌전증 합병증의 가능성이 줄어들 것으로 기대합니다. '},\n",
       " {'question': '당뇨,고혈압 수치가 호전되고 있나요?',\n",
       "  'answer': '혈압(BP;100 BPL;65 P;73 RESP;20 T;36.5)은 정상 범위에서 잘 조절되고 있으며, 공복혈당(FBS;101)도 잘 조절되고 있습니다. 의료진의 지속적인 약물치료와 모니터링으로 안정적으로 유지되고 있습니다. '},\n",
       " {'question': '치매 진행 완화를 위해 특별한 프로그램은 있나요?',\n",
       "  'answer': '네, 어머님은 치매 진행 완화를 위해 약물치료, 인지 자극 프로그램, 운동 및 신체 활동, 사회적 참여, 영양 및 수면 관리 등 다양한 프로그램이 받고 계십니다. 입원 당시와 비교했을 때보다 어느 정도 호전된 상태입니다. 예를 들면 말씀하실 때 좀더 기억을 잘하시는데 어제 먹었던 음식도 기억합니다.  참고로 프로그램에 대한 상세 내용은 다음과 같습니다.\\n\\n인지 자극 프로그램은 인지 기능을 자극하고 유지하기 위해 설계된 활동으로, 퍼즐, 게임, 기억 훈련, 음악 치료 등이 포함될 수 있습니다. 이러한 프로그램은 기억력, 집중력, 문제 해결 능력 등을 향상시키는 데 도움을 줄 수 있습니다.\\n\\n운동 및 신체 활동은 신체적 건강을 증진시키는 데 도움을 줄 뿐만 아니라 뇌 건강에도 긍정적인 영향을 미칩니다. 일상적인 운동, 산책, 정원 가꾸기, 춤, 요가 등이 포함될 수 있습니다.\\n\\n사회적 참여는 사회적 상호작용과 연결을 촉진하여 치매 진행을 완화하는 데 도움을 줄 수 있습니다. 사회적인 모임, 클럽, 자원봉사 활동, 가족과의 교류 등을 통해 사회적으로 활동적인 생활을 유지할 수 있습니다.\\n\\n영양 및 수면 관리는 뇌 건강에 중요한 역할을 합니다. 영양가 있는 식단을 유지하고, 충분한 수면을 취하는 것은 인지 기능과 뇌 건강에 도움을 줄 수 있습니다.\\n\\n이러한 프로그램들은 개인의 상태와 선호도에 따라 맞춤형으로 제공되고 있으며 어머님은 특히 가벼운 요가를 좋아하시고 있으며 이 모든 프로그램에 잘 협조해주시고 잘 참여하시고 계십니다.'},\n",
       " {'question': '최근 위염 증상은 좀 나아졌나요?',\n",
       "  'answer': '위염이 좀 나아지시기는 했는데 여전히 약물치료 중에 있으며 다행인 것은 식사량이 줄지는 않았습니다. 다음주까지 약물치료(마그밀,잔탁,가모드정)를 진행하면 정상으로 회복하리라 기대하고 있습니다. '},\n",
       " {'question': '불면증이 심하신데 어떻게 해야할까요?',\n",
       "  'answer': '불면증에 대해서는 약물치료(리보트릴) 중이며, 수면중에 중간에 깨어나지는 않으시고 있어서 수면의 질이 개선되어 보입니다. 의료진은 1달정도는 약물치료 계획중입니다. 그리고. 다음과 같은 치료도 병행하고 있습니다. 1.규칙적인 수면 스케줄 유지: 주말을 포함하여 매일 같은 시간에 일어나고 잠자리에 들도록 노력하세요.\\n\\n2. 편안한 수면 환경 조성: 조용하고 어두운 방에서 잠을 자도록 하고, 편안한 침구와 온도를 유지하세요.\\n\\n3. 스크린 시간 제한: 스마트폰, 태블릿, 컴퓨터 및 TV 등의 화면 시간은 수면 질을 저하시킬 수 있으므로, 잠들기 전에는 화면 시간을 제한하는 것이 좋습니다.\\n\\n4. 수면 전에 휴식: 잠들기 전에 책을 읽거나 편안한 음악을 듣는 등 휴식을 취할 수 있는 활동을 해보세요.\\n\\n5. 규칙적인 운동: 정기적인 신체 활동은 수면에 도움이 될 수 있습니다. 하지만, 수면 직전에 운동을 하지 않도록 주의하세요.\\n\\n6. 수면 전에 수분 섭취: 수면 전에 너무 많은 수분을 섭취하지 않도록 주의하세요.'},\n",
       " {'question': '어떻게 연락하나요?',\n",
       "  'answer': '병원 전화번호는 02-2678-5678 입니다.  전화하셔서 이도령님 보호자라고 말씀하시고 담당 간호사를 찾으시면 좋을 것같습니다. '},\n",
       " {'question': '요즘 혈압은 안정적이신가요?',\n",
       "  'answer': '혈압(BP;103 BPL;62 P;70 RESP;20 T;36.00)은 안정적으로 유지하고 있으며 약물치료(텔핀스타정)에 잘 반응하고 있습니다.'},\n",
       " {'question': '자꾸만 살이 찌시는데 평소 살을 뺄수 있는 방법이 있을까요?',\n",
       "  'answer': '배장화님 보호자분 되시지요. 어머님의 상태에 대한 질문을 해주시면 좋을 것같습니다. 참고로 말씀드리면 체중 감량은 식단 조절과 운동이 중요하지만 비만인 경우에는 약물치료도 고려해보세요. 대사증후군을 예방하는 것이 중요합니다. 또 궁금한 점이 있거나 도움이 필요하시면 언제든지 말씀해주세요.'},\n",
       " {'question': '저희 아버님이 요새 어떠신가요',\n",
       "  'answer': '입원 당시와 비교해 봤을때, 혈압도 정상화 되었고 인지능력도 향상되었지만 편마비는 큰 벼화는 없는 것같습니다. 아버님의 혈압은 103/63, 맥박은 98, 호흡은 20, 체온은 36.0도이며, 기타 이상 증상은 없습니다. 아버님은 현재 식사도 잘하고, 활력 징후도 안정적이며, 정서적으로도 안정적입니다.'},\n",
       " {'question': '통증은 얼마나 심한가요?',\n",
       "  'answer': '입원당시에도 두통을 호소했는데 약물치료(애니스펜)으로 보존적 치료를 했으며 그 뒤로 간헐적으로 호소하셔서 필요할 때만 약물치료로 조절이 가능합니다. 혈압은 정상으로 유지되고 열이 없어서 비특이적 두통으로 추정하고 있으며 통증의 횟수는 내원후에 줄어든 상태입니다.  또한 간혹 치통을 호소하셔서 의료진에서는 치과 치료가 필요할 것으로 생각이 되며 외래로 통원치료를 추천하고 있습니다. 보호자분이 동행이 가능한 지 나중에 알려주세요.'},\n",
       " {'question': '환자가 느꼈을 통증의 정도는 어땠나요?',\n",
       "  'answer': '입원 당시에 어깨와 무릅에 관절염으로 통증을 많이 호소하셔서 약물치료를 해서 통증이 줄었으나 여전히 아파하셔서 한방치료(침시술)을 병행했습니다. 그 뒤로 통증이 많이 줄어서 신체 활동도 잘 하시고 안정적으로 생활하고 계십니다.'},\n",
       " {'question': '환자 위생이나 청결에 관해서도 궁금합니다',\n",
       "  'answer': '아버님은 매일 아침에 규칙적으로 세면을 하시고 1주일에 1회 목욕을 하고 계시고 환자복과 침구류는 1주일에 1회 새것으로 교환해서 사용하고 계십니다. 물론 중간에 더러워지면 언제든지 새것으로 바꿔드리고 있습니다.  의료진의 지속적이고 세심한 케어가 진행되고 있습니다. 더 궁금하신것이 있으면 말씀해주세요.'},\n",
       " {'question': '지금 혈압이 어떻게 되나요?',\n",
       "  'answer': '배장화님의 혈압(BP;108  BPL;74  P;82  RESP;20  T;36.7)은 정상범위에 ㅇ있으며 안정적입니다.  적절한 약물치료(노바스크)에 의해 조절이 잘 되고 있습니다.'},\n",
       " {'question': '지금은소변만 실수하는데 병윈 에 모셔야할까요?',\n",
       "  'answer': '아직 병원에 입원하시지 않은 상태라면 방문하셔서 진료를 보시는 것이 좋겠습니다. 진료시에 인지 및 정신상태 검사와 일상생활능력 평가를 통해서 적절한 치료와 입원 여부가 결정 될것같습니다. 예약후에 방문하시면 좋겠습니다. 예약을 도와드릴까요?'},\n",
       " {'question': '요즘 등이 가끔 간지럽고 쑤시는데 무슨 증상일까요?',\n",
       "  'answer': '성춘향님 보호자분이 하신 질문은 성춘향과 관련이 있는 질문인가요? 없다만 일반적인 내용으로 설명해 드리겠습니다. 등이 간지럽고 쑤시는 증상은 다양한 원인이 있을 수 있습니다. 몇 가지 가능한 원인 중 일부는 다음과 같습니다:\\n\\n1. 근육 긴장: 일상적인 활동이나 운동으로 인해 등이 긴장될 수 있습니다.\\n2. 척추 이상: 척추 디스크의 변위, 척추측만증 등 척추의 이상으로 인해 등이 쑤실 수 있습니다.\\n3. 피부 질환: 건조한 피부, 습진, 피부염 등의 피부 질환으로 인해 등이 간지러울 수 있습니다.\\n4. 신경통: 신경통이나 신경압박으로 인해 등이 쑤실 수 있습니다.\\n5. 기타 원인: 감염, 종양, 대사 이상 등 다른 원인으로 인해 등이 쑤실 수도 있습니다.\\n\\n만약 등의 간지러움과 쑤심이 계속되거나 심해진다면, 의료 전문가와 상담하여 정확한 원인을 파악하고 적절한 치료를 받는 것이 좋습니다.'},\n",
       " {'question': '현 상태',\n",
       "  'answer': '현재 성춘향님은 입원하여 보존적 치료를 받고 있습니다. 약물 치료, 재활 치료, 인지 기능 향상 치료 등을 받고 있으며, 식사와 활력 징후는 안정적입니다. 방광루를 통해 소변을 배출하고 있으며, 혈압과 당뇨, 치매는 약물 치료로 관리되고 있습니다. 현재 상태는 대체로 안정적이며, 의료진의 관찰과 치료를 받고 있습니다.'},\n",
       " {'question': '의료기록을 확인하려면 직접 내원해야 하나요?',\n",
       "  'answer': '네, 의료기록을 확인하려면 일반적으로 해당 의료기관에 직접 내원해야 합니다. 의료기록은 환자의 개인정보와 건강 정보를 포함하고 있기 때문에, 환자의 동의 없이 외부로 공개되지 않습니다. 따라서, 의료기록을 확인하고자 할 때는 해당 의료기관에 방문하여 필요한 절차를 따라야 합니다. 이때 신분증을 지참해야 하며, 의료기록 열람 및 복사 등에 대한 수수료가 발생할 수 있으니 참고하시기 바랍니다. 하지만 간단한 의료기록의 저에게 질문하시면 답변해드릴  수 있습니다. 어떤 내용이 궁금하신가요?'},\n",
       " {'question': '저혈압 같은데요?',\n",
       "  'answer': '어어님의 혈압은 정상범위(BP;117 BPL;67 P;65 )로 조절이 잘 되고 있으며 약물치료에도 잘 반응하고 있습니다.'},\n",
       " {'question': '지금 어디가 제일 불편한가요?\\n하루 일상생활은 어떻게 시작하나요?\\n제일 필요한것은 무엇인가요?\\n',\n",
       "  'answer': '아버님은 편마비로 인해 왼쪽 몸이 마비되어 있어, 일상생활에서 많은 도움이 필요합니다. 또한, 욕창과 압박부위로 인해 피부가 손상되어 있어 통증을 느낄 수 있기때문에 의료진이 매일 치료하면서 빠른 회복을 돕고 있습니다.'},\n",
       " {'question': '하루 일상생활은 어떻게 시작하나요?',\n",
       "  'answer': '어머님의 하루는 보호자나 간호사, 간병인의 도움으로 시작됩니다. 거의 전적으로 다른 사람들의 도움을 받아 일상생활을 수행합니다. 아침에는 체위 변경, 피부 상태 확인, 대소변 처리, 식사, 약물 복용 등의 일정이 있으며 하루 종일 주기적으로 체위 변경과 피부 관리가 이루어지며, 매일 의료진이 회진하면서 치료가 이루어집니다.'},\n",
       " {'question': '제일 필요한것은 무엇인가요?',\n",
       "  'answer': '어머님은 편마비와 욕창으로 인해 신체적인 도움이 많이 필요합니다. 의료진이 매일 욕창 치료와 재활치료를 하고 있으면 약간의 호전은 있지만 지속적인 치료가 필요하고 일상생활하는데 간병인의 도움으로 식사, 목욕, 화장실 사용 등의 생활을 잘 하고 있습니다. 현재 편안한 환경과 적절한 의료 장비를 제공받고 있으며, 참고로  정서적인 지원과 대화, 가족과의 소통도 환자에게 큰 도움이 될 수 있습니다.'},\n",
       " {'question': '1인실로 옮길수 있을가요',\n",
       "  'answer': '병실을 1인실로 옮기고 싶으시면 원무과에 문의하셔야 합니다. 원무과 전화번호는 02-7222-5678 입니다. 직접 통화하시는 것이 좋을 것같습니다.'},\n",
       " {'question': '어떤 문제가 발생한 건 아니죠?',\n",
       "  'answer': '아버님은 2024년 4월1일에 입원하셨고 그 이후로 안정적으로 지내시고 계십니다. 특별히 상태가 호전되었거나 악화되지는 않은 상황입니다. 의료진이 지속적으로 관심있게 케어하고 있으며 변화가 발생하면 연락드리겠습니다.'},\n",
       " {'question': '식사는 잘 하고 계신가요?',\n",
       "  'answer': '네, 현재 제공되는 경관식을 잘 드시고 계십니다. 경관식은 하루에 3번 드시고 있으며 소화에는 별 문제는 없는 상태입니다. '},\n",
       " {'question': '다행이네요\\n당뇨치료도 잘되고있나요',\n",
       "  'answer': '네, 어머님의 현재 상태는 안정적이며 인지치료, 재활치료, 약물치료에 잘 호응해주시고 계십니다.'},\n",
       " {'question': '환자의 기분은 어떤가요?',\n",
       "  'answer': '어머님은 안타깝게도 뇌경색과 치매로 입원당시부터 의사소통이 힘든 상태였기에 대화를 통해서 기분을 확인할 수는 없는 상황입니다. 그래서 활력징후, 혈액검사, 인지-정신건강상태 검사를 통해서 간접적으로 확인해본 결과 안정적이며 편안한 상태로 추정됩니다. 앞으로 상태 변화에 대해 지속적으로 모니터링하겠습니다. '},\n",
       " {'question': '평균적으로 당녀 걸리면 얼마나 사나요',\n",
       "  'answer': '현재 아버님은 당뇨로 진단을 받으셨으며 이에 대한 치료로 식이요법과 약물치료를 뱅행하고 있습니다. 공복혈당은 안정적으로 정상 범위를 로 유지하고 계십니다. 일반적으로 당뇨병은 만성적인 대사성 질환으로, 적절한 치료와 관리가 이루어지지 않으면 심각한 합병증을 유발할 수 있습니다. 당뇨병의 심각성, 합병증의 유무, 치료 및 관리 방법 등에 따라 수명이 크게 달라질 수 있습니다. \\n\\n당뇨병이 잘 관리되지 않는 경우, 심혈관 질환, 신장 질환, 신경 손상, 실명 등의 합병증이 발생할 가능성이 높아지며, 이로 인해 수명이 단축될 수 있습니다. 그러나 당뇨병이 잘 관리되는 경우, 정상적인 수명을 유지할 수 있습니다.\\n\\n당뇨병의 관리와 합병증 예방을 위해 규칙적인 혈당 모니터링, 건강한 식습관, 적절한 운동, 약물 치료 등이 필요합니다. 당뇨병 환자는 의료진과 긴밀히 협력하여 적절한 치료 계획을 수립하고, 이를 지속적으로 이행하는 것이 중요합니다.'},\n",
       " {'question': '나이와 지병에 적합한 운동좀 추천해주세요',\n",
       "  'answer': '아버님은 좌측편마비로 인해 와상상태이기때문에 재활치료를 집중적으로 받고 있습니다. 현재 편마비가 큰 변화는 없기에 지속적인 재활치료가 필요합니다.                                                                                일반적으로 지병에 따라 운동의 종류와 강도를 조절해야 합니다. 따라서, 의료진과 상담하여 적절한 운동 계획을 수립하는 것이 좋습니다.\\n\\n고령자에게는 저강도의 유산소 운동과 근력 운동이 좋습니다. 유산소 운동으로는 빠른 걷기, 수영, 자전거 타기 등이 있습니다. 근력 운동으로는 체중 운동, 저항 운동 등이 있습니다. 또한, 균형감각을 향상시키는 운동도 중요합니다.\\n\\n운동 계획을 수립할 때는, 적절한 강도와 시간을 설정하고, 천천히 시작하여 점진적으로 강도를 높이는 것이 좋습니다. 또한, 충분한 휴식과 수분 섭취를 잊지 않도록 합니다. 의료진과 상담하여 적절한 운동 계획을 수립하고, 안전하게 운동을 즐기시기 바랍니다. '},\n",
       " {'question': '근력감소 염증문제',\n",
       "  'answer': '어머님은 입원 당시 장기간 와상상태이며 편마비가 있었습니다. 그로 인한 근력감소와 노화로 인한 근력감소가 같이 영향을 준것으로 추정됩니다. 다행히 입원후에 식사량이 늘고 있지만 의료진의 생각에는 영양제와 단백질 보충이 필요한 상태라고 생각하고 있습니다. 이 부분은 비용이 추가로 들기때문에 보호자분이 좀더 생각해보시고 병원에 연락을 주세요. 염증소견은 입원당시에 있었으나 약물치료후에 지금은 없는 상태입니다. '},\n",
       " {'question': '전체적으로 건강상태가 어떤가요?',\n",
       "  'answer': '네, 현재 아버님 상태는 입원 당시 이제 전립선 비대증과 전립선암, 뇌경색, 고혈압,강직성 편마비, 인지기능 저하, 보행 장애가 있으셨는데요. 지금 현재는 식사 잘하시고, 그리고 병원에서 해드릴 수 있는 보존적 치료를 하고 계시있습니다. 보존적 치료를 하면  증상에 맞춰서 치료를 진행하고 있는데, 약물 치료, 재활 치료, 지능력 향상 치료를 진행하고 있습니다. 그리고 현재 방광루 그러니까 소변을 못 보시기 때문에 방광 쪽으로 관을 연결해서 소변을 볼 수 있게 했습니다. 현재 혈압이나 맥박, 체온은 다 정상이시고, 다른 이상 증상은 없으십니다. 그리고 지금 현재 의료진의 재활 치료와 약물 치료를 잘 받고 계십니다.'},\n",
       " {'question': '아버님 간수치기 400으로 위험한데 조치 부탁드립니다',\n",
       "  'answer': '아버님의 혈액검사를 최근에 7월 29일에 했습니다. 제가 확인해보니 간기능(AST/ALT=11/5)은 정상입니다.  혹시 보호자께서 알고 있는 정보가 맞는지 병원에 직접 확인해보시는 것이 좋을 것같습니다. '},\n",
       " {'question': '편마비 증세가 있는데 지금은 호전되고 있는지 궁금합니다\\n',\n",
       "  'answer': '강직성 편마비는 약간의 호전이 있습니다, 지속적인 재활치료와 인지치료를 같이 병행해서 진행하고 있으며 마비가 호전되는 지는 더 지켜보아야 할 것 같습니다. 아버님은 치료에 적극적으로 참여 하시는 편이어서 의료진에서도 기대하고 있습니다.'},\n",
       " {'question': '어떤 조치가 이루어졌나요',\n",
       "  'answer': '어머님은 와상상태이며 강직성 편마비와 관절염이 있으셔서 의료진에서 다양한 치료를 진행했습니다. 입원 당시보다 전체적으로 활력징후는 안정적이며, 욕창도 거의 회복된 상태입니다. 그리고 입원 중 다음과 같은 조치가 이루어졌습니다:\\n\\n1. 보존적 치료: 약물치료, 재활치료, 인지능력 향상치료 등이 진행되었습니다.\\n2. 방광루 설치: 소변을 스스로 볼 수 없어 방광루를 설치하여 소변 배출을 돕습니다.\\n3. 체위 변경 및 등 마사지: 2시간마다 체위를 변경하고 등 마사지를 시행하여 욕창 예방을 돕습니다.\\n4. 정서적 간호: 정서적인 안정을 위해 정서적 간호가 이루어집니다.\\n5. 정기적인 혈압, 맥박, 체온, 호흡 등의 활력 징후 모니터링.\\n6. 의료진의 재활치료 및 약물치료.\\n7. 환자의 식사, 이동, 옷 입히기, 세수, 양치, 목욕, 화장실 사용 등을 도움.\\n8. 목욕 및 이동 시 휠체어를 사용하며, 직원이 도움을 제공합니다.\\n9. 방광루 교체 및 소독.\\n10. 간병인과의 소통 및 교육.\\n\\n이 외에도 환자의 상태에 따라 필요한 추가적인 조치가 이루어질 수 있습니다.'},\n",
       " {'question': '치매예방에 좋은 취미활동은 어떤게 좋을까요?',\n",
       "  'answer': '어머님은 알츠하이머에 의한 치매로 인해 약물치료와 인지향상치료를 받고 계십니다. 현재는 큰 변화는 없지만 증상 악화를 예방하기위해 지속적인 치료가 필요하다고 생각합니다. 보호자께서 원하시는 치매예방에 좋은 취미활동은 어떤 종류가 있는지 설명하겠습니다. 치매 예방을 위한 취미 활동은 뇌를 자극하고 활동적으로 유지할 수 있는 것들이 좋습니다.                                                                                몇 가지 예시를 드리겠습니다: 1. 독서: 독서는 뇌를 활발하게 사용하고 상상력을 자극하여 기억력과 이해력을 향상시킵니다. 2. 퍼즐 맞추기: 퍼즐을 맞추는 것은 문제 해결 능력과 집중력을 요구하여 뇌를 활발하게 만듭니다. 3. 음악 감상 및 연주: 음악을 듣는 것은 뇌를 자극하고, 악기 연주는 손과 뇌의 조화를 요구하여 뇌 기능을 향상시킵니다. 4. 미술 활동: 그림 그리기, 색칠하기, 공예 등 미술 활동은 창의성과 손-눈 협응력을 향상시키며 뇌를 자극합니다. 5. 체스나 보드게임: 전략적인 게임을 하는 것은 문제 해결 능력과 기억력을 향상시키는데 도움이 됩니다. 6. 댄스: 춤을 추는 것은 신체 운동과 뇌 활동을 동시에 증가시키며, 기억력과 조정력을 향상시킵니다. 7. 외국어 학습: 새로운 언어를 배우는 것은 뇌의 다양한 영역을 자극하고, 기억력과 문제 해결 능력을 향상시킵니다. 치매를 예방하기 위해서는 규칙적인 운동, 건강한 식습관, 사회적 활동, 충분한 수면 등 다양한 생활 습관도 중요합니다.'},\n",
       " {'question': '현재 환자 상태는 어떤가요?',\n",
       "  'answer': '생체 신호인 혈압, 맥박, 호흡, 체온, 산소 포화도 등이 모두 안정적이며, 어머님의 전반적인 상태는 안정적입니다. 여전히 L-tube를 통해 영양을 공급받고 있으며, 유치도뇨관을 통해 배뇨를 관리하고 있습니다. 또한, 욕창 부위에는 드레싱을 하고 있으며, 체위 변경과 등 마사지를 통해 욕창 예방을 하고 있습니다. 현재 상태는 안정적이지만, 여전히 의료진의 관찰과 관리가 필요합니다.'},\n",
       " {'question': '지금 상태가 어떤가요?',\n",
       "  'answer': '네, 현재 아버님 상태는 입원 당시 이제 전립선 비대증과 전립선암, 뇌경색, 고혈압,강직성 편마비, 인지기능 저하, 보행 장애가 있으셨는데요. 지금 현재는 식사 잘하시고, 그리고 병원에서 해드릴 수 있는 보존적 치료를 하고 계시있습니다. 보존적 치료를 하면서  증상에 맞춰서 치료를 진행하고 있는데, 약물 치료, 재활 치료, 지능력 향상 치료를 진행하고 있습니다. 그리고 현재 방광루 그러니까 소변을 못 보시기 때문에 방광 쪽으로 관을 연결해서 소변을 볼 수 있게 했습니다. 현재 혈압이나 맥박, 체온은 다 정상이시고, 다른 이상 증상은 없으십니다. 그리고 지금 현재 의료진의 재활 치료와 약물 치료를 잘 받고 계십니다.'},\n",
       " {'question': '어머님이 힘이없고 기운이 없으세요\\n',\n",
       "  'answer': '안타깝게도 어머님은 급성신장장염으로 인해서 전신상태가 저하되어 있는 상태입니다. 현재  의료진에서 그에맞는 약물치료(항생제 치료)와 수액 치료를 진행하고 있으며  입원 당시보다는 염증이 줄어들고 있는 상태입니다. 염증이 없어질 때까지 계속적인 치료를 진행할 계획입니다. 염증이 없어지면 전신상태는 원래대로 호전될것으로 기대하고 있습니다. 의료진의 치료와 관리가 지속적으로 필요한 시기라고 생각합니다. '},\n",
       " {'question': '네\\n뇌경색의 증상좀 알려주세요',\n",
       "  'answer': '감사합니다. 제가 도움이 되어서 다행입니다. 궁금한 것이 있으면 언제든지 물어보세요.'},\n",
       " {'question': '어머니 혈압 수치는 얼마인가요?',\n",
       "  'answer': '어머님은 고혈압으로 장기간 약복용하셨는 데 1달전부터 저혈압을 보여서 고혈압약을 감량해서 처방했으며 그 뒤로는 혈압이 안정적으로 유지 되고 있습니다. 그리고 기타 다른 증상의 변화는 없었습니다.'},\n",
       " {'question': '완치는 가능한가요?',\n",
       "  'answer': '옹고집님은 당뇨병, 뇌내출혈 후유증, 편마비, 뇌전증, 고혈압이 있으며  당뇨병과 고혈압, 뇌전증은 약물치료로 조절이 잘 되고 있으며 편마비와 뇌내출혈 후유증은 약물치료와 재활치료를 병행하고 있으나 완치는 힘들고 악화되는 것을 예방하고 증상 완화를 치료 목적으로 하고 있습니다. 아버님은 치료에 협조를 잘 해주셔서 증상 호전의 가능성을 기대해보고 있습니다. 더 자세한 내용은 의료진과 상담하시는 것이 좋을 것 같습니다.'},\n",
       " {'question': '아버지 나이대에서 검사 해봐야할 의료 검사에 대해 알려주세요',\n",
       "  'answer': '아버님은 병원에 입원시에 필요한 검사(혈액검사, 심전도, 흉부방사선검사, 인지정신상태검사, 일상생활능력평가)를 시행했으며 검사상 혈액검사와, 심전도, 흉부방산선검사는 정상이지만, 인지정신상태검사는 중증의 인지장애를 보였고 일상생활능력도 11점으로 낮게 평가되었습니다. 그래서 치료계획은 약물치료와 함께 재황치료와 인지향상치료를 진행했으며, 일상생활에서는 의료진과 간병인이관심을 가지고 도와주고 있습니다. 참고로 아버지 나이대에서 검사해봐야 할 의료 검사는 다음과 같습니다:\\n\\n1. 일반 건강 검진: 신체 검사, 혈압, 체중, 키, 시력, 청력 등을 평가합니다.\\n2. 혈압 측정: 고혈압을 조기에 발견하여 적절한 조치를 취할 수 있습니다.\\n3. 혈당 검사: 당뇨병의 유무를 확인하기 위해 공복 혈당 및 당화혈색소 검사를 시행합니다.\\n4. 콜레스테롤 검사: 고 콜레스테롤 수치를 감지하여 심장 질환의 위험을 평가합니다.\\n5. 전립선 특이 항원(PSA) 검사: 전립선 암의 조기 발견을 위해 전립선 상태를 평가합니다.\\n6. 폐 기능 검사: 폐의 건강 상태를 평가하고 호흡기 질환을 조기에 발견할 수 있습니다.\\n7. 골밀도 검사: 골다공증의 위험을 평가하고 골건강을 확인할 수 있습니다.\\n8. 우울증 검사: 우울증은 노인들에게 흔히 나타나는 문제이므로, 우울증 검사를 통해 정신적인 건강을 평가합니다.\\n9. 치매 검사: 치매는 노인들에게 흔히 발생하는 문제이므로, 치매 검사를 통해 인지 기능을 평가합니다.\\n\\n이러한 의료 검사는 정기적으로 실시하여 건강 상태를 파악하고 예방적인 조치를 취할 수 있도록 도와줍니다.'},\n",
       " {'question': '고혈압 으로 인한 신장기능 저하의 우려는 없나요?',\n",
       "  'answer': '아버님은 고혈압으로 약물치료 중이며 잘 조절되고 있습니다. 고혈압으로 인한 신장 기능 저하에 대해서는 모니터링 중인데, 1주일 전의 혈액 검사에서 신장 기능은 정상범위에 있는 것으로 확인됩니다. 걱적하지 않으셔도 좋겠습니다. '},\n",
       " {'question': '의사선생님의 의견이 궁금합니다',\n",
       "  'answer': '아버님은 입원 이후, 고혈압, 뇌내출혈 후유증, 강직성 편마비, 난치성 뇌전증을 동반한 전신성 특발성 뇌전증 및 뇌전증 증후군, 상세불명의 간질환, 합병증을 동반하지 않은 제2형 당뇨병 등의 기존 질환으로 인해 보존적 치료를 받았습니다.  당뇨,고혈압, 뇌전증, 간질환 등에 대한 약물 치료를 받았으며, 재활치료를 받았습니다. 또한, 소변 배출을 돕기 위해 방광루를 삽입하였습니다. 입원 기간 동안 안정적이었으며, 혈압, 맥박, 체온 등의 바이탈 사인은 정상 범위 내에 있었습니다. 또한, 소변 배출이 원활하게 이루어지고 있었습니다. 입원 기간 동안 몇 차례 통증을 호소하였으며, 이에 대한 처방이 이루어졌습니다. 또한, 기침과 가래 등의 증상이 있어 이에 대한 처방이 이루어졌습니다. 증상 조절이 잘 되었습니다. 현재 의료진의 소견은 아버님 상태는 안정적이며, 현재의 상태를 잘 유지하는 것을 목표로 하고 있습니다. 무론 상태 호전의 가능성도 있기에 의료진에서 지속적으로 노력하고 있습니다.'},\n",
       " {'question': '현재컨디션',\n",
       "  'answer': '현재 컨디션은 안정적이며, 증상 호전이 많이 되었으며 약물치료와 재활치료에 잘 반응하고 있습니다.'},\n",
       " {'question': '요즘 식사는 잘하시는지 당뇨 고혈압수치는 어떤지요?',\n",
       "  'answer': '식사는 당뇨식으로 하루 3회  드시고 계시며 식사하시고 소화시키는 것은 잘 하고 계십니다. 혈압(BP;100 BPL;65 P;73 RESP;20 T;36.5)은 정상 범위에서 잘 조절되고 있으며, 공복혈당(FBS;101)도 잘 조절되고 있습니다. 의료진의 지속적인 약물치료와 모니터링으로 안정적으로 유지되고 있습니다. '},\n",
       " {'question': '요즘 코로나가 다시 유행이라던데 코로나에 걸리면 어떻게하나요?',\n",
       "  'answer': '코로나에 대한 예방과 대응은 정부의 지침에 따르고 있습니다. 그리고 만약 코로나가 병원내에서 발생할 때에는 대응 메뉴얼에 따라 진행하며 어머님께서 코로나에 감염되었다고 판단되면 코로나 전문 치료 병원으로 이송할 계획입니다. '},\n",
       " {'question': '줄기세포치료가 부작용이 있진 않나요?',\n",
       "  'answer': '저희 병원에서는 줄기 세포 치료를 하지 않고 있습니다. 참고로 설명해드리면, 줄기세포 치료는 다른 의료 치료와 마찬가지로 부작용이 발생할 수 있습니다. 그러나 줄기세포 치료의 부작용은 주로 경미하며, 일시적인 경우가 많습니다. 일반적인 부작용으로는 주사 부위의 통증, 발적, 부종 등이 있을 수 있습니다. 드물게 알레르기 반응이나 감염 등의 부작용이 발생할 수도 있습니다. 그러나 이러한 부작용은 줄기세포 치료의 효과와 잠재적 이점에 비해 일반적으로 경미하며, 적절한 의료 감독 하에 치료를 받는 것이 중요합니다. '},\n",
       " {'question': '혈압은 안정적인가요?  수치는?',\n",
       "  'answer': '네, 혈압은 약간 높지만 안정적인 편입니다. 평균적으로 기록된 수치는 100/50-163/74이며, 가장 최근에 기록된 혈압은 157/74-57입니다.'},\n",
       " {'question': '뇌전증환자는 약물복용후 완치가되나요',\n",
       "  'answer': '아버님은 현재 뇌전증 진단을 받았지만 뇌전증 증상이 발생하지 않았습니다. 약물치료는 하지 않고 있으며 안정적인 상태를 유지하고 있습니다. 하지만 뇌전증은 완치가 어려운 질환이기에 약물 치료는 뇌전증 환자의 증상을 조절하고 발작을 예방하는 데 중요한 역할을 합니다. 따라서 필요하면 약물치료를 언제든지 시작할 계획은 있습니다. 참고로, 경우에 따라서는 적절한 약물 치료로 발작 빈도와 강도를 크게 줄일 수 있으며, 일부 환자는 장기적으로 발작이 전혀 발생하지 않을 수도 있습니다. 그러나 약물 치료에 대한 반응은 개인마다 다를 수 있으며, 일부 환자는 약물만으로는 충분한 효과를 얻지 못할 수도 있습니다. 이러한 경우에는 수술, 케톤 생성 식이요법, 뇌 자극 치료 등 다른 치료 옵션을 고려할 수도 있습니다. 의료진과 상담하여 개인의 상황에 맞는 치료 계획을 수립하는 것이 중요합니다.'},\n",
       " {'question': '그럼 지금 먹는 약과 비타민은 함께 먹어도 되나요?',\n",
       "  'answer': '일부 약물은 비타민 섭취를 제한해야 하는 경우가 있을 수 있으므로, 복용 중인 약물에 대해 의료진과 상담하시는 것이 좋습니다. 또한, 약물과 비타민을 함께 복용할 경우, 상호작용이 발생할 수 있으므로, 의료진에게 비타민 섭취에 대해 알리는 것이 좋습니다.'},\n",
       " {'question': '요양병원에서 치료후\\n집으로 다시모실수 있을까요?\\n상황이심각한가요?\\n',\n",
       "  'answer': '어머님의 현재 상태로 보았을때는 언제 집으로 다시 모실 수 있는지를 예측하기는 어려울 것같습니다. 앞으로 어머님의 상태와 상황을 종합적으로 판단하면서 결정해야하겠습니다. 덧붙여서,  집으로 다시 모실 수 있는지 여부는 어머님의 건강 상태뿐만 아니라 가정 환경, 가족 지원, 의료 서비스 접근성 등 다양한 요소를 고려해야 합니다. 의사와 상담하여 자세한 정보를 얻는 것이 좋습니다.'},\n",
       " {'question': '혈당',\n",
       "  'answer': '이도령님은 당뇨를 가지고 계셔서 식이요법과 약물치료를 병행하고 있습니다.식이요법은 경관식으로 하루 1200kcal를 제공하고 있으며 약물은 트라젠타를 복용하고 있습니다. 공복혈당은110이고 당화혈색소는 6.5로 비교적 안정적으로 유지되고 있습니다. 필요하면 공복혈당과 당화혈색소의 변화에 따라 식이요법과 약물을 조절할 수도 있습니다. '},\n",
       " {'question': '고혈압에 좋은 음식이 무엇인가요?',\n",
       "  'answer': '어머님의 혈압은 정상 범위 내에서 확인되고 있으며, 고혈압에 대한 약물 치료를 진행 중입니다. 참고로, 고혈압에 좋은 음식은 다음과 같습니다:\\n\\n1. 신선한 과일: 바나나, 사과, 베리 종류 등\\n2. 채소: 시금치, 케일, 브로콜리, 당근 등\\n3. 견과류: 아몬드, 호두, 땅콩 등\\n4. 콩류: 콩, 렌즈콩 등\\n5. 저지방 유제품: 우유, 치즈, 요구르트 등\\n6. 생선: 연어, 참치, 고등어 등\\n7. 통곡물: 귀리, 현미, 통밀빵 등\\n8. 닭고기: 껍질을 제거한 가슴살 등\\n9. 초콜릿: 다크 초콜릿은 플라보노이드가 풍부합니다.\\n10. 커피: 적당량의 커피는 혈압을 상승시키지 않고 이점이 있을 수 있습니다.\\n\\n하지만 개인의 건강 상태와 식습관에 따라 다를 수 있으므로, 의사나 영양사와 상담하여 적절한 식단을 구성하는 것이 좋습니다.'},\n",
       " {'question': '네, 그럼 다음주에 연락 드리겟습니다',\n",
       "  'answer': '네, 미리 연락 주시면 예약을 할 수 있습니다. 감사합니다.'},\n",
       " {'question': '간수치는 어떤가요',\n",
       "  'answer': '1달전에 검사한 간기능의 정상(AST/ALT=13/10)범위에 있으며 아버님은 입원 당시에도 간기능은 정상이었습니다.'},\n",
       " {'question': '아버지께서 요양병원 들어가신 직후와 현재의 차이가 있나요?', 'answer': nan},\n",
       " {'question': 'nnnn\\n\\n\\n\\n\\n\\n\\n\\n\\n\\n\\n\\n\\n\\n\\n\\n\\n\\n\\nmm\\n\\n',\n",
       "  'answer': '죄송하지만, 제가 이해하지 못한 내용이 있는 것 같습니다. 더 자세한 내용을 알려주시겠어요?'},\n",
       " {'question': '그렇군요.. 감사합니다.', 'answer': '천만에요! 궁금한 것이 있으면 언제든지 물어보세요.'},\n",
       " {'question': '고마워요.\\n담번에 질문있으면\\n다시 할게요',\n",
       "  'answer': '감사합니다! 또 궁금한 점이 있거나 도움이 필요하시면 언제든지 말씀해주세요.'},\n",
       " {'question': '예 감사합니다', 'answer': '천만에요! 추가로 궁금한 점이 있으면 언제든지 물어보세요.'},\n",
       " {'question': '감사합니다', 'answer': '천만에요! 다른 질문이 있나요?'},\n",
       " {'question': '알겠습니다 \\n감사합니다 ', 'answer': '감사합니다. 또 다른 질문이나 도움이 필요하신가요?'},\n",
       " {'question': '네', 'answer': '추가 도움이 필요하신가요?'},\n",
       " {'question': '네',\n",
       "  'answer': '죄송합니다, 제가 잘 이해하지 못했습니다. 질문이나 요청사항이 있으시면 언제든지 말씀해주세요.'},\n",
       " {'question': '아뇨 잘 하고 계셔서 안심 입니다',\n",
       "  'answer': '감사합니다. 제가 도움이 되어서 다행입니다. 궁금한 것이 있으면 언제든지 물어보세요.'},\n",
       " {'question': '아 그렇군요 항상 감사합니다', 'answer': '별말씀을요! 더 궁금한 사항이 있으면 언제든지 물어보세요.'},\n",
       " {'question': '네 감사합니다 ',\n",
       "  'answer': '별말씀을요! 궁금한 점이 있거나 더 도움이 필요하시면 언제든지 말씀해주세요.'},\n",
       " {'question': '오늘 혈압은 어떠신가요?',\n",
       "  'answer': '오늘의 혈압은 정상 범위 내에서 확인되고 있으며, 고혈압에 대한 약물 치료를 진행 중입니다. 특별히 혈압이 갑자기 상승하거나 그런 증상은 보이지 않고 있습니다. 하지만 지속적으로 모니터링하고 있으며, 필요한 경우 의료진이 적절한 조치를 취하고 있습니다.'},\n",
       " {'question': '잘 움직이지 못하시는데 욕창예방을 위한 조치는 잘 해드리는지요?',\n",
       "  'answer': '네, 환자분은 잘 움직이지 못하시는 상태이므로 욕창예방을 위한 조치가 잘 이루어지고 있습니다. 환자의 간호기록에 따르면, 2시간마다 체위변경과 등마사지가 시행되고 있으며, 욕창 발생 부위의 피부 상태를 관찰하고 있습니다. 또한, 환자의 시트와 침구류의 젖은 여부를 자주 확인하고, 환자의 체중과 체형에 맞는 적절한 매트리스와 쿠션을 사용하여 욕창 예방에 노력하고 있습니다.'},\n",
       " {'question': '끝', 'answer': '알겠습니다. 다른 질문이 있으면 언제든지 말씀해주세요.'},\n",
       " {'question': '혈압은 어떤가요?',\n",
       "  'answer': '혈압은 정상 범위 내에서 확인되고 있으며, 고혈압에 대한 약물 치료를 진행하고 있습니다. 혈압이 갑자기 상승하거나 이상 증상이 보이지 않는다고 합니다. 의료진이 지속적으로 모니터링하고 있으며, 필요한 경우 적절한 조치를 취할 것이라고 합니다.'},\n",
       " {'question': '알겟읍니다', 'answer': '다른 궁금한 점이 있으신가요?'},\n",
       " {'question': '현재 환자 상태는 어떤가요?',\n",
       "  'answer': '가장 최근의 기록에 따르면, 환자는 밤 동안 특별한 변화 없이 잠을 잤습니다. 생체 신호인 혈압, 맥박, 호흡, 체온, 산소 포화도 등이 모두 안정적이며, 환자의 전반적인 상태는 안정적입니다. 환자는 여전히 L-tube를 통해 영양을 공급받고 있으며, 유치도뇨관을 통해 배뇨를 관리하고 있습니다. 또한, 욕창 부위에는 드레싱을 하고 있으며, 체위 변경과 등 마사지를 통해 욕창 예방을 하고 있습니다. 환자의 현재 상태는 안정적이지만, 여전히 의료진의 관찰과 관리가 필요합니다.'},\n",
       " {'question': '네~^^', 'answer': '네, 무엇을 도와드릴까요?'},\n",
       " {'question': '의료기록을 확인하려면 직접 내원해야 하나요?',\n",
       "  'answer': '네, 의료기록을 확인하려면 일반적으로 해당 의료기관에 직접 내원해야 합니다. 의료기록은 환자의 개인정보와 건강 정보를 포함하고 있기 때문에, 환자의 동의 없이 외부로 공개되지 않습니다. 따라서, 의료기록을 확인하고자 할 때는 해당 의료기관에 방문하여 필요한 절차를 따라야 합니다. 이때 신분증을 지참해야 하며, 의료기록 열람 및 복사 등에 대한 수수료가 발생할 수 있으니 참고하시기 바랍니다.'},\n",
       " {'question': '1인실로 옮길수 있을가요',\n",
       "  'answer': '죄송합니다. 저는 의사가 아니기 때문에 의료적인 결정을 내릴 수 없습니다. 그러나 1인실로 옮기는 것은 환자의 상태와 병원의 상황에 따라 달라질 수 있습니다. 환자의 상태와 보험 혜택 등을 고려하여 의료진이나 병원의 입원 담당 부서와 상담해보시는 것이 좋을 것 같습니다.'},\n",
       " {'question': '이번주에 한번 가보겠습니다',\n",
       "  'answer': '좋습니다, 이번 주에 방문하실 예정이시군요. 환자분 상태에 대해 궁금한 점이 있거나 다른 도움이 필요하시면 언제든지 말씀해주세요.'},\n",
       " {'question': '어떤 조치가 이루어졌나요',\n",
       "  'answer': '입원 중 다음과 같은 조치가 이루어졌습니다:\\n\\n1. 보존적 치료: 약물치료, 재활치료, 인지능력 향상치료 등이 진행되었습니다.\\n2. 방광루 설치: 소변을 스스로 볼 수 없어 방광루를 설치하여 소변 배출을 돕습니다.\\n3. 체위 변경 및 등 마사지: 2시간마다 체위를 변경하고 등 마사지를 시행하여 욕창 예방을 돕습니다.\\n4. 정서적 간호: 정서적인 안정을 위해 정서적 간호가 이루어집니다.\\n5. 정기적인 혈압, 맥박, 체온, 호흡 등의 활력 징후 모니터링.\\n6. 의료진의 재활치료 및 약물치료.\\n7. 환자의 식사, 이동, 옷 입히기, 세수, 양치, 목욕, 화장실 사용 등을 도움.\\n8. 목욕 및 이동 시 휠체어를 사용하며, 직원이 도움을 제공합니다.\\n9. 방광루 교체 및 소독.\\n10. 보호자 또는 간병인과의 소통 및 교육.\\n\\n이 외에도 환자의 상태에 따라 필요한 추가적인 조치가 이루어질 수 있습니다.'},\n",
       " {'question': '치매예방에 좋은 취미활동은 어떤게 좋을까요?',\n",
       "  'answer': '치매 예방을 위한 취미 활동은 뇌를 자극하고 활동적으로 유지할 수 있는 것들이 좋습니다. 몇 가지 예시를 드리겠습니다:\\n\\n1. 독서: 독서는 뇌를 활발하게 사용하고 상상력을 자극하여 기억력과 이해력을 향상시킵니다.\\n2. 퍼즐 맞추기: 퍼즐을 맞추는 것은 문제 해결 능력과 집중력을 요구하여 뇌를 활발하게 만듭니다.\\n3. 음악 감상 및 연주: 음악을 듣는 것은 뇌를 자극하고, 악기 연주는 손과 뇌의 조화를 요구하여 뇌 기능을 향상시킵니다.\\n4. 미술 활동: 그림 그리기, 색칠하기, 공예 등 미술 활동은 창의성과 손-눈 협응력을 향상시키며 뇌를 자극합니다.\\n5. 체스나 보드게임: 전략적인 게임을 하는 것은 문제 해결 능력과 기억력을 향상시키는데 도움이 됩니다.\\n6. 댄스: 춤을 추는 것은 신체 운동과 뇌 활동을 동시에 증가시키며, 기억력과 조정력을 향상시킵니다.\\n7. 외국어 학습: 새로운 언어를 배우는 것은 뇌의 다양한 영역을 자극하고, 기억력과 문제 해결 능력을 향상시킵니다.\\n\\n치매를 예방하기 위해서는 규칙적인 운동, 건강한 식습관, 사회적 활동, 충분한 수면 등 다양한 생활 습관도 중요합니다.'},\n",
       " {'question': '현재컨디션', 'answer': '현재 컨디션은 안정적이며, 증상도 없고 치료에 잘 반응하고 있습니다.'}]"
      ]
     },
     "execution_count": 6,
     "metadata": {},
     "output_type": "execute_result"
    }
   ],
   "source": [
    "examples"
   ]
  },
  {
   "cell_type": "code",
   "execution_count": 7,
   "metadata": {},
   "outputs": [],
   "source": [
    "import pandas as pd"
   ]
  },
  {
   "cell_type": "code",
   "execution_count": 8,
   "metadata": {},
   "outputs": [
    {
     "data": {
      "text/html": [
       "<div>\n",
       "<style scoped>\n",
       "    .dataframe tbody tr th:only-of-type {\n",
       "        vertical-align: middle;\n",
       "    }\n",
       "\n",
       "    .dataframe tbody tr th {\n",
       "        vertical-align: top;\n",
       "    }\n",
       "\n",
       "    .dataframe thead th {\n",
       "        text-align: right;\n",
       "    }\n",
       "</style>\n",
       "<table border=\"1\" class=\"dataframe\">\n",
       "  <thead>\n",
       "    <tr style=\"text-align: right;\">\n",
       "      <th></th>\n",
       "      <th>question</th>\n",
       "      <th>answer</th>\n",
       "    </tr>\n",
       "  </thead>\n",
       "  <tbody>\n",
       "    <tr>\n",
       "      <th>0</th>\n",
       "      <td>증상이 어떤가요?</td>\n",
       "      <td>아버님의 입원당시 주증상은 편마비가 보였습니다. 현재의 증상은 내원 당시와 동일하면...</td>\n",
       "    </tr>\n",
       "    <tr>\n",
       "      <th>1</th>\n",
       "      <td>별이 보일때 어떻게 치료하나요?</td>\n",
       "      <td>아버님의 상태는 안정적이며 별이 보이는 증상을 보이지는 않습니다.  의료진이 계속 ...</td>\n",
       "    </tr>\n",
       "    <tr>\n",
       "      <th>2</th>\n",
       "      <td>nnnn\\n\\n\\n\\n\\n\\n\\n\\n\\n\\n\\n\\n\\n\\n\\n\\n\\n\\n\\nmm\\n\\n</td>\n",
       "      <td>오타가 있는 것 같습니다. 아버님의 상태에 대해 궁금하신 내용이 있으면 알려주세요.</td>\n",
       "    </tr>\n",
       "    <tr>\n",
       "      <th>3</th>\n",
       "      <td>뇌경색으로 1주일째 중환자실에 있는데 회복 가능할까요?</td>\n",
       "      <td>오늘 활력징후(BP;106 BPL;62 P;103 RESP;21 T;36.6)는 안...</td>\n",
       "    </tr>\n",
       "    <tr>\n",
       "      <th>4</th>\n",
       "      <td>뇌전증으로 합병증이 있나요</td>\n",
       "      <td>어머님은 뇌내출혈 후의 합병증으로 인한 뇌전증으로 진단받으셨습니다. 즉, 뇌내출혈 ...</td>\n",
       "    </tr>\n",
       "    <tr>\n",
       "      <th>...</th>\n",
       "      <td>...</td>\n",
       "      <td>...</td>\n",
       "    </tr>\n",
       "    <tr>\n",
       "      <th>79</th>\n",
       "      <td>1인실로 옮길수 있을가요</td>\n",
       "      <td>죄송합니다. 저는 의사가 아니기 때문에 의료적인 결정을 내릴 수 없습니다. 그러나 ...</td>\n",
       "    </tr>\n",
       "    <tr>\n",
       "      <th>80</th>\n",
       "      <td>이번주에 한번 가보겠습니다</td>\n",
       "      <td>좋습니다, 이번 주에 방문하실 예정이시군요. 환자분 상태에 대해 궁금한 점이 있거나...</td>\n",
       "    </tr>\n",
       "    <tr>\n",
       "      <th>81</th>\n",
       "      <td>어떤 조치가 이루어졌나요</td>\n",
       "      <td>입원 중 다음과 같은 조치가 이루어졌습니다:\\n\\n1. 보존적 치료: 약물치료, 재...</td>\n",
       "    </tr>\n",
       "    <tr>\n",
       "      <th>82</th>\n",
       "      <td>치매예방에 좋은 취미활동은 어떤게 좋을까요?</td>\n",
       "      <td>치매 예방을 위한 취미 활동은 뇌를 자극하고 활동적으로 유지할 수 있는 것들이 좋습...</td>\n",
       "    </tr>\n",
       "    <tr>\n",
       "      <th>83</th>\n",
       "      <td>현재컨디션</td>\n",
       "      <td>현재 컨디션은 안정적이며, 증상도 없고 치료에 잘 반응하고 있습니다.</td>\n",
       "    </tr>\n",
       "  </tbody>\n",
       "</table>\n",
       "<p>84 rows × 2 columns</p>\n",
       "</div>"
      ],
      "text/plain": [
       "                                            question  \\\n",
       "0                                          증상이 어떤가요?   \n",
       "1                                  별이 보일때 어떻게 치료하나요?   \n",
       "2   nnnn\\n\\n\\n\\n\\n\\n\\n\\n\\n\\n\\n\\n\\n\\n\\n\\n\\n\\n\\nmm\\n\\n   \n",
       "3                     뇌경색으로 1주일째 중환자실에 있는데 회복 가능할까요?   \n",
       "4                                     뇌전증으로 합병증이 있나요   \n",
       "..                                               ...   \n",
       "79                                     1인실로 옮길수 있을가요   \n",
       "80                                    이번주에 한번 가보겠습니다   \n",
       "81                                     어떤 조치가 이루어졌나요   \n",
       "82                          치매예방에 좋은 취미활동은 어떤게 좋을까요?   \n",
       "83                                             현재컨디션   \n",
       "\n",
       "                                               answer  \n",
       "0   아버님의 입원당시 주증상은 편마비가 보였습니다. 현재의 증상은 내원 당시와 동일하면...  \n",
       "1   아버님의 상태는 안정적이며 별이 보이는 증상을 보이지는 않습니다.  의료진이 계속 ...  \n",
       "2      오타가 있는 것 같습니다. 아버님의 상태에 대해 궁금하신 내용이 있으면 알려주세요.  \n",
       "3   오늘 활력징후(BP;106 BPL;62 P;103 RESP;21 T;36.6)는 안...  \n",
       "4   어머님은 뇌내출혈 후의 합병증으로 인한 뇌전증으로 진단받으셨습니다. 즉, 뇌내출혈 ...  \n",
       "..                                                ...  \n",
       "79  죄송합니다. 저는 의사가 아니기 때문에 의료적인 결정을 내릴 수 없습니다. 그러나 ...  \n",
       "80  좋습니다, 이번 주에 방문하실 예정이시군요. 환자분 상태에 대해 궁금한 점이 있거나...  \n",
       "81  입원 중 다음과 같은 조치가 이루어졌습니다:\\n\\n1. 보존적 치료: 약물치료, 재...  \n",
       "82  치매 예방을 위한 취미 활동은 뇌를 자극하고 활동적으로 유지할 수 있는 것들이 좋습...  \n",
       "83             현재 컨디션은 안정적이며, 증상도 없고 치료에 잘 반응하고 있습니다.  \n",
       "\n",
       "[84 rows x 2 columns]"
      ]
     },
     "execution_count": 8,
     "metadata": {},
     "output_type": "execute_result"
    }
   ],
   "source": [
    "result = pd.DataFrame(examples)"
   ]
  },
  {
   "cell_type": "code",
   "execution_count": 122,
   "metadata": {},
   "outputs": [],
   "source": [
    "from langchain_core.prompts import PromptTemplate\n",
    "\n",
    "example_prompt = PromptTemplate.from_template(\"Question: {question}\\n{answer}\")"
   ]
  },
  {
   "cell_type": "code",
   "execution_count": 123,
   "metadata": {},
   "outputs": [
    {
     "name": "stdout",
     "output_type": "stream",
     "text": [
      "Question: 증상이 어떤가요?\n",
      "아버님의 입원당시 주증상은 편마비가 보였습니다. 현재의 증상은 내원 당시와 동일하면 큰 변화는 없습니다. 현재의 상태를 호전시키기위해 수액치료, 약물치료, 인지치료, 재활치료를 하고 있습니다. 저희 의료진이 계속 모니터링 중이며 변화가 있으면 보호자분에게 연락드리겠습니다.  \n"
     ]
    }
   ],
   "source": [
    "print(example_prompt.invoke(examples[0]).to_string())"
   ]
  },
  {
   "cell_type": "code",
   "execution_count": 125,
   "metadata": {},
   "outputs": [],
   "source": [
    "from langchain_core.prompts import FewShotPromptTemplate\n",
    "\n",
    "prompt = FewShotPromptTemplate(\n",
    "    examples=examples,\n",
    "    example_prompt=example_prompt,\n",
    "    suffix=\"Question: {input}\",\n",
    "    input_variables=[\"input\"],\n",
    ")"
   ]
  },
  {
   "cell_type": "code",
   "execution_count": 128,
   "metadata": {},
   "outputs": [],
   "source": [
    "from langchain_upstage import UpstageEmbeddings"
   ]
  },
  {
   "cell_type": "code",
   "execution_count": 129,
   "metadata": {},
   "outputs": [],
   "source": [
    "load_dotenv()\n",
    "\n",
    "# Load API keys from environment variables\n",
    "UPSTAGE_API_KEY = os.getenv('UPSTAGE_API_KEY')"
   ]
  },
  {
   "cell_type": "code",
   "execution_count": 130,
   "metadata": {},
   "outputs": [],
   "source": [
    "# Vector Store 구축\n",
    "embeddings = UpstageEmbeddings(\n",
    "    api_key=UPSTAGE_API_KEY,\n",
    "    model=\"solar-embedding-1-large\"\n",
    ")"
   ]
  },
  {
   "cell_type": "code",
   "execution_count": 135,
   "metadata": {},
   "outputs": [
    {
     "data": {
      "text/plain": [
       "[{'question': '증상이 어떤가요?',\n",
       "  'answer': '아버님의 입원당시 주증상은 편마비가 보였습니다. 현재의 증상은 내원 당시와 동일하면 큰 변화는 없습니다. 현재의 상태를 호전시키기위해 수액치료, 약물치료, 인지치료, 재활치료를 하고 있습니다. 저희 의료진이 계속 모니터링 중이며 변화가 있으면 보호자분에게 연락드리겠습니다.  '},\n",
       " {'question': '별이 보일때 어떻게 치료하나요?',\n",
       "  'answer': '아버님의 상태는 안정적이며 별이 보이는 증상을 보이지는 않습니다.  의료진이 계속 케어하면서 모니터링하고 있으며 그런 증상이 있으면 적절한 조치와 치료를 진행할 계획입니다.'},\n",
       " {'question': 'nnnn\\n\\n\\n\\n\\n\\n\\n\\n\\n\\n\\n\\n\\n\\n\\n\\n\\n\\n\\nmm\\n\\n',\n",
       "  'answer': '오타가 있는 것 같습니다. 아버님의 상태에 대해 궁금하신 내용이 있으면 알려주세요.'},\n",
       " {'question': '뇌경색으로 1주일째 중환자실에 있는데 회복 가능할까요?',\n",
       "  'answer': '오늘 활력징후(BP;106 BPL;62 P;103 RESP;21 T;36.6)는 안정적인 정상범위에 있으며, 뇌경색으로 인한 편마비 증상은 약간은 호전된 상태이나 계속적인 약물치료와 재활치료가 필요한 상태입니다. 단기간에 회복에 대해서는 예측하기 어렵지만 장기적으로는 어느 정도 회복은 가능할 것으로 의료진이 판단하고 있습니다. 빠른 회복을 위해 의료진의 적극적인 치료와 모니터링을 진행하고 있으며 상태에 변화가 있으면 신속한 치료와 동시에 보호자분에게 연락을 드리겠습니다. 저희 의료진에게 믿고 맡겨주셔서 감사합니다. 다른 궁금한 상항이 있으시면 알려주세요.'},\n",
       " {'question': '뇌전증으로 합병증이 있나요',\n",
       "  'answer': '어머님은 뇌내출혈 후의 합병증으로 인한 뇌전증으로 진단받으셨습니다. 즉, 뇌내출혈 후의 뇌손상으로 인한 증상입니다. 뇌전증이 진행되면 뇌손상이 더욱 악화될 가능성이 높기에 뇌전증을 완화시키는 약물치료를 하고 있으며 인지치료와 재활치료를 병행하여 회복을 더욱 도와주고 있습니다. 의료진이 지속적인 치료와 관심으로 케어하고 있기에 뇌전증 합병증의 가능성이 줄어들 것으로 기대합니다. '},\n",
       " {'question': '당뇨,고혈압 수치가 호전되고 있나요?',\n",
       "  'answer': '혈압(BP;100 BPL;65 P;73 RESP;20 T;36.5)은 정상 범위에서 잘 조절되고 있으며, 공복혈당(FBS;101)도 잘 조절되고 있습니다. 의료진의 지속적인 약물치료와 모니터링으로 안정적으로 유지되고 있습니다. '},\n",
       " {'question': '치매 진행 완화를 위해 특별한 프로그램은 있나요?',\n",
       "  'answer': '네, 어머님은 치매 진행 완화를 위해 약물치료, 인지 자극 프로그램, 운동 및 신체 활동, 사회적 참여, 영양 및 수면 관리 등 다양한 프로그램이 받고 계십니다. 입원 당시와 비교했을 때보다 어느 정도 호전된 상태입니다. 예를 들면 말씀하실 때 좀더 기억을 잘하시는데 어제 먹었던 음식도 기억합니다.  참고로 프로그램에 대한 상세 내용은 다음과 같습니다.\\n\\n인지 자극 프로그램은 인지 기능을 자극하고 유지하기 위해 설계된 활동으로, 퍼즐, 게임, 기억 훈련, 음악 치료 등이 포함될 수 있습니다. 이러한 프로그램은 기억력, 집중력, 문제 해결 능력 등을 향상시키는 데 도움을 줄 수 있습니다.\\n\\n운동 및 신체 활동은 신체적 건강을 증진시키는 데 도움을 줄 뿐만 아니라 뇌 건강에도 긍정적인 영향을 미칩니다. 일상적인 운동, 산책, 정원 가꾸기, 춤, 요가 등이 포함될 수 있습니다.\\n\\n사회적 참여는 사회적 상호작용과 연결을 촉진하여 치매 진행을 완화하는 데 도움을 줄 수 있습니다. 사회적인 모임, 클럽, 자원봉사 활동, 가족과의 교류 등을 통해 사회적으로 활동적인 생활을 유지할 수 있습니다.\\n\\n영양 및 수면 관리는 뇌 건강에 중요한 역할을 합니다. 영양가 있는 식단을 유지하고, 충분한 수면을 취하는 것은 인지 기능과 뇌 건강에 도움을 줄 수 있습니다.\\n\\n이러한 프로그램들은 개인의 상태와 선호도에 따라 맞춤형으로 제공되고 있으며 어머님은 특히 가벼운 요가를 좋아하시고 있으며 이 모든 프로그램에 잘 협조해주시고 잘 참여하시고 계십니다.'},\n",
       " {'question': '최근 위염 증상은 좀 나아졌나요?',\n",
       "  'answer': '위염이 좀 나아지시기는 했는데 여전히 약물치료 중에 있으며 다행인 것은 식사량이 줄지는 않았습니다. 다음주까지 약물치료(마그밀,잔탁,가모드정)를 진행하면 정상으로 회복하리라 기대하고 있습니다. '},\n",
       " {'question': '불면증이 심하신데 어떻게 해야할까요?',\n",
       "  'answer': '불면증에 대해서는 약물치료(리보트릴) 중이며, 수면중에 중간에 깨어나지는 않으시고 있어서 수면의 질이 개선되어 보입니다. 의료진은 1달정도는 약물치료 계획중입니다. 그리고. 다음과 같은 치료도 병행하고 있습니다. 1.규칙적인 수면 스케줄 유지: 주말을 포함하여 매일 같은 시간에 일어나고 잠자리에 들도록 노력하세요.\\n\\n2. 편안한 수면 환경 조성: 조용하고 어두운 방에서 잠을 자도록 하고, 편안한 침구와 온도를 유지하세요.\\n\\n3. 스크린 시간 제한: 스마트폰, 태블릿, 컴퓨터 및 TV 등의 화면 시간은 수면 질을 저하시킬 수 있으므로, 잠들기 전에는 화면 시간을 제한하는 것이 좋습니다.\\n\\n4. 수면 전에 휴식: 잠들기 전에 책을 읽거나 편안한 음악을 듣는 등 휴식을 취할 수 있는 활동을 해보세요.\\n\\n5. 규칙적인 운동: 정기적인 신체 활동은 수면에 도움이 될 수 있습니다. 하지만, 수면 직전에 운동을 하지 않도록 주의하세요.\\n\\n6. 수면 전에 수분 섭취: 수면 전에 너무 많은 수분을 섭취하지 않도록 주의하세요.'},\n",
       " {'question': '어떻게 연락하나요?',\n",
       "  'answer': '병원 전화번호는 02-2678-5678 입니다.  전화하셔서 이도령님 보호자라고 말씀하시고 담당 간호사를 찾으시면 좋을 것같습니다. '},\n",
       " {'question': '요즘 혈압은 안정적이신가요?',\n",
       "  'answer': '혈압(BP;103 BPL;62 P;70 RESP;20 T;36.00)은 안정적으로 유지하고 있으며 약물치료(텔핀스타정)에 잘 반응하고 있습니다.'},\n",
       " {'question': '자꾸만 살이 찌시는데 평소 살을 뺄수 있는 방법이 있을까요?',\n",
       "  'answer': '배장화님 보호자분 되시지요. 어머님의 상태에 대한 질문을 해주시면 좋을 것같습니다. 참고로 말씀드리면 체중 감량은 식단 조절과 운동이 중요하지만 비만인 경우에는 약물치료도 고려해보세요. 대사증후군을 예방하는 것이 중요합니다. 또 궁금한 점이 있거나 도움이 필요하시면 언제든지 말씀해주세요.'},\n",
       " {'question': '저희 아버님이 요새 어떠신가요',\n",
       "  'answer': '입원 당시와 비교해 봤을때, 혈압도 정상화 되었고 인지능력도 향상되었지만 편마비는 큰 벼화는 없는 것같습니다. 아버님의 혈압은 103/63, 맥박은 98, 호흡은 20, 체온은 36.0도이며, 기타 이상 증상은 없습니다. 아버님은 현재 식사도 잘하고, 활력 징후도 안정적이며, 정서적으로도 안정적입니다.'},\n",
       " {'question': '통증은 얼마나 심한가요?',\n",
       "  'answer': '입원당시에도 두통을 호소했는데 약물치료(애니스펜)으로 보존적 치료를 했으며 그 뒤로 간헐적으로 호소하셔서 필요할 때만 약물치료로 조절이 가능합니다. 혈압은 정상으로 유지되고 열이 없어서 비특이적 두통으로 추정하고 있으며 통증의 횟수는 내원후에 줄어든 상태입니다.  또한 간혹 치통을 호소하셔서 의료진에서는 치과 치료가 필요할 것으로 생각이 되며 외래로 통원치료를 추천하고 있습니다. 보호자분이 동행이 가능한 지 나중에 알려주세요.'},\n",
       " {'question': '환자가 느꼈을 통증의 정도는 어땠나요?',\n",
       "  'answer': '입원 당시에 어깨와 무릅에 관절염으로 통증을 많이 호소하셔서 약물치료를 해서 통증이 줄었으나 여전히 아파하셔서 한방치료(침시술)을 병행했습니다. 그 뒤로 통증이 많이 줄어서 신체 활동도 잘 하시고 안정적으로 생활하고 계십니다.'},\n",
       " {'question': '환자 위생이나 청결에 관해서도 궁금합니다',\n",
       "  'answer': '아버님은 매일 아침에 규칙적으로 세면을 하시고 1주일에 1회 목욕을 하고 계시고 환자복과 침구류는 1주일에 1회 새것으로 교환해서 사용하고 계십니다. 물론 중간에 더러워지면 언제든지 새것으로 바꿔드리고 있습니다.  의료진의 지속적이고 세심한 케어가 진행되고 있습니다. 더 궁금하신것이 있으면 말씀해주세요.'},\n",
       " {'question': '지금 혈압이 어떻게 되나요?',\n",
       "  'answer': '배장화님의 혈압(BP;108  BPL;74  P;82  RESP;20  T;36.7)은 정상범위에 ㅇ있으며 안정적입니다.  적절한 약물치료(노바스크)에 의해 조절이 잘 되고 있습니다.'},\n",
       " {'question': '지금은소변만 실수하는데 병윈 에 모셔야할까요?',\n",
       "  'answer': '아직 병원에 입원하시지 않은 상태라면 방문하셔서 진료를 보시는 것이 좋겠습니다. 진료시에 인지 및 정신상태 검사와 일상생활능력 평가를 통해서 적절한 치료와 입원 여부가 결정 될것같습니다. 예약후에 방문하시면 좋겠습니다. 예약을 도와드릴까요?'},\n",
       " {'question': '요즘 등이 가끔 간지럽고 쑤시는데 무슨 증상일까요?',\n",
       "  'answer': '성춘향님 보호자분이 하신 질문은 성춘향과 관련이 있는 질문인가요? 없다만 일반적인 내용으로 설명해 드리겠습니다. 등이 간지럽고 쑤시는 증상은 다양한 원인이 있을 수 있습니다. 몇 가지 가능한 원인 중 일부는 다음과 같습니다:\\n\\n1. 근육 긴장: 일상적인 활동이나 운동으로 인해 등이 긴장될 수 있습니다.\\n2. 척추 이상: 척추 디스크의 변위, 척추측만증 등 척추의 이상으로 인해 등이 쑤실 수 있습니다.\\n3. 피부 질환: 건조한 피부, 습진, 피부염 등의 피부 질환으로 인해 등이 간지러울 수 있습니다.\\n4. 신경통: 신경통이나 신경압박으로 인해 등이 쑤실 수 있습니다.\\n5. 기타 원인: 감염, 종양, 대사 이상 등 다른 원인으로 인해 등이 쑤실 수도 있습니다.\\n\\n만약 등의 간지러움과 쑤심이 계속되거나 심해진다면, 의료 전문가와 상담하여 정확한 원인을 파악하고 적절한 치료를 받는 것이 좋습니다.'},\n",
       " {'question': '현 상태',\n",
       "  'answer': '현재 성춘향님은 입원하여 보존적 치료를 받고 있습니다. 약물 치료, 재활 치료, 인지 기능 향상 치료 등을 받고 있으며, 식사와 활력 징후는 안정적입니다. 방광루를 통해 소변을 배출하고 있으며, 혈압과 당뇨, 치매는 약물 치료로 관리되고 있습니다. 현재 상태는 대체로 안정적이며, 의료진의 관찰과 치료를 받고 있습니다.'},\n",
       " {'question': '의료기록을 확인하려면 직접 내원해야 하나요?',\n",
       "  'answer': '네, 의료기록을 확인하려면 일반적으로 해당 의료기관에 직접 내원해야 합니다. 의료기록은 환자의 개인정보와 건강 정보를 포함하고 있기 때문에, 환자의 동의 없이 외부로 공개되지 않습니다. 따라서, 의료기록을 확인하고자 할 때는 해당 의료기관에 방문하여 필요한 절차를 따라야 합니다. 이때 신분증을 지참해야 하며, 의료기록 열람 및 복사 등에 대한 수수료가 발생할 수 있으니 참고하시기 바랍니다. 하지만 간단한 의료기록의 저에게 질문하시면 답변해드릴  수 있습니다. 어떤 내용이 궁금하신가요?'},\n",
       " {'question': '저혈압 같은데요?',\n",
       "  'answer': '어어님의 혈압은 정상범위(BP;117 BPL;67 P;65 )로 조절이 잘 되고 있으며 약물치료에도 잘 반응하고 있습니다.'},\n",
       " {'question': '지금 어디가 제일 불편한가요?\\n하루 일상생활은 어떻게 시작하나요?\\n제일 필요한것은 무엇인가요?\\n',\n",
       "  'answer': '아버님은 편마비로 인해 왼쪽 몸이 마비되어 있어, 일상생활에서 많은 도움이 필요합니다. 또한, 욕창과 압박부위로 인해 피부가 손상되어 있어 통증을 느낄 수 있기때문에 의료진이 매일 치료하면서 빠른 회복을 돕고 있습니다.'},\n",
       " {'question': '하루 일상생활은 어떻게 시작하나요?',\n",
       "  'answer': '어머님의 하루는 보호자나 간호사, 간병인의 도움으로 시작됩니다. 거의 전적으로 다른 사람들의 도움을 받아 일상생활을 수행합니다. 아침에는 체위 변경, 피부 상태 확인, 대소변 처리, 식사, 약물 복용 등의 일정이 있으며 하루 종일 주기적으로 체위 변경과 피부 관리가 이루어지며, 매일 의료진이 회진하면서 치료가 이루어집니다.'},\n",
       " {'question': '제일 필요한것은 무엇인가요?',\n",
       "  'answer': '어머님은 편마비와 욕창으로 인해 신체적인 도움이 많이 필요합니다. 의료진이 매일 욕창 치료와 재활치료를 하고 있으면 약간의 호전은 있지만 지속적인 치료가 필요하고 일상생활하는데 간병인의 도움으로 식사, 목욕, 화장실 사용 등의 생활을 잘 하고 있습니다. 현재 편안한 환경과 적절한 의료 장비를 제공받고 있으며, 참고로  정서적인 지원과 대화, 가족과의 소통도 환자에게 큰 도움이 될 수 있습니다.'},\n",
       " {'question': '1인실로 옮길수 있을가요',\n",
       "  'answer': '병실을 1인실로 옮기고 싶으시면 원무과에 문의하셔야 합니다. 원무과 전화번호는 02-7222-5678 입니다. 직접 통화하시는 것이 좋을 것같습니다.'},\n",
       " {'question': '어떤 문제가 발생한 건 아니죠?',\n",
       "  'answer': '아버님은 2024년 4월1일에 입원하셨고 그 이후로 안정적으로 지내시고 계십니다. 특별히 상태가 호전되었거나 악화되지는 않은 상황입니다. 의료진이 지속적으로 관심있게 케어하고 있으며 변화가 발생하면 연락드리겠습니다.'},\n",
       " {'question': '식사는 잘 하고 계신가요?',\n",
       "  'answer': '네, 현재 제공되는 경관식을 잘 드시고 계십니다. 경관식은 하루에 3번 드시고 있으며 소화에는 별 문제는 없는 상태입니다. '},\n",
       " {'question': '다행이네요\\n당뇨치료도 잘되고있나요',\n",
       "  'answer': '네, 어머님의 현재 상태는 안정적이며 인지치료, 재활치료, 약물치료에 잘 호응해주시고 계십니다.'},\n",
       " {'question': '환자의 기분은 어떤가요?',\n",
       "  'answer': '어머님은 안타깝게도 뇌경색과 치매로 입원당시부터 의사소통이 힘든 상태였기에 대화를 통해서 기분을 확인할 수는 없는 상황입니다. 그래서 활력징후, 혈액검사, 인지-정신건강상태 검사를 통해서 간접적으로 확인해본 결과 안정적이며 편안한 상태로 추정됩니다. 앞으로 상태 변화에 대해 지속적으로 모니터링하겠습니다. '},\n",
       " {'question': '평균적으로 당녀 걸리면 얼마나 사나요',\n",
       "  'answer': '현재 아버님은 당뇨로 진단을 받으셨으며 이에 대한 치료로 식이요법과 약물치료를 뱅행하고 있습니다. 공복혈당은 안정적으로 정상 범위를 로 유지하고 계십니다. 일반적으로 당뇨병은 만성적인 대사성 질환으로, 적절한 치료와 관리가 이루어지지 않으면 심각한 합병증을 유발할 수 있습니다. 당뇨병의 심각성, 합병증의 유무, 치료 및 관리 방법 등에 따라 수명이 크게 달라질 수 있습니다. \\n\\n당뇨병이 잘 관리되지 않는 경우, 심혈관 질환, 신장 질환, 신경 손상, 실명 등의 합병증이 발생할 가능성이 높아지며, 이로 인해 수명이 단축될 수 있습니다. 그러나 당뇨병이 잘 관리되는 경우, 정상적인 수명을 유지할 수 있습니다.\\n\\n당뇨병의 관리와 합병증 예방을 위해 규칙적인 혈당 모니터링, 건강한 식습관, 적절한 운동, 약물 치료 등이 필요합니다. 당뇨병 환자는 의료진과 긴밀히 협력하여 적절한 치료 계획을 수립하고, 이를 지속적으로 이행하는 것이 중요합니다.'},\n",
       " {'question': '나이와 지병에 적합한 운동좀 추천해주세요',\n",
       "  'answer': '아버님은 좌측편마비로 인해 와상상태이기때문에 재활치료를 집중적으로 받고 있습니다. 현재 편마비가 큰 변화는 없기에 지속적인 재활치료가 필요합니다.                                                                                일반적으로 지병에 따라 운동의 종류와 강도를 조절해야 합니다. 따라서, 의료진과 상담하여 적절한 운동 계획을 수립하는 것이 좋습니다.\\n\\n고령자에게는 저강도의 유산소 운동과 근력 운동이 좋습니다. 유산소 운동으로는 빠른 걷기, 수영, 자전거 타기 등이 있습니다. 근력 운동으로는 체중 운동, 저항 운동 등이 있습니다. 또한, 균형감각을 향상시키는 운동도 중요합니다.\\n\\n운동 계획을 수립할 때는, 적절한 강도와 시간을 설정하고, 천천히 시작하여 점진적으로 강도를 높이는 것이 좋습니다. 또한, 충분한 휴식과 수분 섭취를 잊지 않도록 합니다. 의료진과 상담하여 적절한 운동 계획을 수립하고, 안전하게 운동을 즐기시기 바랍니다. '},\n",
       " {'question': '근력감소 염증문제',\n",
       "  'answer': '어머님은 입원 당시 장기간 와상상태이며 편마비가 있었습니다. 그로 인한 근력감소와 노화로 인한 근력감소가 같이 영향을 준것으로 추정됩니다. 다행히 입원후에 식사량이 늘고 있지만 의료진의 생각에는 영양제와 단백질 보충이 필요한 상태라고 생각하고 있습니다. 이 부분은 비용이 추가로 들기때문에 보호자분이 좀더 생각해보시고 병원에 연락을 주세요. 염증소견은 입원당시에 있었으나 약물치료후에 지금은 없는 상태입니다. '},\n",
       " {'question': '전체적으로 건강상태가 어떤가요?',\n",
       "  'answer': '네, 현재 아버님 상태는 입원 당시 이제 전립선 비대증과 전립선암, 뇌경색, 고혈압,강직성 편마비, 인지기능 저하, 보행 장애가 있으셨는데요. 지금 현재는 식사 잘하시고, 그리고 병원에서 해드릴 수 있는 보존적 치료를 하고 계시있습니다. 보존적 치료를 하면  증상에 맞춰서 치료를 진행하고 있는데, 약물 치료, 재활 치료, 지능력 향상 치료를 진행하고 있습니다. 그리고 현재 방광루 그러니까 소변을 못 보시기 때문에 방광 쪽으로 관을 연결해서 소변을 볼 수 있게 했습니다. 현재 혈압이나 맥박, 체온은 다 정상이시고, 다른 이상 증상은 없으십니다. 그리고 지금 현재 의료진의 재활 치료와 약물 치료를 잘 받고 계십니다.'},\n",
       " {'question': '아버님 간수치기 400으로 위험한데 조치 부탁드립니다',\n",
       "  'answer': '아버님의 혈액검사를 최근에 7월 29일에 했습니다. 제가 확인해보니 간기능(AST/ALT=11/5)은 정상입니다.  혹시 보호자께서 알고 있는 정보가 맞는지 병원에 직접 확인해보시는 것이 좋을 것같습니다. '},\n",
       " {'question': '편마비 증세가 있는데 지금은 호전되고 있는지 궁금합니다\\n',\n",
       "  'answer': '강직성 편마비는 약간의 호전이 있습니다, 지속적인 재활치료와 인지치료를 같이 병행해서 진행하고 있으며 마비가 호전되는 지는 더 지켜보아야 할 것 같습니다. 아버님은 치료에 적극적으로 참여 하시는 편이어서 의료진에서도 기대하고 있습니다.'},\n",
       " {'question': '어떤 조치가 이루어졌나요',\n",
       "  'answer': '어머님은 와상상태이며 강직성 편마비와 관절염이 있으셔서 의료진에서 다양한 치료를 진행했습니다. 입원 당시보다 전체적으로 활력징후는 안정적이며, 욕창도 거의 회복된 상태입니다. 그리고 입원 중 다음과 같은 조치가 이루어졌습니다:\\n\\n1. 보존적 치료: 약물치료, 재활치료, 인지능력 향상치료 등이 진행되었습니다.\\n2. 방광루 설치: 소변을 스스로 볼 수 없어 방광루를 설치하여 소변 배출을 돕습니다.\\n3. 체위 변경 및 등 마사지: 2시간마다 체위를 변경하고 등 마사지를 시행하여 욕창 예방을 돕습니다.\\n4. 정서적 간호: 정서적인 안정을 위해 정서적 간호가 이루어집니다.\\n5. 정기적인 혈압, 맥박, 체온, 호흡 등의 활력 징후 모니터링.\\n6. 의료진의 재활치료 및 약물치료.\\n7. 환자의 식사, 이동, 옷 입히기, 세수, 양치, 목욕, 화장실 사용 등을 도움.\\n8. 목욕 및 이동 시 휠체어를 사용하며, 직원이 도움을 제공합니다.\\n9. 방광루 교체 및 소독.\\n10. 간병인과의 소통 및 교육.\\n\\n이 외에도 환자의 상태에 따라 필요한 추가적인 조치가 이루어질 수 있습니다.'},\n",
       " {'question': '치매예방에 좋은 취미활동은 어떤게 좋을까요?',\n",
       "  'answer': '어머님은 알츠하이머에 의한 치매로 인해 약물치료와 인지향상치료를 받고 계십니다. 현재는 큰 변화는 없지만 증상 악화를 예방하기위해 지속적인 치료가 필요하다고 생각합니다. 보호자께서 원하시는 치매예방에 좋은 취미활동은 어떤 종류가 있는지 설명하겠습니다. 치매 예방을 위한 취미 활동은 뇌를 자극하고 활동적으로 유지할 수 있는 것들이 좋습니다.                                                                                몇 가지 예시를 드리겠습니다: 1. 독서: 독서는 뇌를 활발하게 사용하고 상상력을 자극하여 기억력과 이해력을 향상시킵니다. 2. 퍼즐 맞추기: 퍼즐을 맞추는 것은 문제 해결 능력과 집중력을 요구하여 뇌를 활발하게 만듭니다. 3. 음악 감상 및 연주: 음악을 듣는 것은 뇌를 자극하고, 악기 연주는 손과 뇌의 조화를 요구하여 뇌 기능을 향상시킵니다. 4. 미술 활동: 그림 그리기, 색칠하기, 공예 등 미술 활동은 창의성과 손-눈 협응력을 향상시키며 뇌를 자극합니다. 5. 체스나 보드게임: 전략적인 게임을 하는 것은 문제 해결 능력과 기억력을 향상시키는데 도움이 됩니다. 6. 댄스: 춤을 추는 것은 신체 운동과 뇌 활동을 동시에 증가시키며, 기억력과 조정력을 향상시킵니다. 7. 외국어 학습: 새로운 언어를 배우는 것은 뇌의 다양한 영역을 자극하고, 기억력과 문제 해결 능력을 향상시킵니다. 치매를 예방하기 위해서는 규칙적인 운동, 건강한 식습관, 사회적 활동, 충분한 수면 등 다양한 생활 습관도 중요합니다.'},\n",
       " {'question': '현재 환자 상태는 어떤가요?',\n",
       "  'answer': '생체 신호인 혈압, 맥박, 호흡, 체온, 산소 포화도 등이 모두 안정적이며, 어머님의 전반적인 상태는 안정적입니다. 여전히 L-tube를 통해 영양을 공급받고 있으며, 유치도뇨관을 통해 배뇨를 관리하고 있습니다. 또한, 욕창 부위에는 드레싱을 하고 있으며, 체위 변경과 등 마사지를 통해 욕창 예방을 하고 있습니다. 현재 상태는 안정적이지만, 여전히 의료진의 관찰과 관리가 필요합니다.'},\n",
       " {'question': '지금 상태가 어떤가요?',\n",
       "  'answer': '네, 현재 아버님 상태는 입원 당시 이제 전립선 비대증과 전립선암, 뇌경색, 고혈압,강직성 편마비, 인지기능 저하, 보행 장애가 있으셨는데요. 지금 현재는 식사 잘하시고, 그리고 병원에서 해드릴 수 있는 보존적 치료를 하고 계시있습니다. 보존적 치료를 하면서  증상에 맞춰서 치료를 진행하고 있는데, 약물 치료, 재활 치료, 지능력 향상 치료를 진행하고 있습니다. 그리고 현재 방광루 그러니까 소변을 못 보시기 때문에 방광 쪽으로 관을 연결해서 소변을 볼 수 있게 했습니다. 현재 혈압이나 맥박, 체온은 다 정상이시고, 다른 이상 증상은 없으십니다. 그리고 지금 현재 의료진의 재활 치료와 약물 치료를 잘 받고 계십니다.'},\n",
       " {'question': '어머님이 힘이없고 기운이 없으세요\\n',\n",
       "  'answer': '안타깝게도 어머님은 급성신장장염으로 인해서 전신상태가 저하되어 있는 상태입니다. 현재  의료진에서 그에맞는 약물치료(항생제 치료)와 수액 치료를 진행하고 있으며  입원 당시보다는 염증이 줄어들고 있는 상태입니다. 염증이 없어질 때까지 계속적인 치료를 진행할 계획입니다. 염증이 없어지면 전신상태는 원래대로 호전될것으로 기대하고 있습니다. 의료진의 치료와 관리가 지속적으로 필요한 시기라고 생각합니다. '},\n",
       " {'question': '네\\n뇌경색의 증상좀 알려주세요',\n",
       "  'answer': '감사합니다. 제가 도움이 되어서 다행입니다. 궁금한 것이 있으면 언제든지 물어보세요.'},\n",
       " {'question': '어머니 혈압 수치는 얼마인가요?',\n",
       "  'answer': '어머님은 고혈압으로 장기간 약복용하셨는 데 1달전부터 저혈압을 보여서 고혈압약을 감량해서 처방했으며 그 뒤로는 혈압이 안정적으로 유지 되고 있습니다. 그리고 기타 다른 증상의 변화는 없었습니다.'},\n",
       " {'question': '완치는 가능한가요?',\n",
       "  'answer': '옹고집님은 당뇨병, 뇌내출혈 후유증, 편마비, 뇌전증, 고혈압이 있으며  당뇨병과 고혈압, 뇌전증은 약물치료로 조절이 잘 되고 있으며 편마비와 뇌내출혈 후유증은 약물치료와 재활치료를 병행하고 있으나 완치는 힘들고 악화되는 것을 예방하고 증상 완화를 치료 목적으로 하고 있습니다. 아버님은 치료에 협조를 잘 해주셔서 증상 호전의 가능성을 기대해보고 있습니다. 더 자세한 내용은 의료진과 상담하시는 것이 좋을 것 같습니다.'},\n",
       " {'question': '아버지 나이대에서 검사 해봐야할 의료 검사에 대해 알려주세요',\n",
       "  'answer': '아버님은 병원에 입원시에 필요한 검사(혈액검사, 심전도, 흉부방사선검사, 인지정신상태검사, 일상생활능력평가)를 시행했으며 검사상 혈액검사와, 심전도, 흉부방산선검사는 정상이지만, 인지정신상태검사는 중증의 인지장애를 보였고 일상생활능력도 11점으로 낮게 평가되었습니다. 그래서 치료계획은 약물치료와 함께 재황치료와 인지향상치료를 진행했으며, 일상생활에서는 의료진과 간병인이관심을 가지고 도와주고 있습니다. 참고로 아버지 나이대에서 검사해봐야 할 의료 검사는 다음과 같습니다:\\n\\n1. 일반 건강 검진: 신체 검사, 혈압, 체중, 키, 시력, 청력 등을 평가합니다.\\n2. 혈압 측정: 고혈압을 조기에 발견하여 적절한 조치를 취할 수 있습니다.\\n3. 혈당 검사: 당뇨병의 유무를 확인하기 위해 공복 혈당 및 당화혈색소 검사를 시행합니다.\\n4. 콜레스테롤 검사: 고 콜레스테롤 수치를 감지하여 심장 질환의 위험을 평가합니다.\\n5. 전립선 특이 항원(PSA) 검사: 전립선 암의 조기 발견을 위해 전립선 상태를 평가합니다.\\n6. 폐 기능 검사: 폐의 건강 상태를 평가하고 호흡기 질환을 조기에 발견할 수 있습니다.\\n7. 골밀도 검사: 골다공증의 위험을 평가하고 골건강을 확인할 수 있습니다.\\n8. 우울증 검사: 우울증은 노인들에게 흔히 나타나는 문제이므로, 우울증 검사를 통해 정신적인 건강을 평가합니다.\\n9. 치매 검사: 치매는 노인들에게 흔히 발생하는 문제이므로, 치매 검사를 통해 인지 기능을 평가합니다.\\n\\n이러한 의료 검사는 정기적으로 실시하여 건강 상태를 파악하고 예방적인 조치를 취할 수 있도록 도와줍니다.'},\n",
       " {'question': '고혈압 으로 인한 신장기능 저하의 우려는 없나요?',\n",
       "  'answer': '아버님은 고혈압으로 약물치료 중이며 잘 조절되고 있습니다. 고혈압으로 인한 신장 기능 저하에 대해서는 모니터링 중인데, 1주일 전의 혈액 검사에서 신장 기능은 정상범위에 있는 것으로 확인됩니다. 걱적하지 않으셔도 좋겠습니다. '},\n",
       " {'question': '의사선생님의 의견이 궁금합니다',\n",
       "  'answer': '아버님은 입원 이후, 고혈압, 뇌내출혈 후유증, 강직성 편마비, 난치성 뇌전증을 동반한 전신성 특발성 뇌전증 및 뇌전증 증후군, 상세불명의 간질환, 합병증을 동반하지 않은 제2형 당뇨병 등의 기존 질환으로 인해 보존적 치료를 받았습니다.  당뇨,고혈압, 뇌전증, 간질환 등에 대한 약물 치료를 받았으며, 재활치료를 받았습니다. 또한, 소변 배출을 돕기 위해 방광루를 삽입하였습니다. 입원 기간 동안 안정적이었으며, 혈압, 맥박, 체온 등의 바이탈 사인은 정상 범위 내에 있었습니다. 또한, 소변 배출이 원활하게 이루어지고 있었습니다. 입원 기간 동안 몇 차례 통증을 호소하였으며, 이에 대한 처방이 이루어졌습니다. 또한, 기침과 가래 등의 증상이 있어 이에 대한 처방이 이루어졌습니다. 증상 조절이 잘 되었습니다. 현재 의료진의 소견은 아버님 상태는 안정적이며, 현재의 상태를 잘 유지하는 것을 목표로 하고 있습니다. 무론 상태 호전의 가능성도 있기에 의료진에서 지속적으로 노력하고 있습니다.'},\n",
       " {'question': '현재컨디션',\n",
       "  'answer': '현재 컨디션은 안정적이며, 증상 호전이 많이 되었으며 약물치료와 재활치료에 잘 반응하고 있습니다.'},\n",
       " {'question': '요즘 식사는 잘하시는지 당뇨 고혈압수치는 어떤지요?',\n",
       "  'answer': '식사는 당뇨식으로 하루 3회  드시고 계시며 식사하시고 소화시키는 것은 잘 하고 계십니다. 혈압(BP;100 BPL;65 P;73 RESP;20 T;36.5)은 정상 범위에서 잘 조절되고 있으며, 공복혈당(FBS;101)도 잘 조절되고 있습니다. 의료진의 지속적인 약물치료와 모니터링으로 안정적으로 유지되고 있습니다. '},\n",
       " {'question': '요즘 코로나가 다시 유행이라던데 코로나에 걸리면 어떻게하나요?',\n",
       "  'answer': '코로나에 대한 예방과 대응은 정부의 지침에 따르고 있습니다. 그리고 만약 코로나가 병원내에서 발생할 때에는 대응 메뉴얼에 따라 진행하며 어머님께서 코로나에 감염되었다고 판단되면 코로나 전문 치료 병원으로 이송할 계획입니다. '},\n",
       " {'question': '줄기세포치료가 부작용이 있진 않나요?',\n",
       "  'answer': '저희 병원에서는 줄기 세포 치료를 하지 않고 있습니다. 참고로 설명해드리면, 줄기세포 치료는 다른 의료 치료와 마찬가지로 부작용이 발생할 수 있습니다. 그러나 줄기세포 치료의 부작용은 주로 경미하며, 일시적인 경우가 많습니다. 일반적인 부작용으로는 주사 부위의 통증, 발적, 부종 등이 있을 수 있습니다. 드물게 알레르기 반응이나 감염 등의 부작용이 발생할 수도 있습니다. 그러나 이러한 부작용은 줄기세포 치료의 효과와 잠재적 이점에 비해 일반적으로 경미하며, 적절한 의료 감독 하에 치료를 받는 것이 중요합니다. '},\n",
       " {'question': '혈압은 안정적인가요?  수치는?',\n",
       "  'answer': '네, 혈압은 약간 높지만 안정적인 편입니다. 평균적으로 기록된 수치는 100/50-163/74이며, 가장 최근에 기록된 혈압은 157/74-57입니다.'},\n",
       " {'question': '뇌전증환자는 약물복용후 완치가되나요',\n",
       "  'answer': '아버님은 현재 뇌전증 진단을 받았지만 뇌전증 증상이 발생하지 않았습니다. 약물치료는 하지 않고 있으며 안정적인 상태를 유지하고 있습니다. 하지만 뇌전증은 완치가 어려운 질환이기에 약물 치료는 뇌전증 환자의 증상을 조절하고 발작을 예방하는 데 중요한 역할을 합니다. 따라서 필요하면 약물치료를 언제든지 시작할 계획은 있습니다. 참고로, 경우에 따라서는 적절한 약물 치료로 발작 빈도와 강도를 크게 줄일 수 있으며, 일부 환자는 장기적으로 발작이 전혀 발생하지 않을 수도 있습니다. 그러나 약물 치료에 대한 반응은 개인마다 다를 수 있으며, 일부 환자는 약물만으로는 충분한 효과를 얻지 못할 수도 있습니다. 이러한 경우에는 수술, 케톤 생성 식이요법, 뇌 자극 치료 등 다른 치료 옵션을 고려할 수도 있습니다. 의료진과 상담하여 개인의 상황에 맞는 치료 계획을 수립하는 것이 중요합니다.'},\n",
       " {'question': '그럼 지금 먹는 약과 비타민은 함께 먹어도 되나요?',\n",
       "  'answer': '일부 약물은 비타민 섭취를 제한해야 하는 경우가 있을 수 있으므로, 복용 중인 약물에 대해 의료진과 상담하시는 것이 좋습니다. 또한, 약물과 비타민을 함께 복용할 경우, 상호작용이 발생할 수 있으므로, 의료진에게 비타민 섭취에 대해 알리는 것이 좋습니다.'},\n",
       " {'question': '요양병원에서 치료후\\n집으로 다시모실수 있을까요?\\n상황이심각한가요?\\n',\n",
       "  'answer': '어머님의 현재 상태로 보았을때는 언제 집으로 다시 모실 수 있는지를 예측하기는 어려울 것같습니다. 앞으로 어머님의 상태와 상황을 종합적으로 판단하면서 결정해야하겠습니다. 덧붙여서,  집으로 다시 모실 수 있는지 여부는 어머님의 건강 상태뿐만 아니라 가정 환경, 가족 지원, 의료 서비스 접근성 등 다양한 요소를 고려해야 합니다. 의사와 상담하여 자세한 정보를 얻는 것이 좋습니다.'},\n",
       " {'question': '혈당',\n",
       "  'answer': '이도령님은 당뇨를 가지고 계셔서 식이요법과 약물치료를 병행하고 있습니다.식이요법은 경관식으로 하루 1200kcal를 제공하고 있으며 약물은 트라젠타를 복용하고 있습니다. 공복혈당은110이고 당화혈색소는 6.5로 비교적 안정적으로 유지되고 있습니다. 필요하면 공복혈당과 당화혈색소의 변화에 따라 식이요법과 약물을 조절할 수도 있습니다. '},\n",
       " {'question': '고혈압에 좋은 음식이 무엇인가요?',\n",
       "  'answer': '어머님의 혈압은 정상 범위 내에서 확인되고 있으며, 고혈압에 대한 약물 치료를 진행 중입니다. 참고로, 고혈압에 좋은 음식은 다음과 같습니다:\\n\\n1. 신선한 과일: 바나나, 사과, 베리 종류 등\\n2. 채소: 시금치, 케일, 브로콜리, 당근 등\\n3. 견과류: 아몬드, 호두, 땅콩 등\\n4. 콩류: 콩, 렌즈콩 등\\n5. 저지방 유제품: 우유, 치즈, 요구르트 등\\n6. 생선: 연어, 참치, 고등어 등\\n7. 통곡물: 귀리, 현미, 통밀빵 등\\n8. 닭고기: 껍질을 제거한 가슴살 등\\n9. 초콜릿: 다크 초콜릿은 플라보노이드가 풍부합니다.\\n10. 커피: 적당량의 커피는 혈압을 상승시키지 않고 이점이 있을 수 있습니다.\\n\\n하지만 개인의 건강 상태와 식습관에 따라 다를 수 있으므로, 의사나 영양사와 상담하여 적절한 식단을 구성하는 것이 좋습니다.'},\n",
       " {'question': '네, 그럼 다음주에 연락 드리겟습니다',\n",
       "  'answer': '네, 미리 연락 주시면 예약을 할 수 있습니다. 감사합니다.'},\n",
       " {'question': '간수치는 어떤가요',\n",
       "  'answer': '1달전에 검사한 간기능의 정상(AST/ALT=13/10)범위에 있으며 아버님은 입원 당시에도 간기능은 정상이었습니다.'},\n",
       " {'question': '아버지께서 요양병원 들어가신 직후와 현재의 차이가 있나요?', 'answer': nan},\n",
       " {'question': 'nnnn\\n\\n\\n\\n\\n\\n\\n\\n\\n\\n\\n\\n\\n\\n\\n\\n\\n\\n\\nmm\\n\\n',\n",
       "  'answer': '죄송하지만, 제가 이해하지 못한 내용이 있는 것 같습니다. 더 자세한 내용을 알려주시겠어요?'},\n",
       " {'question': '그렇군요.. 감사합니다.', 'answer': '천만에요! 궁금한 것이 있으면 언제든지 물어보세요.'},\n",
       " {'question': '고마워요.\\n담번에 질문있으면\\n다시 할게요',\n",
       "  'answer': '감사합니다! 또 궁금한 점이 있거나 도움이 필요하시면 언제든지 말씀해주세요.'},\n",
       " {'question': '예 감사합니다', 'answer': '천만에요! 추가로 궁금한 점이 있으면 언제든지 물어보세요.'},\n",
       " {'question': '감사합니다', 'answer': '천만에요! 다른 질문이 있나요?'},\n",
       " {'question': '알겠습니다 \\n감사합니다 ', 'answer': '감사합니다. 또 다른 질문이나 도움이 필요하신가요?'},\n",
       " {'question': '네', 'answer': '추가 도움이 필요하신가요?'},\n",
       " {'question': '네',\n",
       "  'answer': '죄송합니다, 제가 잘 이해하지 못했습니다. 질문이나 요청사항이 있으시면 언제든지 말씀해주세요.'},\n",
       " {'question': '아뇨 잘 하고 계셔서 안심 입니다',\n",
       "  'answer': '감사합니다. 제가 도움이 되어서 다행입니다. 궁금한 것이 있으면 언제든지 물어보세요.'},\n",
       " {'question': '아 그렇군요 항상 감사합니다', 'answer': '별말씀을요! 더 궁금한 사항이 있으면 언제든지 물어보세요.'},\n",
       " {'question': '네 감사합니다 ',\n",
       "  'answer': '별말씀을요! 궁금한 점이 있거나 더 도움이 필요하시면 언제든지 말씀해주세요.'},\n",
       " {'question': '오늘 혈압은 어떠신가요?',\n",
       "  'answer': '오늘의 혈압은 정상 범위 내에서 확인되고 있으며, 고혈압에 대한 약물 치료를 진행 중입니다. 특별히 혈압이 갑자기 상승하거나 그런 증상은 보이지 않고 있습니다. 하지만 지속적으로 모니터링하고 있으며, 필요한 경우 의료진이 적절한 조치를 취하고 있습니다.'},\n",
       " {'question': '잘 움직이지 못하시는데 욕창예방을 위한 조치는 잘 해드리는지요?',\n",
       "  'answer': '네, 환자분은 잘 움직이지 못하시는 상태이므로 욕창예방을 위한 조치가 잘 이루어지고 있습니다. 환자의 간호기록에 따르면, 2시간마다 체위변경과 등마사지가 시행되고 있으며, 욕창 발생 부위의 피부 상태를 관찰하고 있습니다. 또한, 환자의 시트와 침구류의 젖은 여부를 자주 확인하고, 환자의 체중과 체형에 맞는 적절한 매트리스와 쿠션을 사용하여 욕창 예방에 노력하고 있습니다.'},\n",
       " {'question': '끝', 'answer': '알겠습니다. 다른 질문이 있으면 언제든지 말씀해주세요.'},\n",
       " {'question': '혈압은 어떤가요?',\n",
       "  'answer': '혈압은 정상 범위 내에서 확인되고 있으며, 고혈압에 대한 약물 치료를 진행하고 있습니다. 혈압이 갑자기 상승하거나 이상 증상이 보이지 않는다고 합니다. 의료진이 지속적으로 모니터링하고 있으며, 필요한 경우 적절한 조치를 취할 것이라고 합니다.'},\n",
       " {'question': '알겟읍니다', 'answer': '다른 궁금한 점이 있으신가요?'},\n",
       " {'question': '현재 환자 상태는 어떤가요?',\n",
       "  'answer': '가장 최근의 기록에 따르면, 환자는 밤 동안 특별한 변화 없이 잠을 잤습니다. 생체 신호인 혈압, 맥박, 호흡, 체온, 산소 포화도 등이 모두 안정적이며, 환자의 전반적인 상태는 안정적입니다. 환자는 여전히 L-tube를 통해 영양을 공급받고 있으며, 유치도뇨관을 통해 배뇨를 관리하고 있습니다. 또한, 욕창 부위에는 드레싱을 하고 있으며, 체위 변경과 등 마사지를 통해 욕창 예방을 하고 있습니다. 환자의 현재 상태는 안정적이지만, 여전히 의료진의 관찰과 관리가 필요합니다.'},\n",
       " {'question': '네~^^', 'answer': '네, 무엇을 도와드릴까요?'},\n",
       " {'question': '의료기록을 확인하려면 직접 내원해야 하나요?',\n",
       "  'answer': '네, 의료기록을 확인하려면 일반적으로 해당 의료기관에 직접 내원해야 합니다. 의료기록은 환자의 개인정보와 건강 정보를 포함하고 있기 때문에, 환자의 동의 없이 외부로 공개되지 않습니다. 따라서, 의료기록을 확인하고자 할 때는 해당 의료기관에 방문하여 필요한 절차를 따라야 합니다. 이때 신분증을 지참해야 하며, 의료기록 열람 및 복사 등에 대한 수수료가 발생할 수 있으니 참고하시기 바랍니다.'},\n",
       " {'question': '1인실로 옮길수 있을가요',\n",
       "  'answer': '죄송합니다. 저는 의사가 아니기 때문에 의료적인 결정을 내릴 수 없습니다. 그러나 1인실로 옮기는 것은 환자의 상태와 병원의 상황에 따라 달라질 수 있습니다. 환자의 상태와 보험 혜택 등을 고려하여 의료진이나 병원의 입원 담당 부서와 상담해보시는 것이 좋을 것 같습니다.'},\n",
       " {'question': '이번주에 한번 가보겠습니다',\n",
       "  'answer': '좋습니다, 이번 주에 방문하실 예정이시군요. 환자분 상태에 대해 궁금한 점이 있거나 다른 도움이 필요하시면 언제든지 말씀해주세요.'},\n",
       " {'question': '어떤 조치가 이루어졌나요',\n",
       "  'answer': '입원 중 다음과 같은 조치가 이루어졌습니다:\\n\\n1. 보존적 치료: 약물치료, 재활치료, 인지능력 향상치료 등이 진행되었습니다.\\n2. 방광루 설치: 소변을 스스로 볼 수 없어 방광루를 설치하여 소변 배출을 돕습니다.\\n3. 체위 변경 및 등 마사지: 2시간마다 체위를 변경하고 등 마사지를 시행하여 욕창 예방을 돕습니다.\\n4. 정서적 간호: 정서적인 안정을 위해 정서적 간호가 이루어집니다.\\n5. 정기적인 혈압, 맥박, 체온, 호흡 등의 활력 징후 모니터링.\\n6. 의료진의 재활치료 및 약물치료.\\n7. 환자의 식사, 이동, 옷 입히기, 세수, 양치, 목욕, 화장실 사용 등을 도움.\\n8. 목욕 및 이동 시 휠체어를 사용하며, 직원이 도움을 제공합니다.\\n9. 방광루 교체 및 소독.\\n10. 보호자 또는 간병인과의 소통 및 교육.\\n\\n이 외에도 환자의 상태에 따라 필요한 추가적인 조치가 이루어질 수 있습니다.'},\n",
       " {'question': '치매예방에 좋은 취미활동은 어떤게 좋을까요?',\n",
       "  'answer': '치매 예방을 위한 취미 활동은 뇌를 자극하고 활동적으로 유지할 수 있는 것들이 좋습니다. 몇 가지 예시를 드리겠습니다:\\n\\n1. 독서: 독서는 뇌를 활발하게 사용하고 상상력을 자극하여 기억력과 이해력을 향상시킵니다.\\n2. 퍼즐 맞추기: 퍼즐을 맞추는 것은 문제 해결 능력과 집중력을 요구하여 뇌를 활발하게 만듭니다.\\n3. 음악 감상 및 연주: 음악을 듣는 것은 뇌를 자극하고, 악기 연주는 손과 뇌의 조화를 요구하여 뇌 기능을 향상시킵니다.\\n4. 미술 활동: 그림 그리기, 색칠하기, 공예 등 미술 활동은 창의성과 손-눈 협응력을 향상시키며 뇌를 자극합니다.\\n5. 체스나 보드게임: 전략적인 게임을 하는 것은 문제 해결 능력과 기억력을 향상시키는데 도움이 됩니다.\\n6. 댄스: 춤을 추는 것은 신체 운동과 뇌 활동을 동시에 증가시키며, 기억력과 조정력을 향상시킵니다.\\n7. 외국어 학습: 새로운 언어를 배우는 것은 뇌의 다양한 영역을 자극하고, 기억력과 문제 해결 능력을 향상시킵니다.\\n\\n치매를 예방하기 위해서는 규칙적인 운동, 건강한 식습관, 사회적 활동, 충분한 수면 등 다양한 생활 습관도 중요합니다.'},\n",
       " {'question': '현재컨디션', 'answer': '현재 컨디션은 안정적이며, 증상도 없고 치료에 잘 반응하고 있습니다.'}]"
      ]
     },
     "execution_count": 135,
     "metadata": {},
     "output_type": "execute_result"
    }
   ],
   "source": [
    "examples"
   ]
  },
  {
   "cell_type": "code",
   "execution_count": 150,
   "metadata": {},
   "outputs": [],
   "source": [
    "# from langchain_community.vectorstores import Chroma\n",
    "# from langchain_core.example_selectors import SemanticSimilarityExampleSelector\n",
    "\n",
    "# example_selector = SemanticSimilarityExampleSelector.from_examples(\n",
    "#     # This is the list of examples available to select from.\n",
    "#     examples,\n",
    "#     # This is the embedding class used to produce embeddings which are used to measure semantic similarity.\n",
    "#     embeddings,\n",
    "#     # This is the VectorStore class that is used to store the embeddings and do a similarity search over.\n",
    "#     Chroma,\n",
    "#     # This is the number of examples to produce.\n",
    "#     k=1,\n",
    "# )"
   ]
  },
  {
   "cell_type": "code",
   "execution_count": null,
   "metadata": {},
   "outputs": [],
   "source": [
    "# Select the most similar example to the input.\n",
    "question = \"Who was the father of Mary Ball Washington?\"\n",
    "selected_examples = example_selector.select_examples({\"question\": question})\n",
    "print(f\"Examples most similar to the input: {question}\")\n",
    "for example in selected_examples:\n",
    "    print(\"\\n\")\n",
    "    for k, v in example.items():\n",
    "        print(f\"{k}: {v}\")"
   ]
  },
  {
   "cell_type": "markdown",
   "metadata": {},
   "source": [
    "### test"
   ]
  },
  {
   "cell_type": "code",
   "execution_count": 136,
   "metadata": {},
   "outputs": [],
   "source": [
    "from langchain_core.prompts import ChatPromptTemplate, FewShotChatMessagePromptTemplate"
   ]
  },
  {
   "cell_type": "code",
   "execution_count": 138,
   "metadata": {},
   "outputs": [
    {
     "name": "stdout",
     "output_type": "stream",
     "text": [
      "[HumanMessage(content='증상이 어떤가요?'), AIMessage(content='아버님의 입원당시 주증상은 편마비가 보였습니다. 현재의 증상은 내원 당시와 동일하면 큰 변화는 없습니다. 현재의 상태를 호전시키기위해 수액치료, 약물치료, 인지치료, 재활치료를 하고 있습니다. 저희 의료진이 계속 모니터링 중이며 변화가 있으면 보호자분에게 연락드리겠습니다.  '), HumanMessage(content='별이 보일때 어떻게 치료하나요?'), AIMessage(content='아버님의 상태는 안정적이며 별이 보이는 증상을 보이지는 않습니다.  의료진이 계속 케어하면서 모니터링하고 있으며 그런 증상이 있으면 적절한 조치와 치료를 진행할 계획입니다.'), HumanMessage(content='nnnn\\n\\n\\n\\n\\n\\n\\n\\n\\n\\n\\n\\n\\n\\n\\n\\n\\n\\n\\nmm\\n\\n'), AIMessage(content='오타가 있는 것 같습니다. 아버님의 상태에 대해 궁금하신 내용이 있으면 알려주세요.'), HumanMessage(content='뇌경색으로 1주일째 중환자실에 있는데 회복 가능할까요?'), AIMessage(content='오늘 활력징후(BP;106 BPL;62 P;103 RESP;21 T;36.6)는 안정적인 정상범위에 있으며, 뇌경색으로 인한 편마비 증상은 약간은 호전된 상태이나 계속적인 약물치료와 재활치료가 필요한 상태입니다. 단기간에 회복에 대해서는 예측하기 어렵지만 장기적으로는 어느 정도 회복은 가능할 것으로 의료진이 판단하고 있습니다. 빠른 회복을 위해 의료진의 적극적인 치료와 모니터링을 진행하고 있으며 상태에 변화가 있으면 신속한 치료와 동시에 보호자분에게 연락을 드리겠습니다. 저희 의료진에게 믿고 맡겨주셔서 감사합니다. 다른 궁금한 상항이 있으시면 알려주세요.'), HumanMessage(content='뇌전증으로 합병증이 있나요'), AIMessage(content='어머님은 뇌내출혈 후의 합병증으로 인한 뇌전증으로 진단받으셨습니다. 즉, 뇌내출혈 후의 뇌손상으로 인한 증상입니다. 뇌전증이 진행되면 뇌손상이 더욱 악화될 가능성이 높기에 뇌전증을 완화시키는 약물치료를 하고 있으며 인지치료와 재활치료를 병행하여 회복을 더욱 도와주고 있습니다. 의료진이 지속적인 치료와 관심으로 케어하고 있기에 뇌전증 합병증의 가능성이 줄어들 것으로 기대합니다. '), HumanMessage(content='당뇨,고혈압 수치가 호전되고 있나요?'), AIMessage(content='혈압(BP;100 BPL;65 P;73 RESP;20 T;36.5)은 정상 범위에서 잘 조절되고 있으며, 공복혈당(FBS;101)도 잘 조절되고 있습니다. 의료진의 지속적인 약물치료와 모니터링으로 안정적으로 유지되고 있습니다. '), HumanMessage(content='치매 진행 완화를 위해 특별한 프로그램은 있나요?'), AIMessage(content='네, 어머님은 치매 진행 완화를 위해 약물치료, 인지 자극 프로그램, 운동 및 신체 활동, 사회적 참여, 영양 및 수면 관리 등 다양한 프로그램이 받고 계십니다. 입원 당시와 비교했을 때보다 어느 정도 호전된 상태입니다. 예를 들면 말씀하실 때 좀더 기억을 잘하시는데 어제 먹었던 음식도 기억합니다.  참고로 프로그램에 대한 상세 내용은 다음과 같습니다.\\n\\n인지 자극 프로그램은 인지 기능을 자극하고 유지하기 위해 설계된 활동으로, 퍼즐, 게임, 기억 훈련, 음악 치료 등이 포함될 수 있습니다. 이러한 프로그램은 기억력, 집중력, 문제 해결 능력 등을 향상시키는 데 도움을 줄 수 있습니다.\\n\\n운동 및 신체 활동은 신체적 건강을 증진시키는 데 도움을 줄 뿐만 아니라 뇌 건강에도 긍정적인 영향을 미칩니다. 일상적인 운동, 산책, 정원 가꾸기, 춤, 요가 등이 포함될 수 있습니다.\\n\\n사회적 참여는 사회적 상호작용과 연결을 촉진하여 치매 진행을 완화하는 데 도움을 줄 수 있습니다. 사회적인 모임, 클럽, 자원봉사 활동, 가족과의 교류 등을 통해 사회적으로 활동적인 생활을 유지할 수 있습니다.\\n\\n영양 및 수면 관리는 뇌 건강에 중요한 역할을 합니다. 영양가 있는 식단을 유지하고, 충분한 수면을 취하는 것은 인지 기능과 뇌 건강에 도움을 줄 수 있습니다.\\n\\n이러한 프로그램들은 개인의 상태와 선호도에 따라 맞춤형으로 제공되고 있으며 어머님은 특히 가벼운 요가를 좋아하시고 있으며 이 모든 프로그램에 잘 협조해주시고 잘 참여하시고 계십니다.'), HumanMessage(content='최근 위염 증상은 좀 나아졌나요?'), AIMessage(content='위염이 좀 나아지시기는 했는데 여전히 약물치료 중에 있으며 다행인 것은 식사량이 줄지는 않았습니다. 다음주까지 약물치료(마그밀,잔탁,가모드정)를 진행하면 정상으로 회복하리라 기대하고 있습니다. '), HumanMessage(content='불면증이 심하신데 어떻게 해야할까요?'), AIMessage(content='불면증에 대해서는 약물치료(리보트릴) 중이며, 수면중에 중간에 깨어나지는 않으시고 있어서 수면의 질이 개선되어 보입니다. 의료진은 1달정도는 약물치료 계획중입니다. 그리고. 다음과 같은 치료도 병행하고 있습니다. 1.규칙적인 수면 스케줄 유지: 주말을 포함하여 매일 같은 시간에 일어나고 잠자리에 들도록 노력하세요.\\n\\n2. 편안한 수면 환경 조성: 조용하고 어두운 방에서 잠을 자도록 하고, 편안한 침구와 온도를 유지하세요.\\n\\n3. 스크린 시간 제한: 스마트폰, 태블릿, 컴퓨터 및 TV 등의 화면 시간은 수면 질을 저하시킬 수 있으므로, 잠들기 전에는 화면 시간을 제한하는 것이 좋습니다.\\n\\n4. 수면 전에 휴식: 잠들기 전에 책을 읽거나 편안한 음악을 듣는 등 휴식을 취할 수 있는 활동을 해보세요.\\n\\n5. 규칙적인 운동: 정기적인 신체 활동은 수면에 도움이 될 수 있습니다. 하지만, 수면 직전에 운동을 하지 않도록 주의하세요.\\n\\n6. 수면 전에 수분 섭취: 수면 전에 너무 많은 수분을 섭취하지 않도록 주의하세요.'), HumanMessage(content='어떻게 연락하나요?'), AIMessage(content='병원 전화번호는 02-2678-5678 입니다.  전화하셔서 이도령님 보호자라고 말씀하시고 담당 간호사를 찾으시면 좋을 것같습니다. '), HumanMessage(content='요즘 혈압은 안정적이신가요?'), AIMessage(content='혈압(BP;103 BPL;62 P;70 RESP;20 T;36.00)은 안정적으로 유지하고 있으며 약물치료(텔핀스타정)에 잘 반응하고 있습니다.'), HumanMessage(content='자꾸만 살이 찌시는데 평소 살을 뺄수 있는 방법이 있을까요?'), AIMessage(content='배장화님 보호자분 되시지요. 어머님의 상태에 대한 질문을 해주시면 좋을 것같습니다. 참고로 말씀드리면 체중 감량은 식단 조절과 운동이 중요하지만 비만인 경우에는 약물치료도 고려해보세요. 대사증후군을 예방하는 것이 중요합니다. 또 궁금한 점이 있거나 도움이 필요하시면 언제든지 말씀해주세요.'), HumanMessage(content='저희 아버님이 요새 어떠신가요'), AIMessage(content='입원 당시와 비교해 봤을때, 혈압도 정상화 되었고 인지능력도 향상되었지만 편마비는 큰 벼화는 없는 것같습니다. 아버님의 혈압은 103/63, 맥박은 98, 호흡은 20, 체온은 36.0도이며, 기타 이상 증상은 없습니다. 아버님은 현재 식사도 잘하고, 활력 징후도 안정적이며, 정서적으로도 안정적입니다.'), HumanMessage(content='통증은 얼마나 심한가요?'), AIMessage(content='입원당시에도 두통을 호소했는데 약물치료(애니스펜)으로 보존적 치료를 했으며 그 뒤로 간헐적으로 호소하셔서 필요할 때만 약물치료로 조절이 가능합니다. 혈압은 정상으로 유지되고 열이 없어서 비특이적 두통으로 추정하고 있으며 통증의 횟수는 내원후에 줄어든 상태입니다.  또한 간혹 치통을 호소하셔서 의료진에서는 치과 치료가 필요할 것으로 생각이 되며 외래로 통원치료를 추천하고 있습니다. 보호자분이 동행이 가능한 지 나중에 알려주세요.'), HumanMessage(content='환자가 느꼈을 통증의 정도는 어땠나요?'), AIMessage(content='입원 당시에 어깨와 무릅에 관절염으로 통증을 많이 호소하셔서 약물치료를 해서 통증이 줄었으나 여전히 아파하셔서 한방치료(침시술)을 병행했습니다. 그 뒤로 통증이 많이 줄어서 신체 활동도 잘 하시고 안정적으로 생활하고 계십니다.'), HumanMessage(content='환자 위생이나 청결에 관해서도 궁금합니다'), AIMessage(content='아버님은 매일 아침에 규칙적으로 세면을 하시고 1주일에 1회 목욕을 하고 계시고 환자복과 침구류는 1주일에 1회 새것으로 교환해서 사용하고 계십니다. 물론 중간에 더러워지면 언제든지 새것으로 바꿔드리고 있습니다.  의료진의 지속적이고 세심한 케어가 진행되고 있습니다. 더 궁금하신것이 있으면 말씀해주세요.'), HumanMessage(content='지금 혈압이 어떻게 되나요?'), AIMessage(content='배장화님의 혈압(BP;108  BPL;74  P;82  RESP;20  T;36.7)은 정상범위에 ㅇ있으며 안정적입니다.  적절한 약물치료(노바스크)에 의해 조절이 잘 되고 있습니다.'), HumanMessage(content='지금은소변만 실수하는데 병윈 에 모셔야할까요?'), AIMessage(content='아직 병원에 입원하시지 않은 상태라면 방문하셔서 진료를 보시는 것이 좋겠습니다. 진료시에 인지 및 정신상태 검사와 일상생활능력 평가를 통해서 적절한 치료와 입원 여부가 결정 될것같습니다. 예약후에 방문하시면 좋겠습니다. 예약을 도와드릴까요?'), HumanMessage(content='요즘 등이 가끔 간지럽고 쑤시는데 무슨 증상일까요?'), AIMessage(content='성춘향님 보호자분이 하신 질문은 성춘향과 관련이 있는 질문인가요? 없다만 일반적인 내용으로 설명해 드리겠습니다. 등이 간지럽고 쑤시는 증상은 다양한 원인이 있을 수 있습니다. 몇 가지 가능한 원인 중 일부는 다음과 같습니다:\\n\\n1. 근육 긴장: 일상적인 활동이나 운동으로 인해 등이 긴장될 수 있습니다.\\n2. 척추 이상: 척추 디스크의 변위, 척추측만증 등 척추의 이상으로 인해 등이 쑤실 수 있습니다.\\n3. 피부 질환: 건조한 피부, 습진, 피부염 등의 피부 질환으로 인해 등이 간지러울 수 있습니다.\\n4. 신경통: 신경통이나 신경압박으로 인해 등이 쑤실 수 있습니다.\\n5. 기타 원인: 감염, 종양, 대사 이상 등 다른 원인으로 인해 등이 쑤실 수도 있습니다.\\n\\n만약 등의 간지러움과 쑤심이 계속되거나 심해진다면, 의료 전문가와 상담하여 정확한 원인을 파악하고 적절한 치료를 받는 것이 좋습니다.'), HumanMessage(content='현 상태'), AIMessage(content='현재 성춘향님은 입원하여 보존적 치료를 받고 있습니다. 약물 치료, 재활 치료, 인지 기능 향상 치료 등을 받고 있으며, 식사와 활력 징후는 안정적입니다. 방광루를 통해 소변을 배출하고 있으며, 혈압과 당뇨, 치매는 약물 치료로 관리되고 있습니다. 현재 상태는 대체로 안정적이며, 의료진의 관찰과 치료를 받고 있습니다.'), HumanMessage(content='의료기록을 확인하려면 직접 내원해야 하나요?'), AIMessage(content='네, 의료기록을 확인하려면 일반적으로 해당 의료기관에 직접 내원해야 합니다. 의료기록은 환자의 개인정보와 건강 정보를 포함하고 있기 때문에, 환자의 동의 없이 외부로 공개되지 않습니다. 따라서, 의료기록을 확인하고자 할 때는 해당 의료기관에 방문하여 필요한 절차를 따라야 합니다. 이때 신분증을 지참해야 하며, 의료기록 열람 및 복사 등에 대한 수수료가 발생할 수 있으니 참고하시기 바랍니다. 하지만 간단한 의료기록의 저에게 질문하시면 답변해드릴  수 있습니다. 어떤 내용이 궁금하신가요?'), HumanMessage(content='저혈압 같은데요?'), AIMessage(content='어어님의 혈압은 정상범위(BP;117 BPL;67 P;65 )로 조절이 잘 되고 있으며 약물치료에도 잘 반응하고 있습니다.'), HumanMessage(content='지금 어디가 제일 불편한가요?\\n하루 일상생활은 어떻게 시작하나요?\\n제일 필요한것은 무엇인가요?\\n'), AIMessage(content='아버님은 편마비로 인해 왼쪽 몸이 마비되어 있어, 일상생활에서 많은 도움이 필요합니다. 또한, 욕창과 압박부위로 인해 피부가 손상되어 있어 통증을 느낄 수 있기때문에 의료진이 매일 치료하면서 빠른 회복을 돕고 있습니다.'), HumanMessage(content='하루 일상생활은 어떻게 시작하나요?'), AIMessage(content='어머님의 하루는 보호자나 간호사, 간병인의 도움으로 시작됩니다. 거의 전적으로 다른 사람들의 도움을 받아 일상생활을 수행합니다. 아침에는 체위 변경, 피부 상태 확인, 대소변 처리, 식사, 약물 복용 등의 일정이 있으며 하루 종일 주기적으로 체위 변경과 피부 관리가 이루어지며, 매일 의료진이 회진하면서 치료가 이루어집니다.'), HumanMessage(content='제일 필요한것은 무엇인가요?'), AIMessage(content='어머님은 편마비와 욕창으로 인해 신체적인 도움이 많이 필요합니다. 의료진이 매일 욕창 치료와 재활치료를 하고 있으면 약간의 호전은 있지만 지속적인 치료가 필요하고 일상생활하는데 간병인의 도움으로 식사, 목욕, 화장실 사용 등의 생활을 잘 하고 있습니다. 현재 편안한 환경과 적절한 의료 장비를 제공받고 있으며, 참고로  정서적인 지원과 대화, 가족과의 소통도 환자에게 큰 도움이 될 수 있습니다.'), HumanMessage(content='1인실로 옮길수 있을가요'), AIMessage(content='병실을 1인실로 옮기고 싶으시면 원무과에 문의하셔야 합니다. 원무과 전화번호는 02-7222-5678 입니다. 직접 통화하시는 것이 좋을 것같습니다.'), HumanMessage(content='어떤 문제가 발생한 건 아니죠?'), AIMessage(content='아버님은 2024년 4월1일에 입원하셨고 그 이후로 안정적으로 지내시고 계십니다. 특별히 상태가 호전되었거나 악화되지는 않은 상황입니다. 의료진이 지속적으로 관심있게 케어하고 있으며 변화가 발생하면 연락드리겠습니다.'), HumanMessage(content='식사는 잘 하고 계신가요?'), AIMessage(content='네, 현재 제공되는 경관식을 잘 드시고 계십니다. 경관식은 하루에 3번 드시고 있으며 소화에는 별 문제는 없는 상태입니다. '), HumanMessage(content='다행이네요\\n당뇨치료도 잘되고있나요'), AIMessage(content='네, 어머님의 현재 상태는 안정적이며 인지치료, 재활치료, 약물치료에 잘 호응해주시고 계십니다.'), HumanMessage(content='환자의 기분은 어떤가요?'), AIMessage(content='어머님은 안타깝게도 뇌경색과 치매로 입원당시부터 의사소통이 힘든 상태였기에 대화를 통해서 기분을 확인할 수는 없는 상황입니다. 그래서 활력징후, 혈액검사, 인지-정신건강상태 검사를 통해서 간접적으로 확인해본 결과 안정적이며 편안한 상태로 추정됩니다. 앞으로 상태 변화에 대해 지속적으로 모니터링하겠습니다. '), HumanMessage(content='평균적으로 당녀 걸리면 얼마나 사나요'), AIMessage(content='현재 아버님은 당뇨로 진단을 받으셨으며 이에 대한 치료로 식이요법과 약물치료를 뱅행하고 있습니다. 공복혈당은 안정적으로 정상 범위를 로 유지하고 계십니다. 일반적으로 당뇨병은 만성적인 대사성 질환으로, 적절한 치료와 관리가 이루어지지 않으면 심각한 합병증을 유발할 수 있습니다. 당뇨병의 심각성, 합병증의 유무, 치료 및 관리 방법 등에 따라 수명이 크게 달라질 수 있습니다. \\n\\n당뇨병이 잘 관리되지 않는 경우, 심혈관 질환, 신장 질환, 신경 손상, 실명 등의 합병증이 발생할 가능성이 높아지며, 이로 인해 수명이 단축될 수 있습니다. 그러나 당뇨병이 잘 관리되는 경우, 정상적인 수명을 유지할 수 있습니다.\\n\\n당뇨병의 관리와 합병증 예방을 위해 규칙적인 혈당 모니터링, 건강한 식습관, 적절한 운동, 약물 치료 등이 필요합니다. 당뇨병 환자는 의료진과 긴밀히 협력하여 적절한 치료 계획을 수립하고, 이를 지속적으로 이행하는 것이 중요합니다.'), HumanMessage(content='나이와 지병에 적합한 운동좀 추천해주세요'), AIMessage(content='아버님은 좌측편마비로 인해 와상상태이기때문에 재활치료를 집중적으로 받고 있습니다. 현재 편마비가 큰 변화는 없기에 지속적인 재활치료가 필요합니다.                                                                                일반적으로 지병에 따라 운동의 종류와 강도를 조절해야 합니다. 따라서, 의료진과 상담하여 적절한 운동 계획을 수립하는 것이 좋습니다.\\n\\n고령자에게는 저강도의 유산소 운동과 근력 운동이 좋습니다. 유산소 운동으로는 빠른 걷기, 수영, 자전거 타기 등이 있습니다. 근력 운동으로는 체중 운동, 저항 운동 등이 있습니다. 또한, 균형감각을 향상시키는 운동도 중요합니다.\\n\\n운동 계획을 수립할 때는, 적절한 강도와 시간을 설정하고, 천천히 시작하여 점진적으로 강도를 높이는 것이 좋습니다. 또한, 충분한 휴식과 수분 섭취를 잊지 않도록 합니다. 의료진과 상담하여 적절한 운동 계획을 수립하고, 안전하게 운동을 즐기시기 바랍니다. '), HumanMessage(content='근력감소 염증문제'), AIMessage(content='어머님은 입원 당시 장기간 와상상태이며 편마비가 있었습니다. 그로 인한 근력감소와 노화로 인한 근력감소가 같이 영향을 준것으로 추정됩니다. 다행히 입원후에 식사량이 늘고 있지만 의료진의 생각에는 영양제와 단백질 보충이 필요한 상태라고 생각하고 있습니다. 이 부분은 비용이 추가로 들기때문에 보호자분이 좀더 생각해보시고 병원에 연락을 주세요. 염증소견은 입원당시에 있었으나 약물치료후에 지금은 없는 상태입니다. '), HumanMessage(content='전체적으로 건강상태가 어떤가요?'), AIMessage(content='네, 현재 아버님 상태는 입원 당시 이제 전립선 비대증과 전립선암, 뇌경색, 고혈압,강직성 편마비, 인지기능 저하, 보행 장애가 있으셨는데요. 지금 현재는 식사 잘하시고, 그리고 병원에서 해드릴 수 있는 보존적 치료를 하고 계시있습니다. 보존적 치료를 하면  증상에 맞춰서 치료를 진행하고 있는데, 약물 치료, 재활 치료, 지능력 향상 치료를 진행하고 있습니다. 그리고 현재 방광루 그러니까 소변을 못 보시기 때문에 방광 쪽으로 관을 연결해서 소변을 볼 수 있게 했습니다. 현재 혈압이나 맥박, 체온은 다 정상이시고, 다른 이상 증상은 없으십니다. 그리고 지금 현재 의료진의 재활 치료와 약물 치료를 잘 받고 계십니다.'), HumanMessage(content='아버님 간수치기 400으로 위험한데 조치 부탁드립니다'), AIMessage(content='아버님의 혈액검사를 최근에 7월 29일에 했습니다. 제가 확인해보니 간기능(AST/ALT=11/5)은 정상입니다.  혹시 보호자께서 알고 있는 정보가 맞는지 병원에 직접 확인해보시는 것이 좋을 것같습니다. '), HumanMessage(content='편마비 증세가 있는데 지금은 호전되고 있는지 궁금합니다\\n'), AIMessage(content='강직성 편마비는 약간의 호전이 있습니다, 지속적인 재활치료와 인지치료를 같이 병행해서 진행하고 있으며 마비가 호전되는 지는 더 지켜보아야 할 것 같습니다. 아버님은 치료에 적극적으로 참여 하시는 편이어서 의료진에서도 기대하고 있습니다.'), HumanMessage(content='어떤 조치가 이루어졌나요'), AIMessage(content='어머님은 와상상태이며 강직성 편마비와 관절염이 있으셔서 의료진에서 다양한 치료를 진행했습니다. 입원 당시보다 전체적으로 활력징후는 안정적이며, 욕창도 거의 회복된 상태입니다. 그리고 입원 중 다음과 같은 조치가 이루어졌습니다:\\n\\n1. 보존적 치료: 약물치료, 재활치료, 인지능력 향상치료 등이 진행되었습니다.\\n2. 방광루 설치: 소변을 스스로 볼 수 없어 방광루를 설치하여 소변 배출을 돕습니다.\\n3. 체위 변경 및 등 마사지: 2시간마다 체위를 변경하고 등 마사지를 시행하여 욕창 예방을 돕습니다.\\n4. 정서적 간호: 정서적인 안정을 위해 정서적 간호가 이루어집니다.\\n5. 정기적인 혈압, 맥박, 체온, 호흡 등의 활력 징후 모니터링.\\n6. 의료진의 재활치료 및 약물치료.\\n7. 환자의 식사, 이동, 옷 입히기, 세수, 양치, 목욕, 화장실 사용 등을 도움.\\n8. 목욕 및 이동 시 휠체어를 사용하며, 직원이 도움을 제공합니다.\\n9. 방광루 교체 및 소독.\\n10. 간병인과의 소통 및 교육.\\n\\n이 외에도 환자의 상태에 따라 필요한 추가적인 조치가 이루어질 수 있습니다.'), HumanMessage(content='치매예방에 좋은 취미활동은 어떤게 좋을까요?'), AIMessage(content='어머님은 알츠하이머에 의한 치매로 인해 약물치료와 인지향상치료를 받고 계십니다. 현재는 큰 변화는 없지만 증상 악화를 예방하기위해 지속적인 치료가 필요하다고 생각합니다. 보호자께서 원하시는 치매예방에 좋은 취미활동은 어떤 종류가 있는지 설명하겠습니다. 치매 예방을 위한 취미 활동은 뇌를 자극하고 활동적으로 유지할 수 있는 것들이 좋습니다.                                                                                몇 가지 예시를 드리겠습니다: 1. 독서: 독서는 뇌를 활발하게 사용하고 상상력을 자극하여 기억력과 이해력을 향상시킵니다. 2. 퍼즐 맞추기: 퍼즐을 맞추는 것은 문제 해결 능력과 집중력을 요구하여 뇌를 활발하게 만듭니다. 3. 음악 감상 및 연주: 음악을 듣는 것은 뇌를 자극하고, 악기 연주는 손과 뇌의 조화를 요구하여 뇌 기능을 향상시킵니다. 4. 미술 활동: 그림 그리기, 색칠하기, 공예 등 미술 활동은 창의성과 손-눈 협응력을 향상시키며 뇌를 자극합니다. 5. 체스나 보드게임: 전략적인 게임을 하는 것은 문제 해결 능력과 기억력을 향상시키는데 도움이 됩니다. 6. 댄스: 춤을 추는 것은 신체 운동과 뇌 활동을 동시에 증가시키며, 기억력과 조정력을 향상시킵니다. 7. 외국어 학습: 새로운 언어를 배우는 것은 뇌의 다양한 영역을 자극하고, 기억력과 문제 해결 능력을 향상시킵니다. 치매를 예방하기 위해서는 규칙적인 운동, 건강한 식습관, 사회적 활동, 충분한 수면 등 다양한 생활 습관도 중요합니다.'), HumanMessage(content='현재 환자 상태는 어떤가요?'), AIMessage(content='생체 신호인 혈압, 맥박, 호흡, 체온, 산소 포화도 등이 모두 안정적이며, 어머님의 전반적인 상태는 안정적입니다. 여전히 L-tube를 통해 영양을 공급받고 있으며, 유치도뇨관을 통해 배뇨를 관리하고 있습니다. 또한, 욕창 부위에는 드레싱을 하고 있으며, 체위 변경과 등 마사지를 통해 욕창 예방을 하고 있습니다. 현재 상태는 안정적이지만, 여전히 의료진의 관찰과 관리가 필요합니다.'), HumanMessage(content='지금 상태가 어떤가요?'), AIMessage(content='네, 현재 아버님 상태는 입원 당시 이제 전립선 비대증과 전립선암, 뇌경색, 고혈압,강직성 편마비, 인지기능 저하, 보행 장애가 있으셨는데요. 지금 현재는 식사 잘하시고, 그리고 병원에서 해드릴 수 있는 보존적 치료를 하고 계시있습니다. 보존적 치료를 하면서  증상에 맞춰서 치료를 진행하고 있는데, 약물 치료, 재활 치료, 지능력 향상 치료를 진행하고 있습니다. 그리고 현재 방광루 그러니까 소변을 못 보시기 때문에 방광 쪽으로 관을 연결해서 소변을 볼 수 있게 했습니다. 현재 혈압이나 맥박, 체온은 다 정상이시고, 다른 이상 증상은 없으십니다. 그리고 지금 현재 의료진의 재활 치료와 약물 치료를 잘 받고 계십니다.'), HumanMessage(content='어머님이 힘이없고 기운이 없으세요\\n'), AIMessage(content='안타깝게도 어머님은 급성신장장염으로 인해서 전신상태가 저하되어 있는 상태입니다. 현재  의료진에서 그에맞는 약물치료(항생제 치료)와 수액 치료를 진행하고 있으며  입원 당시보다는 염증이 줄어들고 있는 상태입니다. 염증이 없어질 때까지 계속적인 치료를 진행할 계획입니다. 염증이 없어지면 전신상태는 원래대로 호전될것으로 기대하고 있습니다. 의료진의 치료와 관리가 지속적으로 필요한 시기라고 생각합니다. '), HumanMessage(content='네\\n뇌경색의 증상좀 알려주세요'), AIMessage(content='감사합니다. 제가 도움이 되어서 다행입니다. 궁금한 것이 있으면 언제든지 물어보세요.'), HumanMessage(content='어머니 혈압 수치는 얼마인가요?'), AIMessage(content='어머님은 고혈압으로 장기간 약복용하셨는 데 1달전부터 저혈압을 보여서 고혈압약을 감량해서 처방했으며 그 뒤로는 혈압이 안정적으로 유지 되고 있습니다. 그리고 기타 다른 증상의 변화는 없었습니다.'), HumanMessage(content='완치는 가능한가요?'), AIMessage(content='옹고집님은 당뇨병, 뇌내출혈 후유증, 편마비, 뇌전증, 고혈압이 있으며  당뇨병과 고혈압, 뇌전증은 약물치료로 조절이 잘 되고 있으며 편마비와 뇌내출혈 후유증은 약물치료와 재활치료를 병행하고 있으나 완치는 힘들고 악화되는 것을 예방하고 증상 완화를 치료 목적으로 하고 있습니다. 아버님은 치료에 협조를 잘 해주셔서 증상 호전의 가능성을 기대해보고 있습니다. 더 자세한 내용은 의료진과 상담하시는 것이 좋을 것 같습니다.'), HumanMessage(content='아버지 나이대에서 검사 해봐야할 의료 검사에 대해 알려주세요'), AIMessage(content='아버님은 병원에 입원시에 필요한 검사(혈액검사, 심전도, 흉부방사선검사, 인지정신상태검사, 일상생활능력평가)를 시행했으며 검사상 혈액검사와, 심전도, 흉부방산선검사는 정상이지만, 인지정신상태검사는 중증의 인지장애를 보였고 일상생활능력도 11점으로 낮게 평가되었습니다. 그래서 치료계획은 약물치료와 함께 재황치료와 인지향상치료를 진행했으며, 일상생활에서는 의료진과 간병인이관심을 가지고 도와주고 있습니다. 참고로 아버지 나이대에서 검사해봐야 할 의료 검사는 다음과 같습니다:\\n\\n1. 일반 건강 검진: 신체 검사, 혈압, 체중, 키, 시력, 청력 등을 평가합니다.\\n2. 혈압 측정: 고혈압을 조기에 발견하여 적절한 조치를 취할 수 있습니다.\\n3. 혈당 검사: 당뇨병의 유무를 확인하기 위해 공복 혈당 및 당화혈색소 검사를 시행합니다.\\n4. 콜레스테롤 검사: 고 콜레스테롤 수치를 감지하여 심장 질환의 위험을 평가합니다.\\n5. 전립선 특이 항원(PSA) 검사: 전립선 암의 조기 발견을 위해 전립선 상태를 평가합니다.\\n6. 폐 기능 검사: 폐의 건강 상태를 평가하고 호흡기 질환을 조기에 발견할 수 있습니다.\\n7. 골밀도 검사: 골다공증의 위험을 평가하고 골건강을 확인할 수 있습니다.\\n8. 우울증 검사: 우울증은 노인들에게 흔히 나타나는 문제이므로, 우울증 검사를 통해 정신적인 건강을 평가합니다.\\n9. 치매 검사: 치매는 노인들에게 흔히 발생하는 문제이므로, 치매 검사를 통해 인지 기능을 평가합니다.\\n\\n이러한 의료 검사는 정기적으로 실시하여 건강 상태를 파악하고 예방적인 조치를 취할 수 있도록 도와줍니다.'), HumanMessage(content='고혈압 으로 인한 신장기능 저하의 우려는 없나요?'), AIMessage(content='아버님은 고혈압으로 약물치료 중이며 잘 조절되고 있습니다. 고혈압으로 인한 신장 기능 저하에 대해서는 모니터링 중인데, 1주일 전의 혈액 검사에서 신장 기능은 정상범위에 있는 것으로 확인됩니다. 걱적하지 않으셔도 좋겠습니다. '), HumanMessage(content='의사선생님의 의견이 궁금합니다'), AIMessage(content='아버님은 입원 이후, 고혈압, 뇌내출혈 후유증, 강직성 편마비, 난치성 뇌전증을 동반한 전신성 특발성 뇌전증 및 뇌전증 증후군, 상세불명의 간질환, 합병증을 동반하지 않은 제2형 당뇨병 등의 기존 질환으로 인해 보존적 치료를 받았습니다.  당뇨,고혈압, 뇌전증, 간질환 등에 대한 약물 치료를 받았으며, 재활치료를 받았습니다. 또한, 소변 배출을 돕기 위해 방광루를 삽입하였습니다. 입원 기간 동안 안정적이었으며, 혈압, 맥박, 체온 등의 바이탈 사인은 정상 범위 내에 있었습니다. 또한, 소변 배출이 원활하게 이루어지고 있었습니다. 입원 기간 동안 몇 차례 통증을 호소하였으며, 이에 대한 처방이 이루어졌습니다. 또한, 기침과 가래 등의 증상이 있어 이에 대한 처방이 이루어졌습니다. 증상 조절이 잘 되었습니다. 현재 의료진의 소견은 아버님 상태는 안정적이며, 현재의 상태를 잘 유지하는 것을 목표로 하고 있습니다. 무론 상태 호전의 가능성도 있기에 의료진에서 지속적으로 노력하고 있습니다.'), HumanMessage(content='현재컨디션'), AIMessage(content='현재 컨디션은 안정적이며, 증상 호전이 많이 되었으며 약물치료와 재활치료에 잘 반응하고 있습니다.'), HumanMessage(content='요즘 식사는 잘하시는지 당뇨 고혈압수치는 어떤지요?'), AIMessage(content='식사는 당뇨식으로 하루 3회  드시고 계시며 식사하시고 소화시키는 것은 잘 하고 계십니다. 혈압(BP;100 BPL;65 P;73 RESP;20 T;36.5)은 정상 범위에서 잘 조절되고 있으며, 공복혈당(FBS;101)도 잘 조절되고 있습니다. 의료진의 지속적인 약물치료와 모니터링으로 안정적으로 유지되고 있습니다. '), HumanMessage(content='요즘 코로나가 다시 유행이라던데 코로나에 걸리면 어떻게하나요?'), AIMessage(content='코로나에 대한 예방과 대응은 정부의 지침에 따르고 있습니다. 그리고 만약 코로나가 병원내에서 발생할 때에는 대응 메뉴얼에 따라 진행하며 어머님께서 코로나에 감염되었다고 판단되면 코로나 전문 치료 병원으로 이송할 계획입니다. '), HumanMessage(content='줄기세포치료가 부작용이 있진 않나요?'), AIMessage(content='저희 병원에서는 줄기 세포 치료를 하지 않고 있습니다. 참고로 설명해드리면, 줄기세포 치료는 다른 의료 치료와 마찬가지로 부작용이 발생할 수 있습니다. 그러나 줄기세포 치료의 부작용은 주로 경미하며, 일시적인 경우가 많습니다. 일반적인 부작용으로는 주사 부위의 통증, 발적, 부종 등이 있을 수 있습니다. 드물게 알레르기 반응이나 감염 등의 부작용이 발생할 수도 있습니다. 그러나 이러한 부작용은 줄기세포 치료의 효과와 잠재적 이점에 비해 일반적으로 경미하며, 적절한 의료 감독 하에 치료를 받는 것이 중요합니다. '), HumanMessage(content='혈압은 안정적인가요?  수치는?'), AIMessage(content='네, 혈압은 약간 높지만 안정적인 편입니다. 평균적으로 기록된 수치는 100/50-163/74이며, 가장 최근에 기록된 혈압은 157/74-57입니다.'), HumanMessage(content='뇌전증환자는 약물복용후 완치가되나요'), AIMessage(content='아버님은 현재 뇌전증 진단을 받았지만 뇌전증 증상이 발생하지 않았습니다. 약물치료는 하지 않고 있으며 안정적인 상태를 유지하고 있습니다. 하지만 뇌전증은 완치가 어려운 질환이기에 약물 치료는 뇌전증 환자의 증상을 조절하고 발작을 예방하는 데 중요한 역할을 합니다. 따라서 필요하면 약물치료를 언제든지 시작할 계획은 있습니다. 참고로, 경우에 따라서는 적절한 약물 치료로 발작 빈도와 강도를 크게 줄일 수 있으며, 일부 환자는 장기적으로 발작이 전혀 발생하지 않을 수도 있습니다. 그러나 약물 치료에 대한 반응은 개인마다 다를 수 있으며, 일부 환자는 약물만으로는 충분한 효과를 얻지 못할 수도 있습니다. 이러한 경우에는 수술, 케톤 생성 식이요법, 뇌 자극 치료 등 다른 치료 옵션을 고려할 수도 있습니다. 의료진과 상담하여 개인의 상황에 맞는 치료 계획을 수립하는 것이 중요합니다.'), HumanMessage(content='그럼 지금 먹는 약과 비타민은 함께 먹어도 되나요?'), AIMessage(content='일부 약물은 비타민 섭취를 제한해야 하는 경우가 있을 수 있으므로, 복용 중인 약물에 대해 의료진과 상담하시는 것이 좋습니다. 또한, 약물과 비타민을 함께 복용할 경우, 상호작용이 발생할 수 있으므로, 의료진에게 비타민 섭취에 대해 알리는 것이 좋습니다.'), HumanMessage(content='요양병원에서 치료후\\n집으로 다시모실수 있을까요?\\n상황이심각한가요?\\n'), AIMessage(content='어머님의 현재 상태로 보았을때는 언제 집으로 다시 모실 수 있는지를 예측하기는 어려울 것같습니다. 앞으로 어머님의 상태와 상황을 종합적으로 판단하면서 결정해야하겠습니다. 덧붙여서,  집으로 다시 모실 수 있는지 여부는 어머님의 건강 상태뿐만 아니라 가정 환경, 가족 지원, 의료 서비스 접근성 등 다양한 요소를 고려해야 합니다. 의사와 상담하여 자세한 정보를 얻는 것이 좋습니다.'), HumanMessage(content='혈당'), AIMessage(content='이도령님은 당뇨를 가지고 계셔서 식이요법과 약물치료를 병행하고 있습니다.식이요법은 경관식으로 하루 1200kcal를 제공하고 있으며 약물은 트라젠타를 복용하고 있습니다. 공복혈당은110이고 당화혈색소는 6.5로 비교적 안정적으로 유지되고 있습니다. 필요하면 공복혈당과 당화혈색소의 변화에 따라 식이요법과 약물을 조절할 수도 있습니다. '), HumanMessage(content='고혈압에 좋은 음식이 무엇인가요?'), AIMessage(content='어머님의 혈압은 정상 범위 내에서 확인되고 있으며, 고혈압에 대한 약물 치료를 진행 중입니다. 참고로, 고혈압에 좋은 음식은 다음과 같습니다:\\n\\n1. 신선한 과일: 바나나, 사과, 베리 종류 등\\n2. 채소: 시금치, 케일, 브로콜리, 당근 등\\n3. 견과류: 아몬드, 호두, 땅콩 등\\n4. 콩류: 콩, 렌즈콩 등\\n5. 저지방 유제품: 우유, 치즈, 요구르트 등\\n6. 생선: 연어, 참치, 고등어 등\\n7. 통곡물: 귀리, 현미, 통밀빵 등\\n8. 닭고기: 껍질을 제거한 가슴살 등\\n9. 초콜릿: 다크 초콜릿은 플라보노이드가 풍부합니다.\\n10. 커피: 적당량의 커피는 혈압을 상승시키지 않고 이점이 있을 수 있습니다.\\n\\n하지만 개인의 건강 상태와 식습관에 따라 다를 수 있으므로, 의사나 영양사와 상담하여 적절한 식단을 구성하는 것이 좋습니다.'), HumanMessage(content='네, 그럼 다음주에 연락 드리겟습니다'), AIMessage(content='네, 미리 연락 주시면 예약을 할 수 있습니다. 감사합니다.'), HumanMessage(content='간수치는 어떤가요'), AIMessage(content='1달전에 검사한 간기능의 정상(AST/ALT=13/10)범위에 있으며 아버님은 입원 당시에도 간기능은 정상이었습니다.'), HumanMessage(content='아버지께서 요양병원 들어가신 직후와 현재의 차이가 있나요?'), AIMessage(content='nan'), HumanMessage(content='nnnn\\n\\n\\n\\n\\n\\n\\n\\n\\n\\n\\n\\n\\n\\n\\n\\n\\n\\n\\nmm\\n\\n'), AIMessage(content='죄송하지만, 제가 이해하지 못한 내용이 있는 것 같습니다. 더 자세한 내용을 알려주시겠어요?'), HumanMessage(content='그렇군요.. 감사합니다.'), AIMessage(content='천만에요! 궁금한 것이 있으면 언제든지 물어보세요.'), HumanMessage(content='고마워요.\\n담번에 질문있으면\\n다시 할게요'), AIMessage(content='감사합니다! 또 궁금한 점이 있거나 도움이 필요하시면 언제든지 말씀해주세요.'), HumanMessage(content='예 감사합니다'), AIMessage(content='천만에요! 추가로 궁금한 점이 있으면 언제든지 물어보세요.'), HumanMessage(content='감사합니다'), AIMessage(content='천만에요! 다른 질문이 있나요?'), HumanMessage(content='알겠습니다 \\n감사합니다 '), AIMessage(content='감사합니다. 또 다른 질문이나 도움이 필요하신가요?'), HumanMessage(content='네'), AIMessage(content='추가 도움이 필요하신가요?'), HumanMessage(content='네'), AIMessage(content='죄송합니다, 제가 잘 이해하지 못했습니다. 질문이나 요청사항이 있으시면 언제든지 말씀해주세요.'), HumanMessage(content='아뇨 잘 하고 계셔서 안심 입니다'), AIMessage(content='감사합니다. 제가 도움이 되어서 다행입니다. 궁금한 것이 있으면 언제든지 물어보세요.'), HumanMessage(content='아 그렇군요 항상 감사합니다'), AIMessage(content='별말씀을요! 더 궁금한 사항이 있으면 언제든지 물어보세요.'), HumanMessage(content='네 감사합니다 '), AIMessage(content='별말씀을요! 궁금한 점이 있거나 더 도움이 필요하시면 언제든지 말씀해주세요.'), HumanMessage(content='오늘 혈압은 어떠신가요?'), AIMessage(content='오늘의 혈압은 정상 범위 내에서 확인되고 있으며, 고혈압에 대한 약물 치료를 진행 중입니다. 특별히 혈압이 갑자기 상승하거나 그런 증상은 보이지 않고 있습니다. 하지만 지속적으로 모니터링하고 있으며, 필요한 경우 의료진이 적절한 조치를 취하고 있습니다.'), HumanMessage(content='잘 움직이지 못하시는데 욕창예방을 위한 조치는 잘 해드리는지요?'), AIMessage(content='네, 환자분은 잘 움직이지 못하시는 상태이므로 욕창예방을 위한 조치가 잘 이루어지고 있습니다. 환자의 간호기록에 따르면, 2시간마다 체위변경과 등마사지가 시행되고 있으며, 욕창 발생 부위의 피부 상태를 관찰하고 있습니다. 또한, 환자의 시트와 침구류의 젖은 여부를 자주 확인하고, 환자의 체중과 체형에 맞는 적절한 매트리스와 쿠션을 사용하여 욕창 예방에 노력하고 있습니다.'), HumanMessage(content='끝'), AIMessage(content='알겠습니다. 다른 질문이 있으면 언제든지 말씀해주세요.'), HumanMessage(content='혈압은 어떤가요?'), AIMessage(content='혈압은 정상 범위 내에서 확인되고 있으며, 고혈압에 대한 약물 치료를 진행하고 있습니다. 혈압이 갑자기 상승하거나 이상 증상이 보이지 않는다고 합니다. 의료진이 지속적으로 모니터링하고 있으며, 필요한 경우 적절한 조치를 취할 것이라고 합니다.'), HumanMessage(content='알겟읍니다'), AIMessage(content='다른 궁금한 점이 있으신가요?'), HumanMessage(content='현재 환자 상태는 어떤가요?'), AIMessage(content='가장 최근의 기록에 따르면, 환자는 밤 동안 특별한 변화 없이 잠을 잤습니다. 생체 신호인 혈압, 맥박, 호흡, 체온, 산소 포화도 등이 모두 안정적이며, 환자의 전반적인 상태는 안정적입니다. 환자는 여전히 L-tube를 통해 영양을 공급받고 있으며, 유치도뇨관을 통해 배뇨를 관리하고 있습니다. 또한, 욕창 부위에는 드레싱을 하고 있으며, 체위 변경과 등 마사지를 통해 욕창 예방을 하고 있습니다. 환자의 현재 상태는 안정적이지만, 여전히 의료진의 관찰과 관리가 필요합니다.'), HumanMessage(content='네~^^'), AIMessage(content='네, 무엇을 도와드릴까요?'), HumanMessage(content='의료기록을 확인하려면 직접 내원해야 하나요?'), AIMessage(content='네, 의료기록을 확인하려면 일반적으로 해당 의료기관에 직접 내원해야 합니다. 의료기록은 환자의 개인정보와 건강 정보를 포함하고 있기 때문에, 환자의 동의 없이 외부로 공개되지 않습니다. 따라서, 의료기록을 확인하고자 할 때는 해당 의료기관에 방문하여 필요한 절차를 따라야 합니다. 이때 신분증을 지참해야 하며, 의료기록 열람 및 복사 등에 대한 수수료가 발생할 수 있으니 참고하시기 바랍니다.'), HumanMessage(content='1인실로 옮길수 있을가요'), AIMessage(content='죄송합니다. 저는 의사가 아니기 때문에 의료적인 결정을 내릴 수 없습니다. 그러나 1인실로 옮기는 것은 환자의 상태와 병원의 상황에 따라 달라질 수 있습니다. 환자의 상태와 보험 혜택 등을 고려하여 의료진이나 병원의 입원 담당 부서와 상담해보시는 것이 좋을 것 같습니다.'), HumanMessage(content='이번주에 한번 가보겠습니다'), AIMessage(content='좋습니다, 이번 주에 방문하실 예정이시군요. 환자분 상태에 대해 궁금한 점이 있거나 다른 도움이 필요하시면 언제든지 말씀해주세요.'), HumanMessage(content='어떤 조치가 이루어졌나요'), AIMessage(content='입원 중 다음과 같은 조치가 이루어졌습니다:\\n\\n1. 보존적 치료: 약물치료, 재활치료, 인지능력 향상치료 등이 진행되었습니다.\\n2. 방광루 설치: 소변을 스스로 볼 수 없어 방광루를 설치하여 소변 배출을 돕습니다.\\n3. 체위 변경 및 등 마사지: 2시간마다 체위를 변경하고 등 마사지를 시행하여 욕창 예방을 돕습니다.\\n4. 정서적 간호: 정서적인 안정을 위해 정서적 간호가 이루어집니다.\\n5. 정기적인 혈압, 맥박, 체온, 호흡 등의 활력 징후 모니터링.\\n6. 의료진의 재활치료 및 약물치료.\\n7. 환자의 식사, 이동, 옷 입히기, 세수, 양치, 목욕, 화장실 사용 등을 도움.\\n8. 목욕 및 이동 시 휠체어를 사용하며, 직원이 도움을 제공합니다.\\n9. 방광루 교체 및 소독.\\n10. 보호자 또는 간병인과의 소통 및 교육.\\n\\n이 외에도 환자의 상태에 따라 필요한 추가적인 조치가 이루어질 수 있습니다.'), HumanMessage(content='치매예방에 좋은 취미활동은 어떤게 좋을까요?'), AIMessage(content='치매 예방을 위한 취미 활동은 뇌를 자극하고 활동적으로 유지할 수 있는 것들이 좋습니다. 몇 가지 예시를 드리겠습니다:\\n\\n1. 독서: 독서는 뇌를 활발하게 사용하고 상상력을 자극하여 기억력과 이해력을 향상시킵니다.\\n2. 퍼즐 맞추기: 퍼즐을 맞추는 것은 문제 해결 능력과 집중력을 요구하여 뇌를 활발하게 만듭니다.\\n3. 음악 감상 및 연주: 음악을 듣는 것은 뇌를 자극하고, 악기 연주는 손과 뇌의 조화를 요구하여 뇌 기능을 향상시킵니다.\\n4. 미술 활동: 그림 그리기, 색칠하기, 공예 등 미술 활동은 창의성과 손-눈 협응력을 향상시키며 뇌를 자극합니다.\\n5. 체스나 보드게임: 전략적인 게임을 하는 것은 문제 해결 능력과 기억력을 향상시키는데 도움이 됩니다.\\n6. 댄스: 춤을 추는 것은 신체 운동과 뇌 활동을 동시에 증가시키며, 기억력과 조정력을 향상시킵니다.\\n7. 외국어 학습: 새로운 언어를 배우는 것은 뇌의 다양한 영역을 자극하고, 기억력과 문제 해결 능력을 향상시킵니다.\\n\\n치매를 예방하기 위해서는 규칙적인 운동, 건강한 식습관, 사회적 활동, 충분한 수면 등 다양한 생활 습관도 중요합니다.'), HumanMessage(content='현재컨디션'), AIMessage(content='현재 컨디션은 안정적이며, 증상도 없고 치료에 잘 반응하고 있습니다.')]\n"
     ]
    }
   ],
   "source": [
    "# This is a prompt template used to format each individual example.\n",
    "example_prompt = ChatPromptTemplate.from_messages(\n",
    "    [\n",
    "        (\"human\", \"{question}\"),\n",
    "        (\"ai\", \"{answer}\"),\n",
    "    ]\n",
    ")\n",
    "few_shot_prompt = FewShotChatMessagePromptTemplate(\n",
    "    example_prompt=example_prompt,\n",
    "    examples=examples,\n",
    ")\n",
    "\n",
    "print(few_shot_prompt.invoke({}).to_messages())"
   ]
  },
  {
   "cell_type": "code",
   "execution_count": 143,
   "metadata": {},
   "outputs": [],
   "source": [
    "prompt = '''\n",
    "### 시스템 설명 :\n",
    "당신은 병원 AI 지원 시스템입니다. \n",
    "보호자 또는 환자가 의료 상태와 관련된 질문을 하면, 환자의 최신 의료 기록을 기반으로 적절한 답변을 제공해야 합니다. \n",
    "답변은 보호자 또는 환자가 이해할 수 있도록 전문용어를 최대한 피하고 쉽게 설명해야 합니다.\n",
    "환자 혹은 보호자의 질문에 친절하게 답변해주세요\n",
    "\n",
    "아래에 환자의 의료 기록이 제공됩니다.\n",
    "\n",
    "\n",
    "### 지시 사항 :\n",
    "환자의 상태, 식사, 약물 복용, 거동 상태 등을 포함하여 질문에 대한 정확한 답변을 생성하십시오.\n",
    "참고한 데이터의 메타데이터를 알려주세요\n",
    "\n",
    "### 중요 사항 :\n",
    "한글로 답변하세요\n",
    "\n",
    "### 응답 :\n",
    "'''"
   ]
  },
  {
   "cell_type": "code",
   "execution_count": 144,
   "metadata": {},
   "outputs": [],
   "source": [
    "final_prompt = ChatPromptTemplate.from_messages(\n",
    "    [\n",
    "        (\"system\", prompt),\n",
    "        few_shot_prompt,\n",
    "        (\"human\", \"{question}\"),\n",
    "    ]\n",
    ")"
   ]
  },
  {
   "cell_type": "code",
   "execution_count": 145,
   "metadata": {},
   "outputs": [],
   "source": [
    "from langchain_upstage import ChatUpstage"
   ]
  },
  {
   "cell_type": "code",
   "execution_count": 146,
   "metadata": {},
   "outputs": [],
   "source": [
    "llm = ChatUpstage(api_key=os.getenv(\"UPSTAGE_API_KEY\"))"
   ]
  },
  {
   "cell_type": "code",
   "execution_count": 151,
   "metadata": {},
   "outputs": [],
   "source": [
    "from langchain_openai import ChatOpenAI\n",
    "\n",
    "chain = final_prompt | llm | StrOutputParser()"
   ]
  },
  {
   "cell_type": "code",
   "execution_count": 152,
   "metadata": {},
   "outputs": [
    {
     "data": {
      "text/plain": [
       "'아버님의 현재 상태는 안정적입니다. 당뇨병과 고혈압은 약물 치료로 잘 조절되고 있으며, 뇌혈관 질환으로 인한 신경학적 증상은 현재 나타나지 않고 있습니다. 하지만 지속적인 관리가 필요하며, 정기적인 검진과 의료진의 지시에 따라 치료를 받아야 합니다.'"
      ]
     },
     "execution_count": 152,
     "metadata": {},
     "output_type": "execute_result"
    }
   ],
   "source": [
    "chain.invoke('아버님 상태는 어떠신가요?')"
   ]
  },
  {
   "cell_type": "markdown",
   "metadata": {},
   "source": []
  }
 ],
 "metadata": {
  "kernelspec": {
   "display_name": ".venv",
   "language": "python",
   "name": "python3"
  },
  "language_info": {
   "codemirror_mode": {
    "name": "ipython",
    "version": 3
   },
   "file_extension": ".py",
   "mimetype": "text/x-python",
   "name": "python",
   "nbconvert_exporter": "python",
   "pygments_lexer": "ipython3",
   "version": "3.10.14"
  }
 },
 "nbformat": 4,
 "nbformat_minor": 2
}
