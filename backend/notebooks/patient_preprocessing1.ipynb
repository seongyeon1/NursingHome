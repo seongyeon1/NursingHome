{
 "cells": [
  {
   "cell_type": "code",
   "execution_count": 1,
   "metadata": {},
   "outputs": [],
   "source": [
    "# !pip install python-dotenv"
   ]
  },
  {
   "cell_type": "code",
   "execution_count": 2,
   "metadata": {},
   "outputs": [],
   "source": [
    "# !pip install langchain-upstage"
   ]
  },
  {
   "cell_type": "code",
   "execution_count": 9,
   "metadata": {},
   "outputs": [],
   "source": [
    "from dotenv import load_dotenv\n",
    "import os\n",
    "import json\n",
    "import sys\n",
    "import time\n",
    "from tqdm import tqdm\n",
    "from langchain_upstage import UpstageLayoutAnalysisLoader\n",
    "from langchain_core.documents.base import Document\n",
    "\n",
    "# Load environment variables\n",
    "load_dotenv()\n",
    "\n",
    "# Load API keys from environment variables\n",
    "UPSTAGE_API_KEY = os.getenv('UPSTAGE_API_KEY')"
   ]
  },
  {
   "cell_type": "code",
   "execution_count": null,
   "metadata": {},
   "outputs": [],
   "source": [
    "from glob import glob\n",
    "from ocr import main"
   ]
  },
  {
   "cell_type": "code",
   "execution_count": 32,
   "metadata": {},
   "outputs": [],
   "source": [
    "reports = glob('./reports/*.pdf')"
   ]
  },
  {
   "cell_type": "code",
   "execution_count": 33,
   "metadata": {},
   "outputs": [
    {
     "data": {
      "text/plain": [
       "['./reports/남C_의무기록.pdf',\n",
       " './reports/남F _의무기록.pdf',\n",
       " './reports/남I _의무기록.pdf',\n",
       " './reports/남G _의무기록.pdf',\n",
       " './reports/남E _의무기록.pdf',\n",
       " './reports/남J _의무기록.pdf',\n",
       " './reports/남D _의무기록.pdf',\n",
       " './reports/여I _의무기록.pdf',\n",
       " './reports/여A_의무기록.pdf',\n",
       " './reports/여F _의무기록.pdf',\n",
       " './reports/여C_의무기록지(남C로 보냄).pdf',\n",
       " './reports/여G _의무기록.pdf',\n",
       " './reports/여H _의무기록.pdf',\n",
       " './reports/여B_의무기록.pdf',\n",
       " './reports/여J _의무기록.pdf',\n",
       " './reports/여E _의무기록.pdf',\n",
       " './reports/여D _의무기록.pdf',\n",
       " './reports/남A_의무기록지.pdf',\n",
       " './reports/남B_의무기록.pdf']"
      ]
     },
     "execution_count": 33,
     "metadata": {},
     "output_type": "execute_result"
    }
   ],
   "source": [
    "reports"
   ]
  },
  {
   "cell_type": "code",
   "execution_count": 34,
   "metadata": {},
   "outputs": [],
   "source": [
    "results = ['./ocr/'+report.split('/')[-1].split('.')[0]+'.json' for report in reports]"
   ]
  },
  {
   "cell_type": "code",
   "execution_count": 35,
   "metadata": {},
   "outputs": [
    {
     "data": {
      "text/plain": [
       "['./ocr/남C_의무기록.json',\n",
       " './ocr/남F _의무기록.json',\n",
       " './ocr/남I _의무기록.json',\n",
       " './ocr/남G _의무기록.json',\n",
       " './ocr/남E _의무기록.json',\n",
       " './ocr/남J _의무기록.json',\n",
       " './ocr/남D _의무기록.json',\n",
       " './ocr/여I _의무기록.json',\n",
       " './ocr/여A_의무기록.json',\n",
       " './ocr/여F _의무기록.json',\n",
       " './ocr/여C_의무기록지(남C로 보냄).json',\n",
       " './ocr/여G _의무기록.json',\n",
       " './ocr/여H _의무기록.json',\n",
       " './ocr/여B_의무기록.json',\n",
       " './ocr/여J _의무기록.json',\n",
       " './ocr/여E _의무기록.json',\n",
       " './ocr/여D _의무기록.json',\n",
       " './ocr/남A_의무기록지.json',\n",
       " './ocr/남B_의무기록.json']"
      ]
     },
     "execution_count": 35,
     "metadata": {},
     "output_type": "execute_result"
    }
   ],
   "source": [
    "results"
   ]
  },
  {
   "cell_type": "code",
   "execution_count": 36,
   "metadata": {},
   "outputs": [
    {
     "name": "stdout",
     "output_type": "stream",
     "text": [
      "./ocr/남C_의무기록.json: ocr 완료\n",
      "./ocr/남F _의무기록.json: ocr 완료\n",
      "./ocr/남I _의무기록.json: ocr 완료\n",
      "./ocr/남G _의무기록.json: ocr 완료\n",
      "./ocr/남E _의무기록.json: ocr 완료\n",
      "./ocr/남J _의무기록.json: ocr 완료\n",
      "./ocr/남D _의무기록.json: ocr 완료\n",
      "./ocr/여I _의무기록.json: ocr 완료\n",
      "./ocr/여A_의무기록.json: ocr 완료\n",
      "./ocr/여F _의무기록.json: ocr 완료\n"
     ]
    },
    {
     "name": "stderr",
     "output_type": "stream",
     "text": [
      "Processing pages: 100%|██████████| 558/558 [00:00<00:00, 1854533.78page/s]\n"
     ]
    },
    {
     "name": "stdout",
     "output_type": "stream",
     "text": [
      "OCR processing for ./reports/여C_의무기록지(남C로 보냄).pdf completed in 578.40 seconds.\n"
     ]
    },
    {
     "name": "stderr",
     "output_type": "stream",
     "text": [
      "Processing pages: 100%|██████████| 101/101 [00:00<00:00, 1075189.60page/s]\n"
     ]
    },
    {
     "name": "stdout",
     "output_type": "stream",
     "text": [
      "OCR processing for ./reports/여G _의무기록.pdf completed in 97.10 seconds.\n"
     ]
    },
    {
     "name": "stderr",
     "output_type": "stream",
     "text": [
      "Processing pages: 100%|██████████| 118/118 [00:00<00:00, 1181212.11page/s]\n"
     ]
    },
    {
     "name": "stdout",
     "output_type": "stream",
     "text": [
      "OCR processing for ./reports/여H _의무기록.pdf completed in 119.57 seconds.\n"
     ]
    },
    {
     "name": "stderr",
     "output_type": "stream",
     "text": [
      "Processing pages: 100%|██████████| 658/658 [00:00<00:00, 2319203.39page/s]\n"
     ]
    },
    {
     "name": "stdout",
     "output_type": "stream",
     "text": [
      "OCR processing for ./reports/여B_의무기록.pdf completed in 636.69 seconds.\n"
     ]
    },
    {
     "name": "stderr",
     "output_type": "stream",
     "text": [
      "Processing pages: 100%|██████████| 118/118 [00:00<00:00, 1167282.72page/s]\n"
     ]
    },
    {
     "name": "stdout",
     "output_type": "stream",
     "text": [
      "OCR processing for ./reports/여J _의무기록.pdf completed in 112.86 seconds.\n"
     ]
    },
    {
     "name": "stderr",
     "output_type": "stream",
     "text": [
      "Processing pages: 100%|██████████| 90/90 [00:00<00:00, 1110256.94page/s]\n"
     ]
    },
    {
     "name": "stdout",
     "output_type": "stream",
     "text": [
      "OCR processing for ./reports/여E _의무기록.pdf completed in 87.36 seconds.\n"
     ]
    },
    {
     "name": "stderr",
     "output_type": "stream",
     "text": [
      "Processing pages: 100%|██████████| 136/136 [00:00<00:00, 1371214.77page/s]\n"
     ]
    },
    {
     "name": "stdout",
     "output_type": "stream",
     "text": [
      "OCR processing for ./reports/여D _의무기록.pdf completed in 150.12 seconds.\n"
     ]
    },
    {
     "name": "stderr",
     "output_type": "stream",
     "text": [
      "Processing pages: 100%|██████████| 452/452 [00:00<00:00, 2171621.32page/s]\n"
     ]
    },
    {
     "name": "stdout",
     "output_type": "stream",
     "text": [
      "OCR processing for ./reports/남A_의무기록지.pdf completed in 429.19 seconds.\n"
     ]
    },
    {
     "name": "stderr",
     "output_type": "stream",
     "text": [
      "Processing pages: 100%|██████████| 391/391 [00:00<00:00, 1246179.99page/s]"
     ]
    },
    {
     "name": "stdout",
     "output_type": "stream",
     "text": [
      "OCR processing for ./reports/남B_의무기록.pdf completed in 409.51 seconds.\n"
     ]
    },
    {
     "name": "stderr",
     "output_type": "stream",
     "text": [
      "\n"
     ]
    }
   ],
   "source": [
    "for report, result in zip(reports, results):\n",
    "    if os.path.isfile(result):\n",
    "        print(result + ': ocr 완료')\n",
    "        pass\n",
    "    else:\n",
    "        main(report, result)"
   ]
  }
 ],
 "metadata": {
  "kernelspec": {
   "display_name": ".venv",
   "language": "python",
   "name": "python3"
  },
  "language_info": {
   "codemirror_mode": {
    "name": "ipython",
    "version": 3
   },
   "file_extension": ".py",
   "mimetype": "text/x-python",
   "name": "python",
   "nbconvert_exporter": "python",
   "pygments_lexer": "ipython3",
   "version": "3.12.4"
  }
 },
 "nbformat": 4,
 "nbformat_minor": 2
}
