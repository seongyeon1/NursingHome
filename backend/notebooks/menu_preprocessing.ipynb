{
 "cells": [
  {
   "cell_type": "code",
   "execution_count": 193,
   "metadata": {},
   "outputs": [],
   "source": [
    "# !pip install pandas\n",
    "#!pip install xlrd"
   ]
  },
  {
   "cell_type": "code",
   "execution_count": 6,
   "metadata": {},
   "outputs": [],
   "source": [
    "import pandas as pd\n",
    "from glob import glob"
   ]
  },
  {
   "cell_type": "code",
   "execution_count": 169,
   "metadata": {},
   "outputs": [
    {
     "name": "stdout",
     "output_type": "stream",
     "text": [
      "8월1째주\n",
      "8월2째주\n",
      "8월3째주\n",
      "7월1째주\n",
      "7월2째주\n",
      "7월3째주\n",
      "7월4째주\n",
      "7월5째\n",
      "6월1째주\n",
      "6월2째주\n",
      "6월3째주\n",
      "6월4째주\n"
     ]
    },
    {
     "name": "stderr",
     "output_type": "stream",
     "text": [
      "/var/folders/1b/dx8_94fs0q740wx3lfknk6y40000gn/T/ipykernel_79179/3772892036.py:23: FutureWarning: DataFrame.fillna with 'method' is deprecated and will raise in a future version. Use obj.ffill() or obj.bfill() instead.\n",
      "  menu_info = menu_info.reset_index().fillna(method='ffill')\n",
      "/var/folders/1b/dx8_94fs0q740wx3lfknk6y40000gn/T/ipykernel_79179/3772892036.py:23: FutureWarning: DataFrame.fillna with 'method' is deprecated and will raise in a future version. Use obj.ffill() or obj.bfill() instead.\n",
      "  menu_info = menu_info.reset_index().fillna(method='ffill')\n",
      "/var/folders/1b/dx8_94fs0q740wx3lfknk6y40000gn/T/ipykernel_79179/3772892036.py:23: FutureWarning: DataFrame.fillna with 'method' is deprecated and will raise in a future version. Use obj.ffill() or obj.bfill() instead.\n",
      "  menu_info = menu_info.reset_index().fillna(method='ffill')\n",
      "/var/folders/1b/dx8_94fs0q740wx3lfknk6y40000gn/T/ipykernel_79179/3772892036.py:23: FutureWarning: DataFrame.fillna with 'method' is deprecated and will raise in a future version. Use obj.ffill() or obj.bfill() instead.\n",
      "  menu_info = menu_info.reset_index().fillna(method='ffill')\n",
      "/var/folders/1b/dx8_94fs0q740wx3lfknk6y40000gn/T/ipykernel_79179/3772892036.py:23: FutureWarning: DataFrame.fillna with 'method' is deprecated and will raise in a future version. Use obj.ffill() or obj.bfill() instead.\n",
      "  menu_info = menu_info.reset_index().fillna(method='ffill')\n",
      "/var/folders/1b/dx8_94fs0q740wx3lfknk6y40000gn/T/ipykernel_79179/3772892036.py:23: FutureWarning: DataFrame.fillna with 'method' is deprecated and will raise in a future version. Use obj.ffill() or obj.bfill() instead.\n",
      "  menu_info = menu_info.reset_index().fillna(method='ffill')\n",
      "/var/folders/1b/dx8_94fs0q740wx3lfknk6y40000gn/T/ipykernel_79179/3772892036.py:23: FutureWarning: DataFrame.fillna with 'method' is deprecated and will raise in a future version. Use obj.ffill() or obj.bfill() instead.\n",
      "  menu_info = menu_info.reset_index().fillna(method='ffill')\n",
      "/var/folders/1b/dx8_94fs0q740wx3lfknk6y40000gn/T/ipykernel_79179/3772892036.py:23: FutureWarning: DataFrame.fillna with 'method' is deprecated and will raise in a future version. Use obj.ffill() or obj.bfill() instead.\n",
      "  menu_info = menu_info.reset_index().fillna(method='ffill')\n",
      "/var/folders/1b/dx8_94fs0q740wx3lfknk6y40000gn/T/ipykernel_79179/3772892036.py:23: FutureWarning: DataFrame.fillna with 'method' is deprecated and will raise in a future version. Use obj.ffill() or obj.bfill() instead.\n",
      "  menu_info = menu_info.reset_index().fillna(method='ffill')\n",
      "/var/folders/1b/dx8_94fs0q740wx3lfknk6y40000gn/T/ipykernel_79179/3772892036.py:23: FutureWarning: DataFrame.fillna with 'method' is deprecated and will raise in a future version. Use obj.ffill() or obj.bfill() instead.\n",
      "  menu_info = menu_info.reset_index().fillna(method='ffill')\n",
      "/var/folders/1b/dx8_94fs0q740wx3lfknk6y40000gn/T/ipykernel_79179/3772892036.py:23: FutureWarning: DataFrame.fillna with 'method' is deprecated and will raise in a future version. Use obj.ffill() or obj.bfill() instead.\n",
      "  menu_info = menu_info.reset_index().fillna(method='ffill')\n",
      "/var/folders/1b/dx8_94fs0q740wx3lfknk6y40000gn/T/ipykernel_79179/3772892036.py:23: FutureWarning: DataFrame.fillna with 'method' is deprecated and will raise in a future version. Use obj.ffill() or obj.bfill() instead.\n",
      "  menu_info = menu_info.reset_index().fillna(method='ffill')\n"
     ]
    }
   ],
   "source": [
    "import xlrd\n",
    "\n",
    "menu = glob('./data/menu/*')\n",
    "\n",
    "menu_board = {}\n",
    "\n",
    "info = []\n",
    "\n",
    "for m in menu:\n",
    "    tmp = {}\n",
    "    book = xlrd.open_workbook(m)\n",
    "    for sheet in book.sheets():\n",
    "        print(sheet.name)\n",
    "        menu_sheet = pd.read_excel(m, sheet_name=sheet.name, header=1, index_col=0).iloc[:,:7]\n",
    "        #menu_sheet = pd.read_excel(menu[0], header=1, index_col=0).iloc[:,:7]\n",
    "\n",
    "        # 원산지 정보\n",
    "        i = menu_sheet.iloc[24:,:1]\n",
    "        info.append(i)\n",
    "\n",
    "        menu_info = menu_sheet.iloc[:21,:]\n",
    "        menu_info.columns = [col.strftime('%Y-%m-%d') for col in menu_info.columns]\n",
    "        menu_info = menu_info.reset_index().fillna(method='ffill')\n",
    "\n",
    "        \n",
    "        for col in menu_info.drop('index',axis=1).columns:\n",
    "            total = {}\n",
    "            \n",
    "            for i in ['조식','중식','석식']:\n",
    "                tmp = {}\n",
    "                tmp['메뉴'] = menu_info[menu_info['index'] == i].drop('index',axis=1).reset_index(drop=True).loc[:5,col].tolist()\n",
    "                tmp['열량'] = menu_info[menu_info['index'] == i].drop('index',axis=1).reset_index(drop=True).loc[6,col]\n",
    "                total[i] = tmp\n",
    "            menu_board[col] = total\n",
    "        "
   ]
  },
  {
   "cell_type": "code",
   "execution_count": 191,
   "metadata": {},
   "outputs": [
    {
     "data": {
      "text/plain": [
       "'menus.txt'"
      ]
     },
     "execution_count": 191,
     "metadata": {},
     "output_type": "execute_result"
    }
   ],
   "source": [
    "output_lines = []\n",
    "\n",
    "for date, meals in menu_board.items():\n",
    "    #print(date, meals)\n",
    "\n",
    "    for meal, data in meals.items():\n",
    "        # print(meal, data)\n",
    "\n",
    "        menu = ', '.join(data['메뉴'])\n",
    "        calories = data['열량']\n",
    "        line = f\"{date}의 {meal}메뉴는 {menu}이고 열량은 {calories}칼로리입니다.\"\n",
    "\n",
    "        output_lines.append(line)\n",
    "\n",
    "# Save the formatted lines to a text file\n",
    "output_text = '\\n'.join(output_lines)\n",
    "\n",
    "file_path = \"menus.txt\"\n",
    "\n",
    "# Write to file\n",
    "with open(file_path, \"w\") as file:\n",
    "    file.write(output_text)\n",
    "\n",
    "file_path"
   ]
  },
  {
   "cell_type": "code",
   "execution_count": 164,
   "metadata": {},
   "outputs": [],
   "source": [
    "import json\n",
    "with open(\"menu.json\", \"w\", encoding='utf-8') as f:\n",
    "    json.dump(menu_board, f, ensure_ascii=False)"
   ]
  },
  {
   "cell_type": "code",
   "execution_count": 165,
   "metadata": {},
   "outputs": [],
   "source": [
    "# # 읽어오기\n",
    "# with open(\"menu.json\", 'r') as f:\n",
    "#     data = json.load(f)"
   ]
  },
  {
   "cell_type": "markdown",
   "metadata": {},
   "source": [
    "## 원산지 정보"
   ]
  },
  {
   "cell_type": "code",
   "execution_count": 183,
   "metadata": {},
   "outputs": [
    {
     "name": "stderr",
     "output_type": "stream",
     "text": [
      "/var/folders/1b/dx8_94fs0q740wx3lfknk6y40000gn/T/ipykernel_79179/3757473012.py:1: FutureWarning: DataFrame.fillna with 'method' is deprecated and will raise in a future version. Use obj.ffill() or obj.bfill() instead.\n",
      "  info[0].reset_index().fillna(method='ffill')\n"
     ]
    },
    {
     "data": {
      "text/html": [
       "<div>\n",
       "<style scoped>\n",
       "    .dataframe tbody tr th:only-of-type {\n",
       "        vertical-align: middle;\n",
       "    }\n",
       "\n",
       "    .dataframe tbody tr th {\n",
       "        vertical-align: top;\n",
       "    }\n",
       "\n",
       "    .dataframe thead th {\n",
       "        text-align: right;\n",
       "    }\n",
       "</style>\n",
       "<table border=\"1\" class=\"dataframe\">\n",
       "  <thead>\n",
       "    <tr style=\"text-align: right;\">\n",
       "      <th></th>\n",
       "      <th>index</th>\n",
       "      <th>2024-08-05 00:00:00</th>\n",
       "    </tr>\n",
       "  </thead>\n",
       "  <tbody>\n",
       "    <tr>\n",
       "      <th>0</th>\n",
       "      <td>육류</td>\n",
       "      <td>쇠고기 : 사골,잡뼈(수입산/호주) / 양지(수입산/호주) / 우전각,홍두깨,우둔,...</td>\n",
       "    </tr>\n",
       "    <tr>\n",
       "      <th>1</th>\n",
       "      <td>육류</td>\n",
       "      <td>돼지고기 : 국내산</td>\n",
       "    </tr>\n",
       "    <tr>\n",
       "      <th>2</th>\n",
       "      <td>육류</td>\n",
       "      <td>닭 : 국내산</td>\n",
       "    </tr>\n",
       "    <tr>\n",
       "      <th>3</th>\n",
       "      <td>김치류</td>\n",
       "      <td>포기김치 : 배추(국산),고추가루(국산) /  동치미 : 무(국산) / 맛김치(찌개...</td>\n",
       "    </tr>\n",
       "    <tr>\n",
       "      <th>4</th>\n",
       "      <td>김치류</td>\n",
       "      <td>배추겉절이: 배추(국내산),고추가루(중국산) / 얼갈이겉절이: 얼갈이(국내산),고추...</td>\n",
       "    </tr>\n",
       "    <tr>\n",
       "      <th>5</th>\n",
       "      <td>김치류</td>\n",
       "      <td>알타리김치 : 알타리무(국내산),고추가루(국내산) / 깍두기,석박지 : 무(국내산)...</td>\n",
       "    </tr>\n",
       "    <tr>\n",
       "      <th>6</th>\n",
       "      <td>곡류및두부류</td>\n",
       "      <td>쌀 : 국내산  /  두부류 : 두부,연두부,순두부(콩:외국산)</td>\n",
       "    </tr>\n",
       "    <tr>\n",
       "      <th>7</th>\n",
       "      <td>곡류및두부류</td>\n",
       "      <td>잡곡류 : 찹쌀,현미찹쌀,흑미찹쌀,보리,서리태(국내산) / 기장(중국산)</td>\n",
       "    </tr>\n",
       "    <tr>\n",
       "      <th>8</th>\n",
       "      <td>생선류</td>\n",
       "      <td>고등어(국내산) / 오징어(국산)</td>\n",
       "    </tr>\n",
       "    <tr>\n",
       "      <th>9</th>\n",
       "      <td>생선류</td>\n",
       "      <td>동태,코다리(러시아산) / 낙지,쭈꾸미(베트남산) / 꽃게(중국산) / 참조기(국산...</td>\n",
       "    </tr>\n",
       "    <tr>\n",
       "      <th>10</th>\n",
       "      <td>식육가공품</td>\n",
       "      <td>비엔나소세지(계육,돈육 : 국산)/ 옛날소시지(계육:국산)/ 너비아니(돈육 : 국내...</td>\n",
       "    </tr>\n",
       "    <tr>\n",
       "      <th>11</th>\n",
       "      <td>식육가공품</td>\n",
       "      <td>미트볼(돈육,계육 : 국내산)/ 돈까스(돈육:국산)/ 치킨까스(계육:국산)/ 탕수육...</td>\n",
       "    </tr>\n",
       "    <tr>\n",
       "      <th>12</th>\n",
       "      <td>식육가공품</td>\n",
       "      <td>동그랑땡(돈육:국내산)/ 해물동그랑땡(오징어:외국산, 계육:국산)/ 진미채(오징어 ...</td>\n",
       "    </tr>\n",
       "  </tbody>\n",
       "</table>\n",
       "</div>"
      ],
      "text/plain": [
       "     index                                2024-08-05 00:00:00\n",
       "0       육류  쇠고기 : 사골,잡뼈(수입산/호주) / 양지(수입산/호주) / 우전각,홍두깨,우둔,...\n",
       "1       육류                                         돼지고기 : 국내산\n",
       "2       육류                                            닭 : 국내산\n",
       "3      김치류  포기김치 : 배추(국산),고추가루(국산) /  동치미 : 무(국산) / 맛김치(찌개...\n",
       "4      김치류  배추겉절이: 배추(국내산),고추가루(중국산) / 얼갈이겉절이: 얼갈이(국내산),고추...\n",
       "5      김치류  알타리김치 : 알타리무(국내산),고추가루(국내산) / 깍두기,석박지 : 무(국내산)...\n",
       "6   곡류및두부류               쌀 : 국내산  /  두부류 : 두부,연두부,순두부(콩:외국산) \n",
       "7   곡류및두부류          잡곡류 : 찹쌀,현미찹쌀,흑미찹쌀,보리,서리태(국내산) / 기장(중국산) \n",
       "8      생선류                                 고등어(국내산) / 오징어(국산)\n",
       "9      생선류  동태,코다리(러시아산) / 낙지,쭈꾸미(베트남산) / 꽃게(중국산) / 참조기(국산...\n",
       "10   식육가공품  비엔나소세지(계육,돈육 : 국산)/ 옛날소시지(계육:국산)/ 너비아니(돈육 : 국내...\n",
       "11   식육가공품  미트볼(돈육,계육 : 국내산)/ 돈까스(돈육:국산)/ 치킨까스(계육:국산)/ 탕수육...\n",
       "12   식육가공품  동그랑땡(돈육:국내산)/ 해물동그랑땡(오징어:외국산, 계육:국산)/ 진미채(오징어 ..."
      ]
     },
     "execution_count": 183,
     "metadata": {},
     "output_type": "execute_result"
    }
   ],
   "source": [
    "info[0].reset_index().fillna(method='ffill')"
   ]
  },
  {
   "cell_type": "code",
   "execution_count": 184,
   "metadata": {},
   "outputs": [
    {
     "name": "stderr",
     "output_type": "stream",
     "text": [
      "/var/folders/1b/dx8_94fs0q740wx3lfknk6y40000gn/T/ipykernel_79179/1416699369.py:1: FutureWarning: DataFrame.fillna with 'method' is deprecated and will raise in a future version. Use obj.ffill() or obj.bfill() instead.\n",
      "  detail = info[0].reset_index().fillna(method='ffill')\n"
     ]
    }
   ],
   "source": [
    "detail = info[0].reset_index().fillna(method='ffill')"
   ]
  },
  {
   "cell_type": "code",
   "execution_count": 185,
   "metadata": {},
   "outputs": [],
   "source": [
    "detail.columns = ['종류','원산지']"
   ]
  },
  {
   "cell_type": "code",
   "execution_count": 186,
   "metadata": {},
   "outputs": [
    {
     "data": {
      "text/plain": [
       "{'육류': '닭 : 국내산',\n",
       " '김치류': '알타리김치 : 알타리무(국내산),고추가루(국내산) / 깍두기,석박지 : 무(국내산),고추가루(국내산)',\n",
       " '곡류및두부류': '잡곡류 : 찹쌀,현미찹쌀,흑미찹쌀,보리,서리태(국내산) / 기장(중국산) ',\n",
       " '생선류': '동태,코다리(러시아산) / 낙지,쭈꾸미(베트남산) / 꽃게(중국산) / 참조기(국산)/ 참치캔(가다랑어:원양산)/ 아귀(중국산)',\n",
       " '식육가공품': '동그랑땡(돈육:국내산)/ 해물동그랑땡(오징어:외국산, 계육:국산)/ 진미채(오징어 : 페루산)'}"
      ]
     },
     "execution_count": 186,
     "metadata": {},
     "output_type": "execute_result"
    }
   ],
   "source": [
    "detail.set_index('종류').to_dict()['원산지']"
   ]
  },
  {
   "cell_type": "code",
   "execution_count": 189,
   "metadata": {},
   "outputs": [],
   "source": [
    "origin_info = detail.set_index('종류').to_dict()['원산지']"
   ]
  },
  {
   "cell_type": "code",
   "execution_count": 190,
   "metadata": {},
   "outputs": [
    {
     "data": {
      "text/plain": [
       "{'육류': '닭 : 국내산',\n",
       " '김치류': '알타리김치 : 알타리무(국내산),고추가루(국내산) / 깍두기,석박지 : 무(국내산),고추가루(국내산)',\n",
       " '곡류및두부류': '잡곡류 : 찹쌀,현미찹쌀,흑미찹쌀,보리,서리태(국내산) / 기장(중국산) ',\n",
       " '생선류': '동태,코다리(러시아산) / 낙지,쭈꾸미(베트남산) / 꽃게(중국산) / 참조기(국산)/ 참치캔(가다랑어:원양산)/ 아귀(중국산)',\n",
       " '식육가공품': '동그랑땡(돈육:국내산)/ 해물동그랑땡(오징어:외국산, 계육:국산)/ 진미채(오징어 : 페루산)'}"
      ]
     },
     "execution_count": 190,
     "metadata": {},
     "output_type": "execute_result"
    }
   ],
   "source": [
    "origin_info"
   ]
  },
  {
   "cell_type": "code",
   "execution_count": 192,
   "metadata": {},
   "outputs": [
    {
     "name": "stdout",
     "output_type": "stream",
     "text": [
      "Updated text file with origin information saved at: menus.txt\n"
     ]
    }
   ],
   "source": [
    "# Append origin information to the text file\n",
    "with open(file_path, 'a', encoding='utf-8') as file:\n",
    "    file.write('\\n원산지 정보:\\n')\n",
    "    for key, value in origin_info.items():\n",
    "        file.write(f'{key}: {value}\\n')\n",
    "\n",
    "print(f\"Updated text file with origin information saved at: {file_path}\")"
   ]
  }
 ],
 "metadata": {
  "kernelspec": {
   "display_name": ".venv",
   "language": "python",
   "name": "python3"
  },
  "language_info": {
   "codemirror_mode": {
    "name": "ipython",
    "version": 3
   },
   "file_extension": ".py",
   "mimetype": "text/x-python",
   "name": "python",
   "nbconvert_exporter": "python",
   "pygments_lexer": "ipython3",
   "version": "3.12.4"
  }
 },
 "nbformat": 4,
 "nbformat_minor": 2
}
